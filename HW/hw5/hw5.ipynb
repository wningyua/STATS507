{
 "cells": [
  {
   "cell_type": "markdown",
   "metadata": {
    "deletable": false,
    "editable": false,
    "nbgrader": {
     "cell_type": "markdown",
     "checksum": "3e4ef8fdd9b45dee2afbf50f48ac5799",
     "grade": false,
     "grade_id": "cell-341626df9780dcd2",
     "locked": true,
     "schema_version": 3,
     "solution": false,
     "task": false
    }
   },
   "source": [
    "# Homework 5 (35 points + 3 extra credits)"
   ]
  },
  {
   "cell_type": "markdown",
   "metadata": {},
   "source": [
    "name: Ningyuan Wang\n",
    "\n",
    "email: wningyua@umich.edu\n",
    "\n",
    "This homework assignment took me 13 hours in total to complete. (Please help us to gauge the difficulty of the assignment.)"
   ]
  },
  {
   "cell_type": "markdown",
   "metadata": {
    "deletable": false,
    "editable": false,
    "nbgrader": {
     "cell_type": "markdown",
     "checksum": "26bc23022a9b6661beb31f28d255c61a",
     "grade": false,
     "grade_id": "cell-9fc8abaaecff0e9a",
     "locked": true,
     "schema_version": 3,
     "solution": false,
     "task": false
    }
   },
   "source": [
    "## Collaboration Disclosure\n",
    "\n",
    "In the cell below, please list *everyone* with whom you discussed any of the homework problems, excluding only the GSIs and the course instructor. \n",
    "\n",
    "If you did not discuss the homework with anyone else, write __\"I did not discuss this homework with anyone.\"__\n",
    "\n",
    "Even if you discuss questions with other, the code you submit must be only yours. All work is checked with the [MOSS plagiarism detector](https://theory.stanford.edu/~aiken/moss/).)"
   ]
  },
  {
   "cell_type": "markdown",
   "metadata": {},
   "source": [
    "I discussed Extra 1 with Ming-Chen Lu; Extra 2 with Jie Cao. "
   ]
  },
  {
   "cell_type": "markdown",
   "metadata": {
    "deletable": false,
    "editable": false,
    "nbgrader": {
     "cell_type": "markdown",
     "checksum": "67d1cebd5332a880b36d813916b69dbe",
     "grade": false,
     "grade_id": "submission",
     "locked": true,
     "schema_version": 3,
     "solution": false,
     "task": false
    }
   },
   "source": [
    "## Submission Instructions\n",
    "Your homework solutions should be written entirely in this Jupyter notebook file. Once it contains your solutions, you should submit this notebook through Canvas. Before submitting, please make sure make sure __Cells->Run__ executes without errors; errors in your code cause problems for our auto-grader. Thus, even though we may ask you to check for errors in your functions, you should not include in your submission any examples of your functions actually raising those errors.\n",
    "\n",
    "## Nbgrader\n",
    "\n",
    "We will be using `nbgrader` to grade your jupyter notebook. Additional tests will be used at grading time, you are encouraged to read the problem carefully and verify your code covers all appropriate cases.\n",
    "\n",
    "**Be careful:** If a jupyter notebook cell takes longer than `60s` to run, the autograder will not grade it and you will receive zero credit for that question.\n",
    "\n",
    "## Error checking\n",
    "\n",
    "You do not need to do error checking (raising errors, etc.) in your code unless we explicitly ask you to so in a problem."
   ]
  },
  {
   "cell_type": "markdown",
   "metadata": {
    "deletable": false,
    "editable": false,
    "nbgrader": {
     "cell_type": "markdown",
     "checksum": "99a4b1f52b2a51fd259655608d2d5669",
     "grade": false,
     "grade_id": "coding-style",
     "locked": true,
     "schema_version": 3,
     "solution": false,
     "task": false
    }
   },
   "source": [
    "## Coding style\n",
    "Please follow the [PEP8 guidelines](https://www.python.org/dev/peps/pep-0008/). The `pycodestyle_magic` package will remind you if you are not. To install it, run\n",
    "```\n",
    "pip install flake8 pycodestyle_magic\n",
    "```\n",
    "Once it is installed the following two Jupyter directives will enable syntax checking:"
   ]
  },
  {
   "cell_type": "code",
   "execution_count": 77,
   "metadata": {
    "deletable": false,
    "editable": false,
    "nbgrader": {
     "cell_type": "code",
     "checksum": "11f994a1204f00eb8ea040c864033a8d",
     "grade": false,
     "grade_id": "cell-7311e8da28736726",
     "locked": true,
     "schema_version": 3,
     "solution": false,
     "task": false
    }
   },
   "outputs": [
    {
     "name": "stdout",
     "output_type": "stream",
     "text": [
      "The pycodestyle_magic extension is already loaded. To reload it, use:\n",
      "  %reload_ext pycodestyle_magic\n"
     ]
    }
   ],
   "source": [
    "%load_ext pycodestyle_magic\n",
    "%flake8_on --ignore E266 --max_line_length 99"
   ]
  },
  {
   "cell_type": "code",
   "execution_count": 78,
   "metadata": {},
   "outputs": [],
   "source": [
    "import numpy as np\n",
    "import itertools\n",
    "import functools\n",
    "import random\n",
    "import math\n",
    "import scipy.special"
   ]
  },
  {
   "cell_type": "markdown",
   "metadata": {
    "deletable": false,
    "editable": false,
    "nbgrader": {
     "cell_type": "markdown",
     "checksum": "530e40b20f65cf0f585d83bf9491b84e",
     "grade": false,
     "grade_id": "cell-f872858c60d5851a",
     "locked": true,
     "schema_version": 3,
     "solution": false,
     "task": false
    }
   },
   "source": [
    "### Problem 1: Basic Review Questions (10 points)\n",
    "\n",
    "1. <b>(2 points)</b> Write a function called `collatz` takes a positive integer `num` as its argument, and returns a list. Your function should perform appropriate error checking for it. The list is generated as follows: The first element of the list is `num`. Continue doing the following things: if the last element of the list, `number`, is even, then the next element of the list is `number` / 2; if the last element of the list, `number`, is odd, then the next element of the list is 3 * number + 1. Stop when the last element of the list is 1. (Note: We guarantee the length of the list is finite.)"
   ]
  },
  {
   "cell_type": "code",
   "execution_count": 79,
   "metadata": {
    "deletable": false,
    "nbgrader": {
     "cell_type": "code",
     "checksum": "3f58c9e4c71184935f37345b8ec9e3dd",
     "grade": false,
     "grade_id": "cell-108419d75c8da43a",
     "locked": false,
     "schema_version": 3,
     "solution": true,
     "task": false
    }
   },
   "outputs": [],
   "source": [
    "def collatz(num):  # positive integer , error checking\n",
    "    if not isinstance(num, int):\n",
    "        raise TypeError(\"The input should be an integer.\")\n",
    "    if num <= 0:\n",
    "        raise ValueError(\"The input should be a postive integer.\")\n",
    "    ls = []\n",
    "    ls.append(num)\n",
    "\n",
    "    while num != 1:\n",
    "        if num % 2 == 0:  # even\n",
    "            num = num/2\n",
    "            ls.append(num)\n",
    "        else:  # odd\n",
    "            num = 3*num+1\n",
    "            ls.append(num)\n",
    "    return(ls)"
   ]
  },
  {
   "cell_type": "code",
   "execution_count": 80,
   "metadata": {
    "deletable": false,
    "editable": false,
    "nbgrader": {
     "cell_type": "code",
     "checksum": "fde928f87a5967d242c0de9f78f58cba",
     "grade": true,
     "grade_id": "collatz",
     "locked": true,
     "points": 0.5,
     "schema_version": 3,
     "solution": false,
     "task": false
    }
   },
   "outputs": [],
   "source": [
    "assert collatz(3) == [3, 10, 5, 16, 8, 4, 2, 1]"
   ]
  },
  {
   "cell_type": "code",
   "execution_count": 81,
   "metadata": {
    "deletable": false,
    "editable": false,
    "nbgrader": {
     "cell_type": "code",
     "checksum": "9bf163726d94ef63f9081c0a42a7a6d0",
     "grade": true,
     "grade_id": "collatz-value-error",
     "locked": true,
     "points": 0.5,
     "schema_version": 3,
     "solution": false,
     "task": false
    }
   },
   "outputs": [],
   "source": [
    "assert type(collatz(5)) == list"
   ]
  },
  {
   "cell_type": "code",
   "execution_count": 82,
   "metadata": {
    "deletable": false,
    "editable": false,
    "nbgrader": {
     "cell_type": "code",
     "checksum": "663a3d1a7b9e2392833623c1f5182963",
     "grade": true,
     "grade_id": "collatz-type-error",
     "locked": true,
     "points": 0.5,
     "schema_version": 3,
     "solution": false,
     "task": false
    }
   },
   "outputs": [],
   "source": [
    "try:\n",
    "    collatz(-1)\n",
    "\n",
    "except ValueError:\n",
    "    pass\n",
    "\n",
    "else:\n",
    "    raise AssertionError(\"Function allows for negative int as input but it shouldn't.\")"
   ]
  },
  {
   "cell_type": "code",
   "execution_count": 83,
   "metadata": {
    "deletable": false,
    "editable": false,
    "nbgrader": {
     "cell_type": "code",
     "checksum": "835f552decdbcf4b54d3fd8ba586119d",
     "grade": true,
     "grade_id": "cell-d6cb9403c8069e69",
     "locked": true,
     "points": 0.5,
     "schema_version": 3,
     "solution": false,
     "task": false
    }
   },
   "outputs": [],
   "source": [
    "assert collatz(2) == [2, 1]"
   ]
  },
  {
   "cell_type": "markdown",
   "metadata": {
    "deletable": false,
    "editable": false,
    "nbgrader": {
     "cell_type": "markdown",
     "checksum": "0ea4494819c6c6b492c39c2e9dd63717",
     "grade": false,
     "grade_id": "cell-717b29cbe1b171eb",
     "locked": true,
     "schema_version": 3,
     "solution": false,
     "task": false
    }
   },
   "source": [
    "2. <b>(1.5 points)</b> __Casino Game:__ This game in the casino consists of tossing a die with N faces twice. There is a number written on each face of the die (these numbers are not necessarily distinct). In order to win, you must get the number $A$ on the first toss and the number $B$ on the second toss of the die. The excited viewers want to know the probability that you will win the game. Define a function `casino_game` that takes a list of integers  `n`, an integer `a` and an integer `b` as its arguments and returns the probability that you win the game. Your function should perform appropriate error checking. Assume that you get each face of the die with the same probability on each toss and that tosses are mutually independent."
   ]
  },
  {
   "cell_type": "code",
   "execution_count": 84,
   "metadata": {
    "deletable": false,
    "nbgrader": {
     "cell_type": "code",
     "checksum": "7271c2e21808473635329ee2707666da",
     "grade": false,
     "grade_id": "cell-611c0aafe5caa0cc",
     "locked": false,
     "schema_version": 3,
     "solution": true,
     "task": false
    }
   },
   "outputs": [],
   "source": [
    "def casino_game(n, a, b):\n",
    "    if not isinstance(n, list):\n",
    "        raise TypeError(\"Please enter a number list.\")\n",
    "    if not isinstance(a, int):\n",
    "        raise TypeError(\"Please enter an integer number\")\n",
    "    if not isinstance(b, int):\n",
    "        raise TypeError(\"Please enter an integer number\")\n",
    "    if not all(isinstance(x, int) for x in n):\n",
    "        raise TypeError(\"Please enter an integer list.\")\n",
    "    if a not in n or b not in n:\n",
    "        return 0\n",
    "    else:  # a and b are both in n\n",
    "        p1 = n.count(a)/len(n)\n",
    "        p2 = n.count(b)/len(n)\n",
    "        return p1*p2"
   ]
  },
  {
   "cell_type": "code",
   "execution_count": 85,
   "metadata": {
    "deletable": false,
    "editable": false,
    "nbgrader": {
     "cell_type": "code",
     "checksum": "722b1cc755f7df9fde227d8a30857cef",
     "grade": true,
     "grade_id": "casino-game-easy",
     "locked": true,
     "points": 0.5,
     "schema_version": 3,
     "solution": false,
     "task": false
    }
   },
   "outputs": [],
   "source": [
    "assert casino_game([1, 2, 3, 4], 1, 1) == 0.0625"
   ]
  },
  {
   "cell_type": "code",
   "execution_count": 86,
   "metadata": {
    "deletable": false,
    "editable": false,
    "nbgrader": {
     "cell_type": "code",
     "checksum": "ca6c36ef91603a581ce6803f558a7274",
     "grade": true,
     "grade_id": "cell-42f199155837eb9e",
     "locked": true,
     "points": 0.5,
     "schema_version": 3,
     "solution": false,
     "task": false
    }
   },
   "outputs": [],
   "source": [
    "assert casino_game([0, 0, 0, 0, 0, 0, 0, 0, 0, 0, 0, 0], 0, 0) == 1.0"
   ]
  },
  {
   "cell_type": "code",
   "execution_count": 87,
   "metadata": {
    "deletable": false,
    "editable": false,
    "nbgrader": {
     "cell_type": "code",
     "checksum": "fdd5120993bf410d01f0824639a805fb",
     "grade": true,
     "grade_id": "casino-game-type-errors",
     "locked": true,
     "points": 0.5,
     "schema_version": 3,
     "solution": false,
     "task": false
    }
   },
   "outputs": [],
   "source": [
    "try:\n",
    "    casino_game(0, 1, 1)\n",
    "\n",
    "except TypeError:\n",
    "    pass\n",
    "\n",
    "else:\n",
    "    raise AssertionError(\"Function allows for int input where a list is expected.\")"
   ]
  },
  {
   "cell_type": "markdown",
   "metadata": {
    "deletable": false,
    "editable": false,
    "nbgrader": {
     "cell_type": "markdown",
     "checksum": "da752b6e9fe0601c1103895b11aeae54",
     "grade": false,
     "grade_id": "cell-188f60a9744bc73d",
     "locked": true,
     "schema_version": 3,
     "solution": false,
     "task": false
    }
   },
   "source": [
    "3. <b>(2 points)</b> Write a function `dict_comp` that takes a positive integer `n` as its argument and returns a dictionary that contains the numbers (between 1 and `n`) as its keys and the first `n` composite numbers as its values. Your function should perform appropriate error checking for it. Recall that a composite number is any integer $p > 1$ which is not prime; therefore, 4 is the first composite number."
   ]
  },
  {
   "cell_type": "code",
   "execution_count": 88,
   "metadata": {
    "deletable": false,
    "nbgrader": {
     "cell_type": "code",
     "checksum": "33b03db0b1bb92d53d556f5855d47555",
     "grade": false,
     "grade_id": "cell-5129b62a1c02655b",
     "locked": false,
     "schema_version": 3,
     "solution": true,
     "task": false
    }
   },
   "outputs": [],
   "source": [
    "def composites():\n",
    "    (comp, num) = ([], 1)\n",
    "    while True:\n",
    "        (comp, num) = (comp, num+1)\n",
    "        if any(num % x == 0 for x in range(2, num)):\n",
    "            comp.append(num)\n",
    "            yield num\n",
    "\n",
    "\n",
    "def dict_comp(n):  # postive integer\n",
    "    if not isinstance(n, int):\n",
    "        raise TypeError(\"n is not an integer.\")\n",
    "    if n <= 0:\n",
    "        raise ValueError(\"n is not a positive integer.\")\n",
    "    dic = {}\n",
    "    ans = composites()\n",
    "    composite_seq = [next(ans) for _ in range(n)]\n",
    "    for i in range(1, n+1):\n",
    "        dic[i] = composite_seq[i-1]\n",
    "    return dic"
   ]
  },
  {
   "cell_type": "code",
   "execution_count": 89,
   "metadata": {
    "deletable": false,
    "editable": false,
    "nbgrader": {
     "cell_type": "code",
     "checksum": "60756d03b3cbc04255f67efde8929986",
     "grade": true,
     "grade_id": "dict-comp-easy",
     "locked": true,
     "points": 0.5,
     "schema_version": 3,
     "solution": false,
     "task": false
    }
   },
   "outputs": [],
   "source": [
    "assert dict_comp(5) == {1: 4, 2: 6, 3: 8, 4: 9, 5: 10}"
   ]
  },
  {
   "cell_type": "code",
   "execution_count": 90,
   "metadata": {
    "deletable": false,
    "editable": false,
    "nbgrader": {
     "cell_type": "code",
     "checksum": "be3bc248bfee876586e918e2a4143cd5",
     "grade": true,
     "grade_id": "dict-comp-hard",
     "locked": true,
     "points": 0.5,
     "schema_version": 3,
     "solution": false,
     "task": false
    }
   },
   "outputs": [],
   "source": [
    "assert type(dict_comp(3)) == dict"
   ]
  },
  {
   "cell_type": "code",
   "execution_count": 91,
   "metadata": {
    "deletable": false,
    "editable": false,
    "nbgrader": {
     "cell_type": "code",
     "checksum": "b0e7fd1180f3e07d273f03c1e3ad9e46",
     "grade": true,
     "grade_id": "dict-type-errors",
     "locked": true,
     "points": 0.5,
     "schema_version": 3,
     "solution": false,
     "task": false
    }
   },
   "outputs": [],
   "source": [
    "try:\n",
    "    dict_comp([0])\n",
    "\n",
    "except TypeError:\n",
    "    pass\n",
    "\n",
    "else:\n",
    "    raise AssertionError(\"Function allows for string input where an int is expected.\")"
   ]
  },
  {
   "cell_type": "code",
   "execution_count": 92,
   "metadata": {
    "deletable": false,
    "editable": false,
    "nbgrader": {
     "cell_type": "code",
     "checksum": "1a9ef8d9b1245d271e7bc54703926992",
     "grade": true,
     "grade_id": "dict-value-errors",
     "locked": true,
     "points": 0.5,
     "schema_version": 3,
     "solution": false,
     "task": false
    }
   },
   "outputs": [],
   "source": [
    "try:\n",
    "    dict_comp(0)\n",
    "\n",
    "except ValueError:\n",
    "    pass\n",
    "\n",
    "else:\n",
    "    raise AssertionError(\"Value allows for input that is not a positive integer.\")"
   ]
  },
  {
   "cell_type": "markdown",
   "metadata": {
    "deletable": false,
    "editable": false,
    "nbgrader": {
     "cell_type": "markdown",
     "checksum": "7e9f578b84497b4b5f20d62f15fab2bb",
     "grade": false,
     "grade_id": "cell-d6a2bafd42293d76",
     "locked": true,
     "schema_version": 3,
     "solution": false,
     "task": false
    }
   },
   "source": [
    "4. <b>(1 point)</b> Write a one-line expression that computes the sum of the first 10 even square numbers (starting from $2^2$). For ease of grading, please assign the output of this expression to a variable called `even_squares`. Please make sure that the cell that defines even_squares is the one directly above the test case for this question."
   ]
  },
  {
   "cell_type": "code",
   "execution_count": 93,
   "metadata": {
    "deletable": false,
    "nbgrader": {
     "cell_type": "code",
     "checksum": "f2d2aa5a7da1c8b865f1dad82e554e41",
     "grade": false,
     "grade_id": "even-squares",
     "locked": false,
     "schema_version": 3,
     "solution": true,
     "task": false
    }
   },
   "outputs": [],
   "source": [
    "even_squares = sum([n**2 for n in range(1, 11)])"
   ]
  },
  {
   "cell_type": "code",
   "execution_count": 94,
   "metadata": {
    "deletable": false,
    "editable": false,
    "nbgrader": {
     "cell_type": "code",
     "checksum": "4836fe8ee416cdf55591ecbce53e821c",
     "grade": true,
     "grade_id": "cell-6f5cd818d00af6fd",
     "locked": true,
     "points": 1,
     "schema_version": 3,
     "solution": false,
     "task": false
    }
   },
   "outputs": [],
   "source": [
    "# Make sure that the cell that defines even_squares is directly above this one.\n",
    "assert type(even_squares) == int or type(even_squares) == float"
   ]
  },
  {
   "cell_type": "markdown",
   "metadata": {
    "deletable": false,
    "editable": false,
    "nbgrader": {
     "cell_type": "markdown",
     "checksum": "821951907ce7a5a0140d0b57d729a461",
     "grade": false,
     "grade_id": "cell-91ee2c0e84497a83",
     "locked": true,
     "schema_version": 3,
     "solution": false,
     "task": false
    }
   },
   "source": [
    "5. <b>(1 point)</b> Write a generator expression that enumerates the tetrahedral numbers. The n-th tetrahedral number ($n = 1,\\ 2,\\ \\cdots$) is given by $Tn = \\binom{n+2}{3}$， where $\\binom{x}{y}$ is the binomial coefficient\n",
    "$$\\binom{x}{y} = \\frac{x!}{y!(x-y)!}$$\n",
    "For ease of grading, please assign this generator expression to a variable called `tetra`. Hint: you may find it useful to define a generator that enumerates the positive integers."
   ]
  },
  {
   "cell_type": "code",
   "execution_count": 95,
   "metadata": {
    "deletable": false,
    "nbgrader": {
     "cell_type": "code",
     "checksum": "b5069e1d1d8288b086e5fe1e216ffb00",
     "grade": false,
     "grade_id": "cell-2ade7aa604144668",
     "locked": false,
     "schema_version": 3,
     "solution": true,
     "task": false
    }
   },
   "outputs": [],
   "source": [
    "import math\n",
    "\n",
    "\n",
    "def pos_int():\n",
    "    n = 0\n",
    "    while True:\n",
    "        n += 1\n",
    "        yield n\n",
    "\n",
    "\n",
    "x = pos_int()\n",
    "tetra = (math.factorial(n + 2) / (math.factorial(3) * math.factorial(n - 1))for n in x)\n",
    "\n",
    "# [next(tetra) for _ in range(10)]"
   ]
  },
  {
   "cell_type": "code",
   "execution_count": 96,
   "metadata": {
    "deletable": false,
    "editable": false,
    "nbgrader": {
     "cell_type": "code",
     "checksum": "10b4e8d7a47a0439c715f9925f265f9f",
     "grade": true,
     "grade_id": "tetra",
     "locked": true,
     "points": 1,
     "schema_version": 3,
     "solution": false,
     "task": false
    }
   },
   "outputs": [],
   "source": [
    "import types\n",
    "assert isinstance(tetra, types.GeneratorType)"
   ]
  },
  {
   "cell_type": "markdown",
   "metadata": {
    "deletable": false,
    "editable": false,
    "nbgrader": {
     "cell_type": "markdown",
     "checksum": "e43170dc3b5366e82189269abc71457e",
     "grade": false,
     "grade_id": "cell-b9744350ffe8c237",
     "locked": true,
     "schema_version": 3,
     "solution": false,
     "task": false
    }
   },
   "source": [
    "6. <b>(1 point)</b> Write a one-line expression that computes the geometric mean of the first 12 tetrahedral numbers. You may use the generator that you wrote in the previous problem. Re-calling that generator does not count as contributing to the one line requirement. Recall that the geometric mean of a collection of n numbers $a_1,\\ a_2,\\ \\cdots,\\ a_n$ is given by ($\\Pi^n_{i=1} a_i)^{\\frac{1}{n}}$. For ease of grading, please assign the output of this expression to a variable called `tetra_geom`. Please leave the cell that defines tetra_geom directly above the cell that contains the test case for this problem. "
   ]
  },
  {
   "cell_type": "code",
   "execution_count": 97,
   "metadata": {
    "deletable": false,
    "nbgrader": {
     "cell_type": "code",
     "checksum": "019d994c88728d4723846032c904d3fc",
     "grade": false,
     "grade_id": "tetra-geom",
     "locked": false,
     "schema_version": 3,
     "solution": true,
     "task": false
    }
   },
   "outputs": [],
   "source": [
    "# YOUR CODE HERE\n",
    "tetra_geom = functools.reduce(lambda x, y: x*y, [next(tetra) for _ in range(12)])**(1/12)  "
   ]
  },
  {
   "cell_type": "code",
   "execution_count": 98,
   "metadata": {
    "deletable": false,
    "editable": false,
    "nbgrader": {
     "cell_type": "code",
     "checksum": "c20d049dbb65cc692062a679fca43f91",
     "grade": true,
     "grade_id": "tetra-geom-tests",
     "locked": true,
     "points": 1,
     "schema_version": 3,
     "solution": false,
     "task": false
    }
   },
   "outputs": [],
   "source": [
    "# Make sure that tetra_geom is created in the cell directly above this one.\n",
    "assert type(float(tetra_geom)) == float"
   ]
  },
  {
   "cell_type": "markdown",
   "metadata": {
    "deletable": false,
    "editable": false,
    "nbgrader": {
     "cell_type": "markdown",
     "checksum": "4ae97b87bd2404d1c450278cf2c794bf",
     "grade": false,
     "grade_id": "cell-655ad102c67b798c",
     "locked": true,
     "schema_version": 3,
     "solution": false,
     "task": false
    }
   },
   "source": [
    "7. <b>(1.5 points)</b> You are given a string `s`, which contains alphanumeric characters only (this means you can assume that the string will have no spaces). Your task is to sort the string `s` in the following manner:  \n",
    " - All sorted lowercase letters are ahead of uppercase letters.\n",
    " - All sorted uppercase letters are ahead of digits.\n",
    " - All sorted odd digits are ahead of sorted even digits.\n",
    "\n",
    "Write a function called `sort_str`, which takes the string `s` as its argument, and return the result. Your function should perform appropriate error checking for the input."
   ]
  },
  {
   "cell_type": "code",
   "execution_count": 99,
   "metadata": {
    "deletable": false,
    "nbgrader": {
     "cell_type": "code",
     "checksum": "d174297b49a1bdc4e74d371f6b7d0c6f",
     "grade": false,
     "grade_id": "cell-752e6972babe6b23",
     "locked": false,
     "schema_version": 3,
     "solution": true,
     "task": false
    }
   },
   "outputs": [],
   "source": [
    "def sort_str(s):\n",
    "    if not isinstance(s, str):\n",
    "        raise TypeError(\"The input is not a string.\")\n",
    "    low = \"\".join(sorted([c for c in s if c.islower()]))\n",
    "    upp = \"\".join(sorted([c for c in s if c.isupper()]))\n",
    "    dig = \"\".join(sorted([c for c in s if c.isdigit()]))\n",
    "    odd = \"\".join(sorted([d for d in dig if int(d) % 2 != 0]))\n",
    "    even = \"\".join(sorted([d for d in dig if int(d) % 2 == 0]))\n",
    "    return low + upp + odd + even"
   ]
  },
  {
   "cell_type": "code",
   "execution_count": 100,
   "metadata": {
    "deletable": false,
    "editable": false,
    "nbgrader": {
     "cell_type": "code",
     "checksum": "8be6b7071237198f59b454e0108c1f49",
     "grade": true,
     "grade_id": "sort-str",
     "locked": true,
     "points": 1,
     "schema_version": 3,
     "solution": false,
     "task": false
    }
   },
   "outputs": [],
   "source": [
    "assert sort_str('Sorting1234') == 'ginortS1324'"
   ]
  },
  {
   "cell_type": "code",
   "execution_count": 101,
   "metadata": {
    "deletable": false,
    "editable": false,
    "nbgrader": {
     "cell_type": "code",
     "checksum": "36f4feacb74fe8e622ae3c268e18515c",
     "grade": true,
     "grade_id": "sort-str-type-error",
     "locked": true,
     "points": 0.5,
     "schema_version": 3,
     "solution": false,
     "task": false
    }
   },
   "outputs": [],
   "source": [
    "try:\n",
    "    sort_str(123,)\n",
    "\n",
    "except TypeError:\n",
    "    pass\n",
    "\n",
    "else:\n",
    "    raise AssertionError(\"Function allows for int input where string inputs is expected.\")"
   ]
  },
  {
   "cell_type": "markdown",
   "metadata": {
    "deletable": false,
    "editable": false,
    "nbgrader": {
     "cell_type": "markdown",
     "checksum": "9207a5cb4e39073b7a822b0cbbf755e5",
     "grade": false,
     "grade_id": "cell-e8160d0dafca0001",
     "locked": true,
     "schema_version": 3,
     "solution": false,
     "task": false
    }
   },
   "source": [
    "### Problem 2: Fantasy Game (5 points)\n",
    "1. <b>(2 points)</b> __Fantasy Game Inventory:__ You are creating a fantasy video game. The data structure to model the player’s inventory will be a dictionary where the keys are string values describing the item in the inventory and the value is an integer value detailing how many of that item the player has. For example, the dictionary value `{'rope': 1, 'torch': 6, 'gold coin': 42, 'dagger': 1, 'arrow': 12}` means the player has 1 rope, 6 torches, 42 gold coins, and so on. Write a function named `displayInventory` that takes a dictionary `inventory` as its argument and prints out the inventory line by line. Using the example dictionary, it should print it out EXACTLY like the following:\n",
    "\n",
    "Inventory: <br>\n",
    "12 arrow <br>\n",
    "42 gold coin <br>\n",
    "1 rope <br>\n",
    "6 torch <br>\n",
    "1 dagger <br>\n",
    "Total number of items: 62 <br>\n",
    "\n",
    "__Note:__ Your function should raise TypeError if the input is not a dictionary.\n",
    "\n",
    "__Note:__ You will not be graded on the order of the inventory items. The only print order that matters is that \"Inventory:\" is printed before all of the items and the total is printed after all of the items. Everything in between can occur in any order so long as it is accurate."
   ]
  },
  {
   "cell_type": "code",
   "execution_count": 102,
   "metadata": {
    "deletable": false,
    "nbgrader": {
     "cell_type": "code",
     "checksum": "5e68e652be1d738dafeacd9779409bbf",
     "grade": false,
     "grade_id": "cell-d6b22abac7bcf9ea",
     "locked": false,
     "schema_version": 3,
     "solution": true,
     "task": false
    }
   },
   "outputs": [],
   "source": [
    "def display_inventory(inventory):  # error check\n",
    "    if not isinstance(inventory, dict):\n",
    "        raise TypeError(\"Please check your inventory.\")\n",
    "    print(\"Inventory:\\n\")\n",
    "    total = 0\n",
    "    for k, v in inventory.items():\n",
    "        total = total + v\n",
    "        print(\"%d %s \\n\" % (v, k))\n",
    "    print(\"Total number of items: %d\" % total)"
   ]
  },
  {
   "cell_type": "code",
   "execution_count": 103,
   "metadata": {
    "deletable": false,
    "editable": false,
    "nbgrader": {
     "cell_type": "code",
     "checksum": "db460727b2514e25831fb65e98c5d2c4",
     "grade": true,
     "grade_id": "display-inventory",
     "locked": true,
     "points": 1,
     "schema_version": 3,
     "solution": false,
     "task": false
    }
   },
   "outputs": [
    {
     "name": "stdout",
     "output_type": "stream",
     "text": [
      "Inventory:\n",
      "\n",
      "1 rope \n",
      "\n",
      "6 torch \n",
      "\n",
      "42 gold coin \n",
      "\n",
      "1 dagger \n",
      "\n",
      "12 arrow \n",
      "\n",
      "3 map fragments \n",
      "\n",
      "Total number of items: 65\n"
     ]
    }
   ],
   "source": [
    "inventory = {'rope': 1, 'torch': 6, 'gold coin': 42, 'dagger': 1, 'arrow': 12, 'map fragments': 3}\n",
    "assert display_inventory(inventory) is None"
   ]
  },
  {
   "cell_type": "code",
   "execution_count": 104,
   "metadata": {
    "deletable": false,
    "editable": false,
    "nbgrader": {
     "cell_type": "code",
     "checksum": "3b5b929d76ba258f427763a7f5dc0fb9",
     "grade": true,
     "grade_id": "display-error",
     "locked": true,
     "points": 1,
     "schema_version": 3,
     "solution": false,
     "task": false
    }
   },
   "outputs": [],
   "source": [
    "try:\n",
    "    display_inventory([\"1: rope\", \"2: torch\"])\n",
    "\n",
    "except TypeError:\n",
    "    pass\n",
    "\n",
    "else:\n",
    "    raise AssertionError(\"Input of list doesn't raise proper error.\")"
   ]
  },
  {
   "cell_type": "markdown",
   "metadata": {
    "deletable": false,
    "editable": false,
    "nbgrader": {
     "cell_type": "markdown",
     "checksum": "a70c8135887213cc170697ec5d467c3a",
     "grade": false,
     "grade_id": "cell-9b3bb848dcd086f4",
     "locked": true,
     "schema_version": 3,
     "solution": false,
     "task": false
    }
   },
   "source": [
    "2. <b>(3 points)</b> __List to Dictionary Function for Fantasy Game Inventory:__ Imagine that a vanquished dragon’s loot is represented as a list of strings like this: `dragonLoot = ['gold coin', 'dagger', 'gold coin', 'gold coin', 'ruby']`. Write a function named `addToInventory(inventory, added_items)`, where the `inventory` argument is a dictionary representing the player’s inventory (like in the previous question) and the `added_items` argument is a list like dragonLoot. Your function should check to make sure that the types of the input are appropriate (e.g., that inventory is a dictionary and addedItems should be a list of strings). The `addToInventory` function should return a dictionary that represents the updated inventory. __Note:__ the addedItems list can contain multiples of the same item."
   ]
  },
  {
   "cell_type": "code",
   "execution_count": 105,
   "metadata": {
    "deletable": false,
    "nbgrader": {
     "cell_type": "code",
     "checksum": "67a57b2b025cb1368d77b4e95a0b1b26",
     "grade": false,
     "grade_id": "cell-d0f5b2d73004c4e5",
     "locked": false,
     "schema_version": 3,
     "solution": true,
     "task": false
    }
   },
   "outputs": [],
   "source": [
    "def add_to_inventory(inventory, added_items):\n",
    "    if not isinstance(inventory, dict):\n",
    "        raise TypeError(\"Please check your inventory.\")\n",
    "    if not isinstance(added_items, list):\n",
    "        raise TypeError(\"Please check your added items.\")\n",
    "    if not all(isinstance(x, str) for x in added_items):\n",
    "        raise TypeError(\"Please check your items.\")\n",
    "\n",
    "    for item in added_items:\n",
    "        if item in inventory:  # in the dict keys\n",
    "            inventory[item] = inventory[item] + 1\n",
    "        else:\n",
    "            inventory[item] = 1\n",
    "    return inventory"
   ]
  },
  {
   "cell_type": "code",
   "execution_count": 106,
   "metadata": {
    "deletable": false,
    "editable": false,
    "nbgrader": {
     "cell_type": "code",
     "checksum": "34e15ab1d4ef17dd25a685f8312db594",
     "grade": true,
     "grade_id": "add-to-inv-easy",
     "locked": true,
     "points": 1,
     "schema_version": 3,
     "solution": false,
     "task": false
    }
   },
   "outputs": [],
   "source": [
    "inv = {'gold coin': 42, 'rope': 1}\n",
    "dragon_loot = ['gold coin', 'dagger', 'ruby']\n",
    "assert add_to_inventory(inv, dragon_loot) == {'dagger': 1, 'gold coin': 43, 'rope': 1, 'ruby': 1}"
   ]
  },
  {
   "cell_type": "code",
   "execution_count": 107,
   "metadata": {
    "deletable": false,
    "editable": false,
    "nbgrader": {
     "cell_type": "code",
     "checksum": "16d303b565a295eabee23316d470074c",
     "grade": true,
     "grade_id": "add-to-inv-hard",
     "locked": true,
     "points": 1,
     "schema_version": 3,
     "solution": false,
     "task": false
    }
   },
   "outputs": [],
   "source": [
    "inv = {'gold coin': 42, 'rope': 1}\n",
    "dragon_loot = ['gold coin', 'dagger', 'gold coin', 'gold coin', 'ruby']\n",
    "correct_dict = {'dagger': 1, 'gold coin': 45, 'rope': 1, 'ruby': 1}\n",
    "assert add_to_inventory(inv, dragon_loot) == correct_dict"
   ]
  },
  {
   "cell_type": "code",
   "execution_count": 108,
   "metadata": {
    "deletable": false,
    "editable": false,
    "nbgrader": {
     "cell_type": "code",
     "checksum": "25b7dd4b181e8cf9280cd9a73ac857f2",
     "grade": true,
     "grade_id": "add-to-inv-errors",
     "locked": true,
     "points": 0.5,
     "schema_version": 3,
     "solution": false,
     "task": false
    }
   },
   "outputs": [],
   "source": [
    "try:\n",
    "    add_to_inventory([1, 1], ['a', 'b'])\n",
    "\n",
    "except TypeError:\n",
    "    pass\n",
    "\n",
    "else:\n",
    "    raise AssertionError(\"First input is not a dict.\")"
   ]
  },
  {
   "cell_type": "code",
   "execution_count": 109,
   "metadata": {
    "deletable": false,
    "editable": false,
    "nbgrader": {
     "cell_type": "code",
     "checksum": "462e638008a4ee7a952089030ff27367",
     "grade": true,
     "grade_id": "add-to-inv-errors2",
     "locked": true,
     "points": 0.5,
     "schema_version": 3,
     "solution": false,
     "task": false
    }
   },
   "outputs": [],
   "source": [
    "try:\n",
    "    add_to_inventory({'a': 1, 'b': 1}, [2, 3])\n",
    "\n",
    "except ValueError:\n",
    "    pass\n",
    "except TypeError:\n",
    "    pass\n",
    "\n",
    "else:\n",
    "    raise AssertionError(\"Second input is a list of ints where a list of strings is expected.\")"
   ]
  },
  {
   "cell_type": "markdown",
   "metadata": {
    "deletable": false,
    "editable": false,
    "nbgrader": {
     "cell_type": "markdown",
     "checksum": "3f1b0640193394d098645ff0e41548cf",
     "grade": false,
     "grade_id": "cell-60896584717c2ec3",
     "locked": true,
     "schema_version": 3,
     "solution": false,
     "task": false
    }
   },
   "source": [
    "### Problem 3: More Fun with Strings (5 points)\n",
    "1. <b>(2 points)</b> __Merge the Tools:__ Consider the following: A string, $s$, of length $n$  where $s=c_0c_1 \\ldots c_{n-1}$. An integer, $k$ , where $k$ is a factor of $n$. We can split $s$ into $n/k$ subsegments where each subsegment, $t_i$ , consists of a contiguous block of $k$ characters in $s$. Then, use each $t_i$ to create string $u_i$ such that:  \n",
    " - The characters in $u_i$ are a subsequence of the characters in $t_i$.  \n",
    " - Any repeat occurrence of a character is removed from the string such that each character in $u_i$ occurs exactly once. In other words, if the character at some index $j$  in $t_i$  occurs at a previous index $< j$ in $t_i$, then do not include the character in string $u_i$.\n",
    "  \n",
    " Write a function called `str_seg`, which takes the string `s` and the value `k` as its two argument, and return a list containing $\\frac{n}{k}$ elements, where $i$-th element denotes the string $u_i$. __Note:__ You don't need to worry about error checking for this question, but you are welcome to perform some appropriate error checking. This means you can assume s and k will be of correct types in all the test cases and k will be a positive integer."
   ]
  },
  {
   "cell_type": "code",
   "execution_count": 110,
   "metadata": {
    "deletable": false,
    "nbgrader": {
     "cell_type": "code",
     "checksum": "f4dbf0731896864cde1de2ac57c2983a",
     "grade": false,
     "grade_id": "cell-ad502ca49fb8f47e",
     "locked": false,
     "schema_version": 3,
     "solution": true,
     "task": false
    }
   },
   "outputs": [],
   "source": [
    "def str_seg(s, k):\n",
    "    n = len(s)\n",
    "    lst = []\n",
    "    for i in range(0, n, k):\n",
    "        t = ''.join((s[i:i+k]))\n",
    "        if k != 1:\n",
    "            u = t[0]\n",
    "\n",
    "            for i in range(1, len(t)):\n",
    "                if t[i] not in u:\n",
    "                    u = u + t[i]\n",
    "                    lst.append(u)\n",
    "        else:\n",
    "            lst = lst + [t]\n",
    "    return lst"
   ]
  },
  {
   "cell_type": "code",
   "execution_count": 111,
   "metadata": {
    "deletable": false,
    "editable": false,
    "nbgrader": {
     "cell_type": "code",
     "checksum": "f778338d01271719c0711691a38f0ed8",
     "grade": true,
     "grade_id": "empty-string",
     "locked": true,
     "points": 0.5,
     "schema_version": 3,
     "solution": false,
     "task": false
    }
   },
   "outputs": [],
   "source": [
    "assert type(str_seg(\"This is the first test case\", 16)) == list"
   ]
  },
  {
   "cell_type": "code",
   "execution_count": 112,
   "metadata": {
    "deletable": false,
    "editable": false,
    "nbgrader": {
     "cell_type": "code",
     "checksum": "7dd2cd613fc5cf679daef2e52fbeb669",
     "grade": true,
     "grade_id": "str-seg",
     "locked": true,
     "points": 1,
     "schema_version": 3,
     "solution": false,
     "task": false
    }
   },
   "outputs": [],
   "source": [
    "assert str_seg('AABCAAADA', 3) == ['AB', 'CA', 'AD']"
   ]
  },
  {
   "cell_type": "code",
   "execution_count": 113,
   "metadata": {
    "deletable": false,
    "editable": false,
    "nbgrader": {
     "cell_type": "code",
     "checksum": "66ac09c559256bf02a9efc4fd89b6960",
     "grade": true,
     "grade_id": "str-seg-edge-cases",
     "locked": true,
     "points": 0.5,
     "schema_version": 3,
     "solution": false,
     "task": false
    }
   },
   "outputs": [],
   "source": [
    "assert str_seg(\"01234567890\", 1) == ['0', '1', '2', '3', '4', '5', '6', '7', '8', '9', '0']"
   ]
  },
  {
   "cell_type": "markdown",
   "metadata": {
    "deletable": false,
    "editable": false,
    "nbgrader": {
     "cell_type": "markdown",
     "checksum": "f5fcd29c7b9d28dd4eb16e62ea70d9d6",
     "grade": false,
     "grade_id": "cell-179d46ce8252d36e",
     "locked": true,
     "schema_version": 3,
     "solution": false,
     "task": false
    }
   },
   "source": [
    "2. <b>(3 points)</b> __Simple Arithmetics:__ You are given multiple sequences of button presses of a simple pocket calculator that consist of digits and arithmetic operators. For each such sequence find the number it would produce on a pocket calculator's display. __Note that the pocket calculator evaluates the operators in the order in which they are given (i.e., there is no operator precedence (PEMDAS doesn't apply here)).__ Assume that the display of the calculator is large enough to show the result, and that its memory is sufficient to store all intermediate results. Write a function called `simple_arith`, which takes a string as its only argument, and returns the result as a float. In this problem, A string represents one sequence of button presses for a pocket calculator. The sequence consists of non-negative integers and arithmetic operators and ends with an equal sign. __It can also contain spaces to improve readability.__ __The operators only contain \"+-*/\"__, and the operator / represents integer division, rounded down. You may assume that no test case contains division by zero. __Hint:__ you may use `eval()` function. __Note:__ You don't need to worry about error checking for this question, but you are welcome to perform some appropriate error checking. This means you can assume that the input will always be a string with a valid mathematical expression in it."
   ]
  },
  {
   "cell_type": "code",
   "execution_count": 114,
   "metadata": {
    "deletable": false,
    "nbgrader": {
     "cell_type": "code",
     "checksum": "33d2c801165496cadbf98ee6d48a5032",
     "grade": false,
     "grade_id": "cell-c83de32d388931f8",
     "locked": false,
     "schema_version": 3,
     "solution": true,
     "task": false
    }
   },
   "outputs": [],
   "source": [
    "# YOUR CODE HERE\n",
    "def simple_arith(s):\n",
    "    s = s.replace(\" \", \"\")  # remove space\n",
    "    s = s.split('=')[0]  # get the string before =\n",
    "    num = []\n",
    "    operator_ind = [i for i in range(len(s)) if not s[i].isdigit()]\n",
    "    operator_ind.append(0)\n",
    "    operator_ind.append(len(s))\n",
    "    operator_ind = sorted(operator_ind)\n",
    "    for i in range(len(operator_ind)-1):\n",
    "        n = s[operator_ind[i]:operator_ind[i+1]]\n",
    "        num.append(n)\n",
    "#     print(num)\n",
    "    t = num[0]\n",
    "    for i in range(1, len(num)):\n",
    "        t = math.floor(eval(t + num[i]))\n",
    "        t = str(t)\n",
    "    return float(t)  "
   ]
  },
  {
   "cell_type": "code",
   "execution_count": 115,
   "metadata": {
    "deletable": false,
    "editable": false,
    "nbgrader": {
     "cell_type": "code",
     "checksum": "2c1989c36f50be7c569e2778f1968ce2",
     "grade": true,
     "grade_id": "correct-return-type",
     "locked": true,
     "points": 0.5,
     "schema_version": 3,
     "solution": false,
     "task": false
    }
   },
   "outputs": [],
   "source": [
    "assert type(simple_arith(\"5*5=\")) == float"
   ]
  },
  {
   "cell_type": "code",
   "execution_count": 116,
   "metadata": {
    "deletable": false,
    "editable": false,
    "nbgrader": {
     "cell_type": "code",
     "checksum": "17313c0e163f9d304808fbbf24051fc6",
     "grade": true,
     "grade_id": "simple-arith-simple",
     "locked": true,
     "points": 0.5,
     "schema_version": 3,
     "solution": false,
     "task": false
    }
   },
   "outputs": [],
   "source": [
    "assert simple_arith('1+2+3 + 3 + 1*2 =') == 20.0\n",
    "### BEDIN HIDDEN TESTS\n",
    "assert simple_arith('1 / 2 + 2 - 1 * 3 =') == 3.0\n",
    "assert simple_arith('2 - 1 + 1 / 2 * 3 =') == 3.0"
   ]
  },
  {
   "cell_type": "code",
   "execution_count": 117,
   "metadata": {
    "deletable": false,
    "editable": false,
    "nbgrader": {
     "cell_type": "code",
     "checksum": "151e5ba4f00da27e1bcf329f825da92d",
     "grade": true,
     "grade_id": "simple-arith-digits",
     "locked": true,
     "points": 0.5,
     "schema_version": 3,
     "solution": false,
     "task": false
    }
   },
   "outputs": [],
   "source": [
    "assert simple_arith('100-99-10+5=') == -4.0"
   ]
  },
  {
   "cell_type": "code",
   "execution_count": 118,
   "metadata": {
    "deletable": false,
    "editable": false,
    "nbgrader": {
     "cell_type": "code",
     "checksum": "2936c05065916f06166c2ad89bd66546",
     "grade": true,
     "grade_id": "equals-only",
     "locked": true,
     "points": 0.5,
     "schema_version": 3,
     "solution": false,
     "task": false
    }
   },
   "outputs": [],
   "source": [
    "assert simple_arith('9-9/5-5=') == -5.0"
   ]
  },
  {
   "cell_type": "code",
   "execution_count": 119,
   "metadata": {
    "deletable": false,
    "editable": false,
    "nbgrader": {
     "cell_type": "code",
     "checksum": "eee5c2cc0f50e39597f72a7f4e005072",
     "grade": true,
     "grade_id": "simple-arith-hard",
     "locked": true,
     "points": 1,
     "schema_version": 3,
     "solution": false,
     "task": false
    }
   },
   "outputs": [],
   "source": [
    "assert simple_arith(\"5*5/4 =\") == 6.0"
   ]
  },
  {
   "cell_type": "markdown",
   "metadata": {
    "deletable": false,
    "editable": false,
    "nbgrader": {
     "cell_type": "markdown",
     "checksum": "e5e54e592f9fe54dcf80f0ac1d4cb25b",
     "grade": false,
     "grade_id": "cell-b6a3240ba2366be7",
     "locked": true,
     "schema_version": 3,
     "solution": false,
     "task": false
    }
   },
   "source": [
    "### Problem 4: More Practice (15 points)"
   ]
  },
  {
   "cell_type": "markdown",
   "metadata": {
    "deletable": false,
    "editable": false,
    "nbgrader": {
     "cell_type": "markdown",
     "checksum": "cc1adb1d077f812f2825945c6b983f76",
     "grade": false,
     "grade_id": "cell-e51e560c9ed59525",
     "locked": true,
     "schema_version": 3,
     "solution": false,
     "task": false
    }
   },
   "source": [
    "1. <b>(2 points)</b> You are given a string $s$. Suppose a character '$c$' occurs consecutively $x$ times in the string. __In this problem, we assume each character is in '0123456789', representing a number between 0 and 9.__ Replace these consecutive occurrences of the character '$c$' with $(x,c)$ in the string and store into a list. Write a function called `comp_str`, which takes the string `s` as its argument, and return the list containing the replacements. For example, the result of `comp_str('1222311')` is `[(1, 1), (3, 2), (1, 3), (2, 1)]`. Reason: First, the character '1' occurs only once, so it is replaced by (1,1). Then the character '2' occurs three times, and it is replaced by (3,2) and so on. __Hint:__ _itertools.groupby_ might be helpful in this question. __Note:__ You don't need to worry about error checking for this question, but you are welcome to perform some appropriate error checking."
   ]
  },
  {
   "cell_type": "code",
   "execution_count": 120,
   "metadata": {
    "deletable": false,
    "nbgrader": {
     "cell_type": "code",
     "checksum": "7e9d941912e49c5d1839792fdb882d6e",
     "grade": false,
     "grade_id": "cell-988506a92b718ef2",
     "locked": false,
     "schema_version": 3,
     "solution": true,
     "task": false
    }
   },
   "outputs": [],
   "source": [
    "def comp_str(s):\n",
    "    groups = []\n",
    "    keys = []\n",
    "    ls = [c for c in s]\n",
    "    for k, g in itertools.groupby(ls):\n",
    "        keys.append(int(k))\n",
    "        groups.append(len(list(g)))\n",
    "    return [(groups[i], keys[i]) for i in range(len(keys))]"
   ]
  },
  {
   "cell_type": "code",
   "execution_count": 121,
   "metadata": {
    "deletable": false,
    "editable": false,
    "nbgrader": {
     "cell_type": "code",
     "checksum": "394ed02c11e9c2f9a3427b0d3cbcf513",
     "grade": true,
     "grade_id": "comp-str-return",
     "locked": true,
     "points": 0.5,
     "schema_version": 3,
     "solution": false,
     "task": false
    }
   },
   "outputs": [],
   "source": [
    "assert type(comp_str('989898989')) == list"
   ]
  },
  {
   "cell_type": "code",
   "execution_count": 122,
   "metadata": {
    "deletable": false,
    "editable": false,
    "nbgrader": {
     "cell_type": "code",
     "checksum": "792213d235689b5089bf10674df3c189",
     "grade": true,
     "grade_id": "comp-str-easy",
     "locked": true,
     "points": 0.5,
     "schema_version": 3,
     "solution": false,
     "task": false
    }
   },
   "outputs": [],
   "source": [
    "assert comp_str('1222311') == [(1, 1), (3, 2), (1, 3), (2, 1)]"
   ]
  },
  {
   "cell_type": "code",
   "execution_count": 123,
   "metadata": {
    "deletable": false,
    "editable": false,
    "nbgrader": {
     "cell_type": "code",
     "checksum": "4b28a6707fcedae2576d699f41ec9940",
     "grade": true,
     "grade_id": "comp-str-hard",
     "locked": true,
     "points": 0.5,
     "schema_version": 3,
     "solution": false,
     "task": false
    }
   },
   "outputs": [],
   "source": [
    "assert comp_str('2') == [(1, 2)]"
   ]
  },
  {
   "cell_type": "code",
   "execution_count": 124,
   "metadata": {
    "deletable": false,
    "editable": false,
    "nbgrader": {
     "cell_type": "code",
     "checksum": "340c1c5d56d313fe6736d218d6b808ec",
     "grade": true,
     "grade_id": "comp-str-empty",
     "locked": true,
     "points": 0.5,
     "schema_version": 3,
     "solution": false,
     "task": false
    }
   },
   "outputs": [],
   "source": [
    "assert comp_str('030303') == [(1, 0), (1, 3), (1, 0), (1, 3), (1, 0), (1, 3)]"
   ]
  },
  {
   "cell_type": "markdown",
   "metadata": {
    "deletable": false,
    "editable": false,
    "nbgrader": {
     "cell_type": "markdown",
     "checksum": "294d594f3b9b6dd65e26c4e952fac370",
     "grade": false,
     "grade_id": "cell-11b289529949fada",
     "locked": true,
     "schema_version": 3,
     "solution": false,
     "task": false
    }
   },
   "source": [
    "2. <b>(2 points)</b> __The Mirror of Galadriel:__ With water from the stream Galadriel filled the basin to the brim, and breathed on it, and when the water was still again she spoke. 'Here is the Mirror of Galadriel,' she said. 'I have brought you here so that you may look in it, if you will. For this is what your folk would call magic, I believe; though I do not understand clearly what they mean; and they seem also to use the same word of the deceits of the Enemy. But this, if you will, is the magic of Galadriel. Did you not say that you wished to see Elf-magic?' - Galadriel to Frodo and Sam, describing her Mirror. \n",
    "\n",
    " We call a string S magical if every substring of S appears in Galadriel's Mirror (under lateral inversion). In other words, a magical string is a string where every substring has its reverse in the string. Write a function `magical`, that takes a string `s` as its argument, determine if it is magical or not, and return the result: \"Yes\" is it is magical, or \"No\" if it is not magical. For example, `magical('aba')` is 'Yes'. Reason: the list of substrings are : `a, b, ab, ba, aba`. The reverse of each of these strings is present as a substring of S too. __Note:__ You don't need to worry about error checking for this question, but you are welcome to perform some appropriate error checking."
   ]
  },
  {
   "cell_type": "code",
   "execution_count": 125,
   "metadata": {
    "deletable": false,
    "nbgrader": {
     "cell_type": "code",
     "checksum": "670c568374bdcc7da52fc4a7b3c7d362",
     "grade": false,
     "grade_id": "cell-513c33ab888a566f",
     "locked": false,
     "schema_version": 3,
     "solution": true,
     "task": false
    }
   },
   "outputs": [],
   "source": [
    "def magical(s):\n",
    "    # YOUR CODE HERE\n",
    "    subs = []\n",
    "    revs = []\n",
    "    for i in range(len(s)):\n",
    "        for j in range(i+1, len(s)+1):\n",
    "            sub = s[i: j]\n",
    "            subs.append(sub)\n",
    "#     print(subs)\n",
    "    for s in subs:\n",
    "        rev = s[::-1]\n",
    "        revs.append(rev)\n",
    "#     print(revs)\n",
    "    if all(rev in subs for rev in revs):\n",
    "        return \"Yes\"\n",
    "    else:\n",
    "        return \"No\"\n"
   ]
  },
  {
   "cell_type": "code",
   "execution_count": 126,
   "metadata": {
    "deletable": false,
    "editable": false,
    "nbgrader": {
     "cell_type": "code",
     "checksum": "ac04011fc3364bb03179e0e5af6223f6",
     "grade": true,
     "grade_id": "magical-empty",
     "locked": true,
     "points": 0.5,
     "schema_version": 3,
     "solution": false,
     "task": false
    }
   },
   "outputs": [],
   "source": [
    "assert type(magical(\"random string\")) == str"
   ]
  },
  {
   "cell_type": "code",
   "execution_count": 127,
   "metadata": {
    "deletable": false,
    "editable": false,
    "nbgrader": {
     "cell_type": "code",
     "checksum": "327fa67e0f8d3842d1670ef699d87890",
     "grade": true,
     "grade_id": "magical-standard",
     "locked": true,
     "points": 1,
     "schema_version": 3,
     "solution": false,
     "task": false
    }
   },
   "outputs": [],
   "source": [
    "assert magical('aba') == 'Yes'"
   ]
  },
  {
   "cell_type": "code",
   "execution_count": 128,
   "metadata": {
    "deletable": false,
    "editable": false,
    "nbgrader": {
     "cell_type": "code",
     "checksum": "e908cdda4d3ce3ac59f73cddce618266",
     "grade": true,
     "grade_id": "magical-hard",
     "locked": true,
     "points": 0.5,
     "schema_version": 3,
     "solution": false,
     "task": false
    }
   },
   "outputs": [],
   "source": [
    "assert magical('magical') == 'No'"
   ]
  },
  {
   "cell_type": "markdown",
   "metadata": {
    "deletable": false,
    "editable": false,
    "nbgrader": {
     "cell_type": "markdown",
     "checksum": "fadf7bb6451885f4bfd25924b8691257",
     "grade": false,
     "grade_id": "cell-c363454fe35481bd",
     "locked": true,
     "schema_version": 3,
     "solution": false,
     "task": false
    }
   },
   "source": [
    "3. <b>(3 points)</b> Everybody hates Raymond. He’s the largest stamp collector on planet earth and because of that he always makes fun of all the others at the stamp collector parties. Fortunately everybody loves Lucy, and she has a plan. She secretly asks her friends whether they could lend her some stamps, so that she can embarrass Raymond by showing an even larger collection than his. Raymond is so sure about his superiority that he always tells how many stamps he’ll show.And since Lucy knows how many she owns, she knows how many more she needs. She also knows how many friends would lend her some stamps and how many each would lend. But she’s like to borrow from as few friends as possible and if she needs too many then she’d rather not do it at all. Can you tell her the minimum number of friends she needs to borrow from?\n",
    "\n",
    " Write a function called `stamps`, which contains the following arguments: how many stamps Lucy needs to borrow and a list containing the number of stamps each of her friends is offering. This function should return the minimum number of friends Lucy needs to borrow stamps from as an integer. If it’s impossible even if she borrows everything from everybody, return \"Impossible!\" instead. __Note:__ You don't need to worry about error checking for this question, but you are welcome to perform some appropriate error checking."
   ]
  },
  {
   "cell_type": "code",
   "execution_count": 129,
   "metadata": {
    "deletable": false,
    "nbgrader": {
     "cell_type": "code",
     "checksum": "6b02eba93f6515496ce0a703eca6983c",
     "grade": false,
     "grade_id": "cell-84a1624b777aea7c",
     "locked": false,
     "schema_version": 3,
     "solution": true,
     "task": false
    }
   },
   "outputs": [],
   "source": [
    "# YOUR CODE HERE\n",
    "def stamps(num, lst):\n",
    "    offer = sorted(lst, reverse=True)\n",
    "    s = 0\n",
    "    count = 0\n",
    "    for i in range(len(offer)):\n",
    "        s = s + offer[i]\n",
    "        count = count + 1\n",
    "        if s >= num:\n",
    "            return count\n",
    "    if s < num:\n",
    "        return \"Impossible!\""
   ]
  },
  {
   "cell_type": "code",
   "execution_count": 130,
   "metadata": {
    "deletable": false,
    "editable": false,
    "nbgrader": {
     "cell_type": "code",
     "checksum": "f901fb3744dcbda64e21b4bbe37efe7d",
     "grade": true,
     "grade_id": "stampls-long",
     "locked": true,
     "points": 1,
     "schema_version": 3,
     "solution": false,
     "task": false
    }
   },
   "outputs": [],
   "source": [
    "assert type(stamps(4, [1, 1, 1])) == str\n",
    "assert type(stamps(4, [5])) == int"
   ]
  },
  {
   "cell_type": "code",
   "execution_count": 131,
   "metadata": {
    "deletable": false,
    "editable": false,
    "nbgrader": {
     "cell_type": "code",
     "checksum": "87517b21bcd454fb574ab2593c1440f0",
     "grade": true,
     "grade_id": "stample-basic",
     "locked": true,
     "points": 1,
     "schema_version": 3,
     "solution": false,
     "task": false
    }
   },
   "outputs": [],
   "source": [
    "assert stamps(100, [13, 17, 42, 9, 23, 57]) == 3"
   ]
  },
  {
   "cell_type": "code",
   "execution_count": 132,
   "metadata": {
    "deletable": false,
    "editable": false,
    "nbgrader": {
     "cell_type": "code",
     "checksum": "153bd5adf170fb3fa1f93130a911493b",
     "grade": true,
     "grade_id": "stamps-ones",
     "locked": true,
     "points": 1,
     "schema_version": 3,
     "solution": false,
     "task": false
    }
   },
   "outputs": [],
   "source": [
    "assert stamps(4, [1, 1, 1, 1, 1]) == 4"
   ]
  },
  {
   "cell_type": "markdown",
   "metadata": {
    "deletable": false,
    "editable": false,
    "nbgrader": {
     "cell_type": "markdown",
     "checksum": "7ebfdf1e1f7c8d42b0842d72a6089d60",
     "grade": false,
     "grade_id": "cell-e10bd26a8687d9ce",
     "locked": true,
     "schema_version": 3,
     "solution": false,
     "task": false
    }
   },
   "source": [
    "4. <b>(2 points)</b> You are given a grid with R rows (numbered 1 through R) and C columns (numbered 1 through C). A cell in row r and column c is denoted by (r, c). Two cells in the grid are adjacent if they have a common side. For each valid i and j, there is a value $a_{i, j}$ written in cell (i, j). A cell in the grid is stable if the number of cells in the grid which are adjacent to this cell is strictly greater than the value written in this cell. The whole grid is stable if all cells in the grid are stable.\n",
    "\n",
    "    Define a function `is_stable` that takes an r-by-c n numpy array (i.e., an ndarray) as its only argument and returns a Python Boolean that is True if and only if the argument is a stable array."
   ]
  },
  {
   "cell_type": "code",
   "execution_count": 133,
   "metadata": {
    "deletable": false,
    "nbgrader": {
     "cell_type": "code",
     "checksum": "45c7cd935080f0255c9c60484ad7ce4d",
     "grade": false,
     "grade_id": "cell-4e8532c0e87d3f45",
     "locked": false,
     "schema_version": 3,
     "solution": true,
     "task": false
    }
   },
   "outputs": [],
   "source": [
    "# YOUR CODE HERE\n",
    "def is_stable(a):\n",
    "    if not isinstance(a, np.ndarray):\n",
    "        return False\n",
    "    if len(np.shape(a)) != 2:\n",
    "        return False\n",
    "    (r, c) = a.shape\n",
    "    adj = np.ones((r, c))*8  # assume each entry has 8 adjancent cells\n",
    "    for i in range(r):\n",
    "        for j in range(c):\n",
    "            if (i == 0 and j == 0) or (i == r-1 and j == 0) or \\\n",
    "               (i == 0 and j == c-1) or (i == r-1 and j == c-1):\n",
    "                adj[i, j] = 3\n",
    "            elif i == 0 or i == r - 1:\n",
    "                adj[i, j] = adj[i, j] - 3\n",
    "            elif j == 0 or j == c - 1:\n",
    "                adj[i, j] = adj[i, j] - 3\n",
    "    comparison = adj > a\n",
    "    return comparison.all()"
   ]
  },
  {
   "cell_type": "code",
   "execution_count": 134,
   "metadata": {
    "deletable": false,
    "editable": false,
    "nbgrader": {
     "cell_type": "code",
     "checksum": "a36bfd051e7d5b4188f31aabeb8351de",
     "grade": true,
     "grade_id": "basic-example",
     "locked": true,
     "points": 1,
     "schema_version": 3,
     "solution": false,
     "task": false
    }
   },
   "outputs": [],
   "source": [
    "array1 = np.array([1, 0, 0,\n",
    "                   0, 0, 0,\n",
    "                   0, 0, 0]).reshape(3, 3)\n",
    "array2 = np.array([3, 0, 0,\n",
    "                   0, 0, 0,\n",
    "                   0, 0, 0]).reshape(3, 3)\n",
    "\n",
    "\n",
    "assert is_stable(array1)\n",
    "assert not is_stable(array2)"
   ]
  },
  {
   "cell_type": "code",
   "execution_count": 135,
   "metadata": {
    "deletable": false,
    "editable": false,
    "nbgrader": {
     "cell_type": "code",
     "checksum": "73a3645970b23d4bf5f4ab42ff9fc9e1",
     "grade": true,
     "grade_id": "3-by-3",
     "locked": true,
     "points": 0.5,
     "schema_version": 3,
     "solution": false,
     "task": false
    }
   },
   "outputs": [],
   "source": [
    "assert not is_stable(np.array([1., 0., 1.]))"
   ]
  },
  {
   "cell_type": "code",
   "execution_count": 136,
   "metadata": {
    "deletable": false,
    "editable": false,
    "nbgrader": {
     "cell_type": "code",
     "checksum": "7c0771458e49aac05c0e153511e1d877",
     "grade": true,
     "grade_id": "4-by-4",
     "locked": true,
     "points": 0.5,
     "schema_version": 3,
     "solution": false,
     "task": false
    }
   },
   "outputs": [],
   "source": [
    "assert is_stable(np.array([[1, 2, 2, 1], [2, 3, 3, 1], [2, 3, 3, 2], [1, 2, 2, 1]]))"
   ]
  },
  {
   "cell_type": "markdown",
   "metadata": {
    "deletable": false,
    "editable": false,
    "nbgrader": {
     "cell_type": "markdown",
     "checksum": "e8aed15e58c4d023972cc42236c8de76",
     "grade": false,
     "grade_id": "cell-86ee010b7d3e9937",
     "locked": true,
     "schema_version": 3,
     "solution": false,
     "task": false
    }
   },
   "source": [
    "5. <b>(3 points)</b> The Fibonacci sequence $F_0,\\ F_1,\\cdots$ is a special infinite sequence of non-negative integers, where $F_0=0,\\ F_1=1$ and for each integer $n \\ge 2$, $F_n=F_{n−1}+F_{n−2}$. Consider the sequence $D$ of the last decimal digits of the first $N$ Fibonacci numbers, i.e. $D=(F_{0\\%10},F_{1\\%10},…,F_{(N−1)\\%10})$. Now, you should perform the following process: \n",
    " - Let $D=(D_1,D_2,\\cdots,D_l)$.\n",
    " - If $l=1$, the process ends.\n",
    " - Create a new sequence $E=(D_2,D_4,…,D_{2⌊l/2⌋})$. In other words, $E$ is the sequence created by removing all odd-indexed elements from $D$. \n",
    " - Change $D$ to $E$. \n",
    " \n",
    " When this process terminates, the sequence $D$ contains only one number. You have to find this number. Define a function `find_D` that takes a positive integer as its only argument and returns the only number in $D$. Your function should perform appropriate error checking. __Hints:__ Fibonacci's final digits cycle every 60 numbers."
   ]
  },
  {
   "cell_type": "code",
   "execution_count": 137,
   "metadata": {
    "deletable": false,
    "nbgrader": {
     "cell_type": "code",
     "checksum": "30084c9da72abb0d80de55444e6d0913",
     "grade": false,
     "grade_id": "cell-e19142dafbe0c5bd",
     "locked": false,
     "schema_version": 3,
     "solution": true,
     "task": false
    }
   },
   "outputs": [],
   "source": [
    "# YOUR CODE HERE\n",
    "class D_generator():\n",
    "    '''Fibo sequence'''\n",
    "    def __init__(self):\n",
    "        self.f0 = 0\n",
    "        self.f1 = 1\n",
    "\n",
    "    def __next__(self):\n",
    "        self.n = self.f0\n",
    "        (self.f0, self.f1) = (self.f1, self.f0+self.f1)\n",
    "        return (self.n % 10)\n",
    "\n",
    "    def __iter__(self):\n",
    "        return(self)\n",
    "\n",
    "\n",
    "def find_D(n):\n",
    "    if not isinstance(n, int):\n",
    "        raise TypeError(\"Please enter an integer.\")\n",
    "    if n <= 0:\n",
    "        raise ValueError(\"Please enter a positive integer.\")\n",
    "    ans1 = D_generator()\n",
    "    d = [next(ans1) for _ in range(n)]\n",
    "    e = [\"i\", 'n']\n",
    "    while len(e) > 1:\n",
    "        ls = len(d)\n",
    "        if ls == 1:\n",
    "            return 0  # If  𝑙=1 , the process ends.\n",
    "        else:\n",
    "            e = [v for i, v in enumerate(d) if i % 2 != 0]\n",
    "            d = e\n",
    "    return e[0]\n"
   ]
  },
  {
   "cell_type": "code",
   "execution_count": 138,
   "metadata": {
    "deletable": false,
    "editable": false,
    "nbgrader": {
     "cell_type": "code",
     "checksum": "1079deff4fec32b2818f9d510e68ce8c",
     "grade": true,
     "grade_id": "D-edge",
     "locked": true,
     "points": 0.5,
     "schema_version": 3,
     "solution": false,
     "task": false
    }
   },
   "outputs": [],
   "source": [
    "assert type(find_D(4)) == int"
   ]
  },
  {
   "cell_type": "code",
   "execution_count": 139,
   "metadata": {
    "deletable": false,
    "editable": false,
    "nbgrader": {
     "cell_type": "code",
     "checksum": "c1b2884f4d35fafe8b3b4df908290ceb",
     "grade": true,
     "grade_id": "D-basic",
     "locked": true,
     "points": 1,
     "schema_version": 3,
     "solution": false,
     "task": false
    }
   },
   "outputs": [],
   "source": [
    "assert find_D(11) == 3\n",
    "assert find_D(5) == 2"
   ]
  },
  {
   "cell_type": "code",
   "execution_count": 140,
   "metadata": {
    "deletable": false,
    "editable": false,
    "nbgrader": {
     "cell_type": "code",
     "checksum": "0abc52dd46d9b4947088db1b957cdcf8",
     "grade": true,
     "grade_id": "D-difficult",
     "locked": true,
     "points": 0.5,
     "schema_version": 3,
     "solution": false,
     "task": false
    }
   },
   "outputs": [],
   "source": [
    "assert find_D(71) == 2"
   ]
  },
  {
   "cell_type": "code",
   "execution_count": 141,
   "metadata": {
    "deletable": false,
    "editable": false,
    "nbgrader": {
     "cell_type": "code",
     "checksum": "0bea505cfb9d67dfff5144f08d67b89a",
     "grade": true,
     "grade_id": "cell-353f2157b9618d06",
     "locked": true,
     "points": 0.5,
     "schema_version": 3,
     "solution": false,
     "task": false
    }
   },
   "outputs": [],
   "source": [
    "try:\n",
    "    find_D(1.5)\n",
    "\n",
    "except TypeError:\n",
    "    pass\n",
    "\n",
    "else:\n",
    "    raise AssertionError(\"Function doesn't raise TypeError for float input\")"
   ]
  },
  {
   "cell_type": "code",
   "execution_count": 142,
   "metadata": {
    "deletable": false,
    "editable": false,
    "nbgrader": {
     "cell_type": "code",
     "checksum": "14c119dd77a3b89248bffbbed6616e9e",
     "grade": true,
     "grade_id": "D-negative",
     "locked": true,
     "points": 0.5,
     "schema_version": 3,
     "solution": false,
     "task": false
    }
   },
   "outputs": [],
   "source": [
    "try:\n",
    "    find_D(0)\n",
    "\n",
    "except ValueError:\n",
    "    pass\n",
    "\n",
    "else:\n",
    "    raise AssertionError(\"Function doesn't raise ValueError for input of 0\")"
   ]
  },
  {
   "cell_type": "markdown",
   "metadata": {
    "deletable": false,
    "editable": false,
    "nbgrader": {
     "cell_type": "markdown",
     "checksum": "94d3fa50872edcfdc6a04183d978e99a",
     "grade": false,
     "grade_id": "cell-c62ada2572101408",
     "locked": true,
     "schema_version": 3,
     "solution": false,
     "task": false
    }
   },
   "source": [
    "6. <b>(3 points)</b> You are given a function $f(X) = X^2$. You are also given $K$ lists. The $i$-th list consists of $N_i$ elements. You have to pick one element from each list so that the value from the equation below is maximized:\n",
    "$$S=\\left(f\\left(X_{1}\\right)+f\\left(X_{2}\\right)+\\ldots+f\\left(X_{k}\\right)\\right) \\% M$$\n",
    " $X_i$ denotes the element picked from the $i$-th list. Find the maximized value of $S$ obtained. \\% denotes the modulo operator.   Note that you need to take exactly one element from each list, not necessarily the largest element. You add the squares of the chosen elements and perform the modulo operation. The maximum value that you can obtain, will be the answer to the problem.\n",
    "\n",
    " Write a function called `max_mod`, which takes, `M` and $K$ lists as its arguments, and return the maximized value of $S$.\n",
    "\n",
    " For example, `max_mod(1000, [2,5,4], [3,7,8,9], [5,7,8,9,10])` is `206`.  Reason: Picking 5 from the 1-st list, 9 from the 2-nd list and 10 from the 3-rd list gives the maximum S value equal to $\\left(5^{2}+9^{2}+10^{2}\\right) \\% 1000 = 206$. __Hint:__ `itertools.product` might be helpful."
   ]
  },
  {
   "cell_type": "code",
   "execution_count": 143,
   "metadata": {
    "deletable": false,
    "nbgrader": {
     "cell_type": "code",
     "checksum": "22b408ba568b255378e57c3a4905ac31",
     "grade": false,
     "grade_id": "cell-33f9473d081b4ac1",
     "locked": false,
     "schema_version": 3,
     "solution": true,
     "task": false
    }
   },
   "outputs": [],
   "source": [
    "# YOUR CODE HERE\n",
    "def max_mod(M, *K):\n",
    "    k_lst = [k for k in K]\n",
    "    combs = [e for e in itertools.product(*k_lst)]\n",
    "    s = []\n",
    "    for i in range(len(combs)):\n",
    "        res = functools.reduce(lambda x, y: x+y, map(lambda x: x**2, combs[i]))\n",
    "        res = res % M\n",
    "        s.append(res)\n",
    "    return max(s)"
   ]
  },
  {
   "cell_type": "code",
   "execution_count": 144,
   "metadata": {
    "deletable": false,
    "editable": false,
    "nbgrader": {
     "cell_type": "code",
     "checksum": "3c716376a12bdf6ec92314fc196670b8",
     "grade": true,
     "grade_id": "maxmod-basic",
     "locked": true,
     "points": 1,
     "schema_version": 3,
     "solution": false,
     "task": false
    }
   },
   "outputs": [],
   "source": [
    "assert max_mod(10, [2, 6, 3]) == 9"
   ]
  },
  {
   "cell_type": "code",
   "execution_count": 145,
   "metadata": {
    "deletable": false,
    "editable": false,
    "nbgrader": {
     "cell_type": "code",
     "checksum": "2ea46001824e8811fe53948fb55d1837",
     "grade": true,
     "grade_id": "maxmod-edge",
     "locked": true,
     "points": 1,
     "schema_version": 3,
     "solution": false,
     "task": false
    }
   },
   "outputs": [],
   "source": [
    "assert max_mod(1, [2]) == 0"
   ]
  },
  {
   "cell_type": "code",
   "execution_count": 146,
   "metadata": {
    "deletable": false,
    "editable": false,
    "nbgrader": {
     "cell_type": "code",
     "checksum": "31cbb3ebab8c3023f7066fe09ac88c31",
     "grade": true,
     "grade_id": "maxmod-hard",
     "locked": true,
     "points": 1,
     "schema_version": 3,
     "solution": false,
     "task": false
    }
   },
   "outputs": [],
   "source": [
    "assert max_mod(2, [3, 4], [4, 5], [5, 7]) == 1"
   ]
  },
  {
   "cell_type": "markdown",
   "metadata": {},
   "source": [
    "### Problem 5: Extra Credit (3 points)"
   ]
  },
  {
   "cell_type": "markdown",
   "metadata": {
    "deletable": false,
    "editable": false,
    "nbgrader": {
     "cell_type": "markdown",
     "checksum": "41e3abc1d54d4750513f6c3b08133805",
     "grade": false,
     "grade_id": "cell-4fdaeb36fb95f54b",
     "locked": true,
     "schema_version": 3,
     "solution": false,
     "task": false
    }
   },
   "source": [
    "1. <b>(+1 EC point)</b> __Coin Flip Streaks:__ Suppose you flip a coin 100 times and write down an “H” for each heads and “T” for each tails, you’ll create a list that looks like “T T T T H H H H T T.” If you ask a human to make up 100 random coin flips, you’ll probably end up with alternating headtail results like “H T H T H H T H T T,” which looks random (to humans), but isn’t mathematically random. A human will almost never write down a streak of several heads or several tails in a row, even though it is highly likely to happen in truly random coin flips. Humans are predictably bad at being random.\n",
    "\n",
    " Write a function called `coin_streaks`, which takes a positive integer `n` as its only argument. Your function should perform appropriate error checking. Your function breaks up the experiment into two parts: the first part generates a list of randomly selected 'heads' and 'tails' values, and the second part checks if there is a streak in it. Put all of this code in a loop that repeats the experiment 10,000 times so we can find out what percentage of the coin flips contains a streak of $n$ heads or $n$ tails in a row. Return this percentage. As a hint, the function call `random.randint(0, 1)` will return a 0 value 50% of the time and a 1 value the other 50% of the time."
   ]
  },
  {
   "cell_type": "code",
   "execution_count": 147,
   "metadata": {
    "deletable": false,
    "nbgrader": {
     "cell_type": "code",
     "checksum": "c8079fcaa710a5fdc26cd7f7673da638",
     "grade": false,
     "grade_id": "cell-a082c7044b6be7a3",
     "locked": false,
     "schema_version": 3,
     "solution": true,
     "task": false
    }
   },
   "outputs": [],
   "source": [
    "def coin_streaks(n):\n",
    "    if not isinstance(n, int):\n",
    "        raise TypeError(\"Please enter an integer.\")\n",
    "    if n <= 0:\n",
    "        raise ValueError(\"Please enter a positive integer.\")\n",
    "\n",
    "    streak = 0\n",
    "    r = 0\n",
    "\n",
    "    while r < 10000:  # repeat 10000 times\n",
    "        lst = []\n",
    "\n",
    "        for i in range(100):\n",
    "            if random.randint(0, 1) == 0:\n",
    "                lst.append(\"H\")\n",
    "            else:\n",
    "                lst.append(\"T\")\n",
    "\n",
    "        count = 0\n",
    "        for i in range(len(lst)-1):\n",
    "            if lst[i] == lst[i+1]:\n",
    "                count += 1\n",
    "            else:\n",
    "                count = 0\n",
    "            if count == n-1:\n",
    "                break\n",
    "        if count == n-1:\n",
    "            streak = streak + 1\n",
    "        r = r + 1\n",
    "    return (streak / 10000) * 100"
   ]
  },
  {
   "cell_type": "code",
   "execution_count": 148,
   "metadata": {
    "deletable": false,
    "editable": false,
    "nbgrader": {
     "cell_type": "code",
     "checksum": "3b42a34cb176e45f97614c675df92f93",
     "grade": true,
     "grade_id": "coin-streaks",
     "locked": true,
     "points": 1,
     "schema_version": 3,
     "solution": false,
     "task": false
    }
   },
   "outputs": [],
   "source": [
    "# If this cell passes on our end you will get 1 extra credit point."
   ]
  },
  {
   "cell_type": "markdown",
   "metadata": {
    "deletable": false,
    "editable": false,
    "nbgrader": {
     "cell_type": "markdown",
     "checksum": "236704a8b75fbfee8135b64918549d05",
     "grade": false,
     "grade_id": "cell-8b6b2f81b3f6bc8f",
     "locked": true,
     "schema_version": 3,
     "solution": false,
     "task": false
    }
   },
   "source": [
    "2. <b>(+1 EC point)</b> The only printer in the computer science students' union is experiencing an extremely heavy workload. Sometimes there are a hundred jobs in the printer queue and you may have to wait for hours to get a single page of output.\n",
    "\n",
    " Because some jobs are more important than others, the Hacker General has invented and implemented a simple priority system for the print job queue. Now, each job is assigned a priority between 1 and 9 (with 9 being the highest priority, and 1 being the lowest), The first position in the queue is number 0, the second is number 1, and so on. The printer operates as follows.\n",
    "\n",
    " - The first job J in queue is taken from the queue.\n",
    " - If there is some job in the queue with a higher priority than job J, then move J to the end of the queue without printing it.\n",
    " - Otherwise, print job J (and do not put it back in the queue).\n",
    "\n",
    " In this way, all those important muffin recipes that the Hacker General is printing get printed very quickly. Of course, those annoying term papers that others are printing may have to wait for quite some time to get printed, but that's life.\n",
    "\n",
    " Your problem with the new policy is that it has become quite tricky to determine when your print job will actually be completed. You decide to write a program to figure this out. The program will be given the current queue (as a list of priorities) as well as the position of your job in the queue, and must then calculate how long it will take until your job is printed, assuming that no additional jobs will be added to the queue. To simplify matters, we assume that printing a job always takes exactly one minute, and that adding and removing jobs from the queue is instantaneous.\n",
    "\n",
    " Write a function called `printer_queue`, which contains the following arguments: the position of your job, and a list containing integers in the range 1 to 9 giving the priorities of the jobs in the queue (The first integer gives the priority of the first job, the second integer the priority of the second job, and so on). This function should return a number , which is the number of minutes until your job is completely printed, assuming that no additional print jobs will arrive."
   ]
  },
  {
   "cell_type": "code",
   "execution_count": 149,
   "metadata": {
    "deletable": false,
    "nbgrader": {
     "cell_type": "code",
     "checksum": "726dff53a08afed32bfaa53c0f27161b",
     "grade": false,
     "grade_id": "cell-f05d8e72a8786e8b",
     "locked": false,
     "schema_version": 3,
     "solution": true,
     "task": false
    }
   },
   "outputs": [],
   "source": [
    "# YOUR CODE HERE\n",
    "def printer_queue(pos, queue):\n",
    "    if not isinstance(pos, int):\n",
    "        raise TypeError\n",
    "    if not isinstance(queue, list):\n",
    "        raise TypeError\n",
    "    if not all(isinstance(q, int) for q in queue):\n",
    "        raise TypeError\n",
    "    if not all(q > 0 and q < 10 for q in queue):\n",
    "        raise ValueError\n",
    "    job = queue[pos]\n",
    "    before = 0\n",
    "    for i in range(len(queue)):\n",
    "        if queue[i] == job and i < pos:\n",
    "            before = before + 1\n",
    "    pri_lst = sorted(queue, reverse=True)\n",
    "    return pri_lst.index(job) + 1 + before\n",
    "\n",
    "\n",
    "# assert printer_queue(0, [2, 7, 9, 2, 5, 6]) == 5\n",
    "# assert printer_queue(1, [2, 7, 9, 2, 5, 6]) == 2\n",
    "# assert printer_queue(0, [8, 7, 2, 5, 3]) == 1\n",
    "# assert printer_queue(2, [8, 7, 2, 5, 3]) == 5\n",
    "# assert printer_queue(1, [2, 2, 2, 2, 2]) == 2"
   ]
  },
  {
   "cell_type": "code",
   "execution_count": 150,
   "metadata": {
    "deletable": false,
    "editable": false,
    "nbgrader": {
     "cell_type": "code",
     "checksum": "8c5cb37ccb2ca1edb8670effc11920de",
     "grade": true,
     "grade_id": "printer-queue",
     "locked": true,
     "points": 1,
     "schema_version": 3,
     "solution": false,
     "task": false
    }
   },
   "outputs": [],
   "source": [
    "# If this cell passes on our end you will get 1 extra credit point."
   ]
  },
  {
   "cell_type": "markdown",
   "metadata": {
    "deletable": false,
    "editable": false,
    "nbgrader": {
     "cell_type": "markdown",
     "checksum": "7498f8bff499c199edeb3ab5608768f3",
     "grade": false,
     "grade_id": "cell-b2b127d1461c3c56",
     "locked": true,
     "schema_version": 3,
     "solution": false,
     "task": false
    }
   },
   "source": [
    "3. <b>(+1 EC point)</b> Johnny has some difficulty memorizing the small prime numbers. So, his computer science teacher has asked him to play with the following puzzle game frequently. The puzzle is a 3x3 board consisting of numbers from 1 to 9. The objective of the puzzle is to swap the tiles until the following final state is reached:\n",
    "\n",
    " 1 2 3\n",
    "\n",
    " 4 5 6\n",
    "\n",
    " 7 8 9\n",
    "\n",
    " At each step, Johnny may swap two adjacent tiles if their sum is a prime number. Two tiles are considered adjacent if they have a common edge. Help Johnny to figure out whether the given 3-by-3 board can reach the goal state or not. Define a function `solve_puzzle` that takes an 3-by-3 numpy array (i.e., an ndarray) as its only argument and returns Python Boolean that is True if and only if the given 3-by-3 board can reach the goal state. __Hint:__ You can start from the goal state, walk through all the possible states and save them into a global variable. You function just need to judge if the given state is inside the possible states or not."
   ]
  },
  {
   "cell_type": "code",
   "execution_count": 151,
   "metadata": {
    "deletable": false,
    "nbgrader": {
     "cell_type": "code",
     "checksum": "5907d4050afabb28f6dea807afaad200",
     "grade": false,
     "grade_id": "cell-26806f821d6284c0",
     "locked": false,
     "schema_version": 3,
     "solution": true,
     "task": false
    }
   },
   "outputs": [],
   "source": [
    "# YOUR CODE HERE\n"
   ]
  },
  {
   "cell_type": "code",
   "execution_count": 152,
   "metadata": {
    "deletable": false,
    "editable": false,
    "nbgrader": {
     "cell_type": "code",
     "checksum": "0496682ad5fc3650cd489fbbcb3e85d3",
     "grade": true,
     "grade_id": "solve-puzzle",
     "locked": true,
     "points": 1,
     "schema_version": 3,
     "solution": false,
     "task": false
    }
   },
   "outputs": [],
   "source": [
    "# If this cell passes on our end you will get 1 extra credit point."
   ]
  }
 ],
 "metadata": {
  "kernelspec": {
   "display_name": "Python 3",
   "language": "python",
   "name": "python3"
  },
  "language_info": {
   "codemirror_mode": {
    "name": "ipython",
    "version": 3
   },
   "file_extension": ".py",
   "mimetype": "text/x-python",
   "name": "python",
   "nbconvert_exporter": "python",
   "pygments_lexer": "ipython3",
   "version": "3.8.3"
  }
 },
 "nbformat": 4,
 "nbformat_minor": 2
}
