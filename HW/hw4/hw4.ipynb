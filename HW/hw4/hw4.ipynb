{
 "cells": [
  {
   "cell_type": "markdown",
   "metadata": {
    "colab_type": "text",
    "id": "ZhHD4J_XLCBv"
   },
   "source": [
    "# Homework 4: numpy and matplotlib\n",
    "name: Ningyuan Wang\n",
    "\n",
    "email: wningyua@umich.edu\n",
    "\n",
    "I did not discuss this homework with anyone. All work is checked with the [MOSS plagiarism detector](https://theory.stanford.edu/~aiken/moss/).)\n",
    "\n",
    "This homework assignment took me 15 hours in total to complete. (Please help us to gauge the difficulty of the assignment.)"
   ]
  },
  {
   "cell_type": "markdown",
   "metadata": {
    "colab_type": "text",
    "deletable": false,
    "editable": false,
    "id": "HhqZ-jt5LSH3",
    "nbgrader": {
     "cell_type": "markdown",
     "checksum": "11b1581e4711026bee2f57c5c1d246ae",
     "grade": false,
     "grade_id": "cell-09df1ad7e477d32f",
     "locked": true,
     "schema_version": 3,
     "solution": false,
     "task": false
    }
   },
   "source": [
    "## Submission Instructions"
   ]
  },
  {
   "cell_type": "markdown",
   "metadata": {
    "colab_type": "text",
    "deletable": false,
    "editable": false,
    "id": "IypooG19LlDc",
    "nbgrader": {
     "cell_type": "markdown",
     "checksum": "7a2eee2a7a77f20ee3e536097cb972b7",
     "grade": false,
     "grade_id": "cell-28951091c720e5a2",
     "locked": true,
     "schema_version": 3,
     "solution": false,
     "task": false
    }
   },
   "source": [
    "Your homework solutions should be written entirely in this Jupyter notebook file. Once it contains your solutions, you should submit this notebook through Canvas. Before submitting, please make sure make sure __Cells->Run__ executes without errors; errors in your code cause problems for our auto-grader. Thus, even though we may ask you to check for errors in your functions, you should not include in your submission any examples of your functions actually raising those errors.\n",
    "\n",
    "<!-- ## Coding style\n",
    "Please follow the [PEP8 guidelines](https://www.python.org/dev/peps/pep-0008/). The `pycodestyle_magic` package will remind you if you are not. To install it, run\n",
    "```\n",
    "pip install flake8 pycodestyle_magic\n",
    "```\n",
    "Once it is installed the following two Jupyter directives will enable syntax checking: -->\n",
    "\n",
    "## Homework tips \n",
    "\n",
    "1. **Start early!** If you run into trouble installing things or importing packages, it’s\n",
    "best to find those problems well in advance, not the night before your assignment is\n",
    "due when we cannot help you!\n",
    "\n",
    "2. **Make sure you back up your work!** At a minimum, do your work in a Dropbox\n",
    "folder. Better yet, use git, which is well worth your time and effort to learn.\n",
    "\n",
    "3. **Be careful to follow directions!** Remember that Python is case sensitive. If\n",
    "you are ask you to define a function called my_function and you define a function\n",
    "called My_Function, you will not receive full credit. You may want to copy-paste\n",
    "the function names below to make sure that the functions in your notebook match.\n",
    "\n",
    "## Nbgrader\n",
    "\n",
    "We will be using `nbgrader` to grade your jupyter notebook. You will notice some `read-only` cells in the assignment that contain `assert` statements. These are tests that your code must pass for your solution to be correct. If any of the tests fail, you will get an python error and not get points for that question. \n",
    "\n",
    "**Note:** The tests shown not comprehensive, additional tests will be used at grading time. You are encouraged to read the problem carefully and verify your code covers all possible cases.\n",
    "\n",
    "## Matplotlib Questions\n",
    "For questions involving any questions regarding plotting, please store all of your plots in the variables `fig` and `ax`. In short, `fig` lets us see your figure and `ax` lets us see any subplots you might have. If a question requires no subfigures, please use `fig` and write `ax = plt.gca()`. Any additional edits to the plot should be done through fig and ax (mostly ax). For more information, please see the following resource: https://stackoverflow.com/questions/34162443/why-do-many-examples-use-fig-ax-plt-subplots-in-matplotlib-pyplot-python.\n",
    "\n",
    "## Coding style\n",
    "Please follow the [PEP8 guidelines](https://www.python.org/dev/peps/pep-0008/). The `pycodestyle_magic` package will remind you if you are not. To install it, run\n",
    "```\n",
    "pip install flake8 pycodestyle_magic\n",
    "```\n",
    "Once it is installed the following two Jupyter directives will enable syntax checking:"
   ]
  },
  {
   "cell_type": "code",
   "execution_count": 83,
   "metadata": {
    "colab": {
     "base_uri": "https://localhost:8080/",
     "height": 150
    },
    "colab_type": "code",
    "deletable": false,
    "editable": false,
    "executionInfo": {
     "elapsed": 454,
     "status": "ok",
     "timestamp": 1580254543910,
     "user": {
      "displayName": "Zi Wang",
      "photoUrl": "",
      "userId": "11486725180904698367"
     },
     "user_tz": 300
    },
    "id": "rXbprqlPb-zU",
    "nbgrader": {
     "cell_type": "code",
     "checksum": "578ae74ab0afdd36a46bd787340725af",
     "grade": false,
     "grade_id": "cell-c98e57169f77d868",
     "locked": true,
     "schema_version": 3,
     "solution": false,
     "task": false
    },
    "outputId": "442fde86-2357-4b04-c2e9-58b7c5648fe4"
   },
   "outputs": [
    {
     "name": "stdout",
     "output_type": "stream",
     "text": [
      "The pycodestyle_magic extension is already loaded. To reload it, use:\n",
      "  %reload_ext pycodestyle_magic\n"
     ]
    }
   ],
   "source": [
    "%load_ext pycodestyle_magic\n",
    "%flake8_on --ignore E266 --max_line_length 99"
   ]
  },
  {
   "cell_type": "code",
   "execution_count": 84,
   "metadata": {},
   "outputs": [],
   "source": [
    "import numpy as np\n",
    "import scipy\n",
    "import scipy.stats\n",
    "import matplotlib.pyplot as plt"
   ]
  },
  {
   "cell_type": "markdown",
   "metadata": {
    "colab_type": "text",
    "deletable": false,
    "editable": false,
    "id": "tLEjz4sALypC",
    "nbgrader": {
     "cell_type": "markdown",
     "checksum": "bf95594777d16a6086a0f4ba1f3b7c65",
     "grade": false,
     "grade_id": "cell-1cf20f066fe5a5b5",
     "locked": true,
     "schema_version": 3,
     "solution": false,
     "task": false
    }
   },
   "source": [
    "## 1  Warmup: Around the Semicircular Law (6 points)"
   ]
  },
  {
   "cell_type": "markdown",
   "metadata": {
    "colab_type": "text",
    "deletable": false,
    "editable": false,
    "id": "9O86vsfFNvFB",
    "nbgrader": {
     "cell_type": "markdown",
     "checksum": "34393bf6bd27caad5f5a6fe269d47f7c",
     "grade": false,
     "grade_id": "cell-8fb903ee89906f7b",
     "locked": true,
     "schema_version": 3,
     "solution": false,
     "task": false
    }
   },
   "source": [
    "The (comparatively) young field of random matrix theory (RMT) concerns the behavior of certain matrices with independent random entries.\n",
    "A landmark result in RMT concerns the behavior of the eigenvalues of a random symmetric matrix with normal entries. Under the proper scaling, the joint distribution of the eigenvalues of such a matrix follows the Wigner semicircular distribution, which has density\n",
    "\\begin{equation} \n",
    "f(x) = \\begin{cases} \\frac{ \\sqrt{4-x^2} }{ 2\\pi }\n",
    "\t\t\t&\\mbox{ if } -2 \\le x \\le 2 \\\\\n",
    "\t\t0 &\\mbox{ otherwise.} \\end{cases}\n",
    "\\end{equation}\n",
    "That is, a symmetric matrix with random normal entries will have eigenvalues whose histogram looks more and more like a semicircle of radius $2$ as $n$ increases to $\\infty$. In particular, define a matrix-valued random variable $Z \\in R^{n \\times n}$ by generating\n",
    "$Z_{i,j}$ i.i.d. normal with mean $0$ and variance $1/n$ for all $1 \\le i \\le j \\le n$, and set $Z_{j,i} = Z_{i,j}$ for $1 \\le j \\le i \\le n$. Then the matrix $Z \\in R^{n \\times n}$ is called a Wigner matrix."
   ]
  },
  {
   "cell_type": "markdown",
   "metadata": {
    "colab_type": "text",
    "deletable": false,
    "editable": false,
    "id": "cE-U3ZboPbpW",
    "nbgrader": {
     "cell_type": "markdown",
     "checksum": "619c712a253ef6435473db45450e6254",
     "grade": false,
     "grade_id": "cell-a5d103e95efaf69b",
     "locked": true,
     "schema_version": 3,
     "solution": false,
     "task": false
    }
   },
   "source": [
    "1. <b>(1 point)</b> Define a function `wigner_density` that takes a single number (integer or float) as its input and returns a float as its output, given by the value of the semicircular density evaluated at the input. That is, for a number x, `wigner_density(x)` should return $f(x)$, where $f$ is defined above in the Equation. You do not need to perform any error checking in this function, but note that your function should operate equally well on Python ints/floats and on __numpy__ ints/floats, and you should be able to accomplish this without checking the type of the input. Use the `numpy.sqrt` function for the square root, not the Python `math.sqrt` function."
   ]
  },
  {
   "cell_type": "code",
   "execution_count": 85,
   "metadata": {
    "colab": {},
    "colab_type": "code",
    "deletable": false,
    "id": "E38jTPADLDb3",
    "nbgrader": {
     "cell_type": "code",
     "checksum": "9131eee7348a00057e62ba230a987a19",
     "grade": false,
     "grade_id": "hw4-1_1",
     "locked": false,
     "schema_version": 3,
     "solution": true,
     "task": false
    }
   },
   "outputs": [],
   "source": [
    "def wigner_density(x):\n",
    "    if x >= -2. and x <= 2.:\n",
    "        y = np.sqrt(4-np.square(x))/(2 * np.pi)\n",
    "        return y\n",
    "    else:\n",
    "        return 0"
   ]
  },
  {
   "cell_type": "code",
   "execution_count": 86,
   "metadata": {
    "deletable": false,
    "editable": false,
    "nbgrader": {
     "cell_type": "code",
     "checksum": "95e73edf76f8cf451eb57964d80c4876",
     "grade": true,
     "grade_id": "density",
     "locked": true,
     "points": 0.5,
     "schema_version": 3,
     "solution": false,
     "task": false
    }
   },
   "outputs": [],
   "source": [
    "assert wigner_density(2) == 0"
   ]
  },
  {
   "cell_type": "code",
   "execution_count": 87,
   "metadata": {
    "deletable": false,
    "editable": false,
    "nbgrader": {
     "cell_type": "code",
     "checksum": "456cd73e3a85bc1e02224ead8c31e2e0",
     "grade": true,
     "grade_id": "zeros",
     "locked": true,
     "points": 0.5,
     "schema_version": 3,
     "solution": false,
     "task": false
    }
   },
   "outputs": [],
   "source": [
    "assert wigner_density(-5.5) == 0"
   ]
  },
  {
   "cell_type": "markdown",
   "metadata": {
    "colab_type": "text",
    "deletable": false,
    "editable": false,
    "id": "MewYI_XXm91q",
    "nbgrader": {
     "cell_type": "markdown",
     "checksum": "1cc8dbbc341e81f5da8ad70c14769cd1",
     "grade": false,
     "grade_id": "cell-38b0af7ba93bf2c9",
     "locked": true,
     "schema_version": 3,
     "solution": false,
     "task": false
    }
   },
   "source": [
    "2.  <b>(2 points)</b> Define a function `generate_wigner` that takes a single positive integer $n$ as its argument and returns a random $n$-by-$n$ Wigner matrix. Your function should raise an appropriate error in the event that the input is not an integer or if it is not positive. The output of your function may be either a numpy matrix or simply a numpy array. I would slightly recommend the former, for ease of use in the next subproblem. You can cast a 2-dimensional numpy array a to a matrix by writing `np.matrix(a)`. __Hint:__ depending on the solution you choose, you may find the `numpy.triu` and `numpy.tril` functions to be useful. A different solution makes use of the `scipy.spatial.distance.squareform` function."
   ]
  },
  {
   "cell_type": "code",
   "execution_count": 88,
   "metadata": {
    "colab": {},
    "colab_type": "code",
    "deletable": false,
    "id": "Pxw8U895nE0l",
    "nbgrader": {
     "cell_type": "code",
     "checksum": "db471b395f0dbffcea72c3b1493efcf1",
     "grade": false,
     "grade_id": "hw4-1_2",
     "locked": false,
     "schema_version": 3,
     "solution": true,
     "task": false
    }
   },
   "outputs": [],
   "source": [
    "def generate_wigner(n):\n",
    "    # YOUR CODE HERE\n",
    "    if type(n) != int:\n",
    "        raise TypeError(\"Please make sure your input is an integer!\")\n",
    "    elif n <= 0:\n",
    "        raise ValueError(\"Please make sure the dimension is postive!\")\n",
    "    else:\n",
    "        entries = np.random.normal(0., np.sqrt(1/n), (n, n))\n",
    "        wig_matrix = np.matrix(np.triu(entries) + np.tril(entries, -1))\n",
    "        return wig_matrix"
   ]
  },
  {
   "cell_type": "code",
   "execution_count": 89,
   "metadata": {
    "deletable": false,
    "editable": false,
    "nbgrader": {
     "cell_type": "code",
     "checksum": "7b5f10ff5a0a5898b3e4957dce73a2eb",
     "grade": true,
     "grade_id": "wigner-shape",
     "locked": true,
     "points": 0.5,
     "schema_version": 3,
     "solution": false,
     "task": false
    }
   },
   "outputs": [],
   "source": [
    "assert (np.matrix(generate_wigner(6))).shape == (6, 6)"
   ]
  },
  {
   "cell_type": "code",
   "execution_count": 90,
   "metadata": {
    "deletable": false,
    "editable": false,
    "nbgrader": {
     "cell_type": "code",
     "checksum": "07015b2ac41ea8d8a6f96365387b5b9f",
     "grade": true,
     "grade_id": "wigner-errors",
     "locked": true,
     "points": 0.5,
     "schema_version": 3,
     "solution": false,
     "task": false
    }
   },
   "outputs": [],
   "source": [
    "try:\n",
    "    generate_wigner(\"s\")\n",
    "\n",
    "except TypeError:\n",
    "    pass\n",
    "\n",
    "else:\n",
    "    raise AssertionError(\"The input is not of type int.\")"
   ]
  },
  {
   "cell_type": "code",
   "execution_count": 91,
   "metadata": {
    "deletable": false,
    "editable": false,
    "nbgrader": {
     "cell_type": "code",
     "checksum": "c35a3c96a765551dc7755a23bdb713c9",
     "grade": true,
     "grade_id": "wigner-symmetric",
     "locked": true,
     "points": 0.5,
     "schema_version": 3,
     "solution": false,
     "task": false
    }
   },
   "outputs": [],
   "source": [
    "symm = np.matrix(generate_wigner(1))\n",
    "assert (symm == symm.T).all()"
   ]
  },
  {
   "cell_type": "code",
   "execution_count": 92,
   "metadata": {
    "deletable": false,
    "editable": false,
    "nbgrader": {
     "cell_type": "code",
     "checksum": "8d79ae2484d337056238dde356357989",
     "grade": true,
     "grade_id": "wigner-variance",
     "locked": true,
     "points": 0.5,
     "schema_version": 3,
     "solution": false,
     "task": false
    }
   },
   "outputs": [],
   "source": [
    "test = generate_wigner(105)\n",
    "assert np.var(test) > 0"
   ]
  },
  {
   "cell_type": "markdown",
   "metadata": {
    "colab_type": "text",
    "deletable": false,
    "editable": false,
    "id": "R3kQccEvnbwH",
    "nbgrader": {
     "cell_type": "markdown",
     "checksum": "eecca8c996696d596a9d64f991dae41d",
     "grade": false,
     "grade_id": "cell-387d7ea510b55087",
     "locked": true,
     "schema_version": 3,
     "solution": false,
     "task": false
    }
   },
   "source": [
    "3. <b>(2 points)</b> The RMT result referenced above states that the joint distribution of the eigenvalues of a random Wigner matrix converges to the semicircular law. Write a function `get_spectrum` that takes a numpy matrix or 2-dimensional numpy array and returns a numpy array of its eigenvalues in non-decreasing order. You do not need to perform any error checking for this function. You will find the following documentation useful: https://docs.scipy.org/doc/numpy/reference/generated/numpy.linalg.eigh.html#numpy.linalg.eigh."
   ]
  },
  {
   "cell_type": "code",
   "execution_count": 93,
   "metadata": {
    "colab": {},
    "colab_type": "code",
    "deletable": false,
    "id": "IE_NwEl0nm84",
    "nbgrader": {
     "cell_type": "code",
     "checksum": "ecf107fc39e82648a5c08c8752af0396",
     "grade": false,
     "grade_id": "hw4-1_3",
     "locked": false,
     "schema_version": 3,
     "solution": true,
     "task": false
    }
   },
   "outputs": [],
   "source": [
    "# YOUR CODE HERE\n",
    "def get_spectrum(a):  # numpy matrix or 2d array\n",
    "    w, v = np.linalg.eigh(a)\n",
    "    return w"
   ]
  },
  {
   "cell_type": "code",
   "execution_count": 94,
   "metadata": {
    "deletable": false,
    "editable": false,
    "nbgrader": {
     "cell_type": "code",
     "checksum": "d66bf8061b84476aca6723ad81a3a5ca",
     "grade": true,
     "grade_id": "get_spectrum",
     "locked": true,
     "points": 1,
     "schema_version": 3,
     "solution": false,
     "task": false
    }
   },
   "outputs": [],
   "source": [
    "assert (get_spectrum(np.diag([1, 2, 5])) == np.array([1, 2, 5])).all()"
   ]
  },
  {
   "cell_type": "code",
   "execution_count": 95,
   "metadata": {
    "deletable": false,
    "editable": false,
    "nbgrader": {
     "cell_type": "code",
     "checksum": "e4610e45576763085aadc6e3a79b54cd",
     "grade": true,
     "grade_id": "sorted-eigs",
     "locked": true,
     "points": 1,
     "schema_version": 3,
     "solution": false,
     "task": false
    }
   },
   "outputs": [],
   "source": [
    "assert type(get_spectrum(np.matrix([[0, 2], [2, -3]]))) == np.ndarray"
   ]
  },
  {
   "cell_type": "markdown",
   "metadata": {
    "colab_type": "text",
    "deletable": false,
    "editable": false,
    "id": "sbsXWI0fnwle",
    "nbgrader": {
     "cell_type": "markdown",
     "checksum": "cf96e71d2037ff010552cd247e5c9c17",
     "grade": false,
     "grade_id": "cell-34a66c48b45594ba",
     "locked": true,
     "schema_version": 3,
     "solution": false,
     "task": false
    }
   },
   "source": [
    "4. <b>(1 point)</b> Create a plot with four subplots, arranged vertically, each showing a (normalized) histogram, in blue, of the eigenvalues of a\n",
    "\trandom $n$-by-$n$ Wigner matrix for $n=100,200,500$ and $1000$. Store the results of these eigenvalues in variables called `x_100`, `x_200`, `x_500`, and `x_1000`. In each subplot, overlay a red curve indicating the density of the\n",
    "\tsemicircular law, as defined in the Equation. \n",
    "\n",
    "\t__Hint:__ depending on how you implemented `wigner_density` above, you may find the `numpy.vectorize` function helpful.\n",
    "\n",
    "\tHow big does $n$ have to be before the semicircular law appears to be a good fit? Of course, in practice, we would answer this question more rigorously with, for example, a Kolmogorov-Smirnov test, which you can find in the `scipy.stats` module, but that is entirely optional. Store your answer in a variable called `n`.__Note:__ this experiment involves some matrix eigenvalue computations, which are comparatively expensive. If you set $n$ larger than about $5000$, be prepared to wait a few minutes for your answer, especially if you are running on a laptop."
   ]
  },
  {
   "cell_type": "code",
   "execution_count": 96,
   "metadata": {
    "deletable": false,
    "nbgrader": {
     "cell_type": "code",
     "checksum": "b8ba253fff92f8453b3c48c4fbcbd0ac",
     "grade": false,
     "grade_id": "subplots",
     "locked": false,
     "schema_version": 3,
     "solution": true,
     "task": false
    }
   },
   "outputs": [
    {
     "data": {
      "image/png": "[encoded data removed]",
      "text/plain": [
       "<Figure size 648x648 with 4 Axes>"
      ]
     },
     "metadata": {
      "needs_background": "light"
     },
     "output_type": "display_data"
    }
   ],
   "source": [
    "# %matplotlib inline\n",
    "fig, ax = plt.subplots(4, 1, figsize=(9, 9))\n",
    "np.random.seed(507)\n",
    "n_list = [100, 200, 500, 1000]\n",
    "n_wigner = [generate_wigner(n) for n in n_list]\n",
    "n_eigens = [get_spectrum(m) for m in n_wigner]\n",
    "x_100 = n_eigens[0]\n",
    "x_200 = n_eigens[1]\n",
    "x_500 = n_eigens[2]\n",
    "x_1000 = n_eigens[3]\n",
    "\n",
    "x = np.arange(-2, 2, 0.01)\n",
    "wigner_density = np.vectorize(wigner_density)\n",
    "ax[0].hist(x_100, density=True, facecolor=\"b\")\n",
    "ax[0].plot(x, wigner_density(x), \"r\")\n",
    "ax[1].hist(x_200, density=True, facecolor=\"b\")\n",
    "ax[1].plot(x, wigner_density(x), \"r\")\n",
    "ax[2].hist(x_500, density=True, facecolor=\"b\")\n",
    "ax[2].plot(x, wigner_density(x), \"r\")\n",
    "ax[3].hist(x_1000, density=True, facecolor=\"b\")\n",
    "ax[3].plot(x, wigner_density(x), \"r\")\n",
    "plt.show()\n",
    "\n",
    "n = \"Compared to the four plots, n = 1000 is a relative best fit. However, n = 5000 returns to a good fit.\""
   ]
  },
  {
   "cell_type": "code",
   "execution_count": 97,
   "metadata": {
    "deletable": false,
    "editable": false,
    "nbgrader": {
     "cell_type": "code",
     "checksum": "d33012d167f376950beeb0e6dc42f845",
     "grade": true,
     "grade_id": "cell-aaa1ee19c47024e4",
     "locked": true,
     "points": 1,
     "schema_version": 3,
     "solution": false,
     "task": false
    }
   },
   "outputs": [],
   "source": [
    "assert ax.data is not None"
   ]
  },
  {
   "cell_type": "markdown",
   "metadata": {
    "colab_type": "text",
    "deletable": false,
    "editable": false,
    "id": "xKzRuJTWoGHG",
    "nbgrader": {
     "cell_type": "markdown",
     "checksum": "8ec4ab5a7376dacdf4e2622ba80fcb36",
     "grade": false,
     "grade_id": "cell-7f7223494eb225e9",
     "locked": true,
     "schema_version": 3,
     "solution": false,
     "task": false
    }
   },
   "source": [
    "## 2 Plotting a Mixture of Normals (6 points)\n",
    "The whole reason that we use plotting software is to visualize the data that we are working with, so let's do that. The file __points.dlm__ is a tab-delimited file (__.dlm__ stands for “delimited”). Such a format is common when writing reasonably small files, and is useful if you expect to use a data set across different programs or platforms. See the documentation for the command `numpy.loadtxt` to see how\n",
    "to read this file. The file __labels.npy__ is a numpy binary file, representing a `numpy` object. The __.npy__ file format is specific to `numpy`. Many languages (e.g., R and MATLAB) have their own such language-specific file formats for saving variables, workspaces, etc. These formats tend to be more space-efficient, typically at the cost of program-dependence. It is best to avoid such files if you expect to deal with the same data set in several different environments (e.g., you run experiments in MATLAB and do your statistical analysis in R). __.npy__ files are opened using `numpy.load`. \n",
    "\n",
    "The observations in my experiment were generated from a distribution that is _approximately_ normal, but not precisely so. Let's explore how well the normal approximation holds."
   ]
  },
  {
   "cell_type": "markdown",
   "metadata": {
    "colab_type": "text",
    "deletable": false,
    "editable": false,
    "id": "EX1HtY_IoLkA",
    "nbgrader": {
     "cell_type": "markdown",
     "checksum": "99fce0819073e05e953ce2a081498891",
     "grade": false,
     "grade_id": "cell-7adfd4980a9f008a",
     "locked": true,
     "schema_version": 3,
     "solution": false,
     "task": false
    }
   },
   "source": [
    "1. <b>(1 point)</b> Download the .npy and .dlm file, and read the two files into numpy. Please name the result of reading in __labels.npy__ and __points.dlm__ `binaryarray` and `pointarray`, respectively. The former of these should yield a numpy array of $0$s and $1$s, and the latter should yield a $100$-by-$2$ numpy array, in which each row corresponds to a $2$-dimensional point. The $i$-th entry of the array in __labels.npy__ corresponds to the cluster membership label of the $i$-th row of the matrix stored in __points.dlm__."
   ]
  },
  {
   "cell_type": "code",
   "execution_count": 98,
   "metadata": {
    "deletable": false,
    "nbgrader": {
     "cell_type": "code",
     "checksum": "51f6ee9e03e9d711e631758f4cf82fef",
     "grade": false,
     "grade_id": "cell-cc2d0566908a171d",
     "locked": false,
     "schema_version": 3,
     "solution": true,
     "task": false
    }
   },
   "outputs": [],
   "source": [
    "# YOUR CODE HERE\n",
    "pointarray = np.loadtxt(\"points.dlm\")\n",
    "binaryarray = np.load(\"labels.npy\")\n",
    "# pointarray"
   ]
  },
  {
   "cell_type": "code",
   "execution_count": 99,
   "metadata": {
    "colab": {},
    "colab_type": "code",
    "deletable": false,
    "editable": false,
    "id": "PhqbAuL3dTgC",
    "nbgrader": {
     "cell_type": "code",
     "checksum": "c0da477ca7015d1446e10ec9401b5f13",
     "grade": true,
     "grade_id": "cell-fbefaadfeebad214",
     "locked": true,
     "points": 1,
     "schema_version": 3,
     "solution": false,
     "task": false
    }
   },
   "outputs": [],
   "source": [
    "assert pointarray.shape == (100, 2)\n",
    "assert binaryarray.shape == (100,)"
   ]
  },
  {
   "cell_type": "markdown",
   "metadata": {
    "colab_type": "text",
    "deletable": false,
    "editable": false,
    "id": "ltKrAiRBdoC1",
    "nbgrader": {
     "cell_type": "markdown",
     "checksum": "75909eec7327fd40663be05cba64db1f",
     "grade": false,
     "grade_id": "cell-6d710c89352fa9f6",
     "locked": true,
     "schema_version": 3,
     "solution": false,
     "task": false
    }
   },
   "source": [
    "2. <b>(1 point)</b> Generate a scatter plot of the data. Each data point should appear as an __x__ (often called a _cross_ in data visualization packages), colored according to its cluster membership as given by __points.dlm__. The points with cluster label $0$ should be colored blue, and those with cluster label $1$ should be colored red. Set the x and y axes to both range from 0 to 1. Adjust the size of the point markers to what you believe to be reasonable (i.e., aesthetically pleasing, visible, etc)."
   ]
  },
  {
   "cell_type": "code",
   "execution_count": 100,
   "metadata": {
    "deletable": false,
    "nbgrader": {
     "cell_type": "code",
     "checksum": "e78b9fc9c4b17d4144d64695c09e1058",
     "grade": false,
     "grade_id": "cell-21f5a8cb49d770b5",
     "locked": false,
     "schema_version": 3,
     "solution": true,
     "task": false
    }
   },
   "outputs": [
    {
     "data": {
      "image/png": "[encoded data removed]",
      "text/plain": [
       "<Figure size 432x288 with 1 Axes>"
      ]
     },
     "metadata": {
      "needs_background": "light"
     },
     "output_type": "display_data"
    }
   ],
   "source": [
    "# YOUR CODE HERE\n",
    "fig = plt.figure()\n",
    "ax = plt.gca()\n",
    "plt.xlim(0, 1)\n",
    "plt.ylim(0, 1)\n",
    "color_map = {0: 'b', 1: 'r'}\n",
    "label_color = [color_map[b] for b in binaryarray]\n",
    "# plt.scatter(x, y, c=label_color)\n",
    "ax.scatter(pointarray[:, 0], pointarray[:, 1], c=label_color, marker=\"x\")\n",
    "plt.show()"
   ]
  },
  {
   "cell_type": "code",
   "execution_count": 101,
   "metadata": {
    "deletable": false,
    "editable": false,
    "nbgrader": {
     "cell_type": "code",
     "checksum": "64e9778a6ec0a43a75b6805b417c0772",
     "grade": true,
     "grade_id": "cell-8e72a9960c939fad",
     "locked": true,
     "points": 1,
     "schema_version": 3,
     "solution": false,
     "task": false
    }
   },
   "outputs": [],
   "source": [
    "assert ax is not None"
   ]
  },
  {
   "cell_type": "markdown",
   "metadata": {
    "colab_type": "text",
    "deletable": false,
    "editable": false,
    "id": "Kj3uzCgveBsg",
    "nbgrader": {
     "cell_type": "markdown",
     "checksum": "f9c7229a035632261a5a4282f6251d5f",
     "grade": false,
     "grade_id": "cell-40cef67f05675673",
     "locked": true,
     "schema_version": 3,
     "solution": false,
     "task": false
    }
   },
   "source": [
    "3. <b>(2 points)</b> Theoretically, the data should approximate a mixture of normals with means and covariance matrices given by \n",
    "$$ \\mu_0 = (0.2 , 0.7)^T,\n",
    "        \\Sigma_0 = \\begin{bmatrix} 0.015 & -0.011 \\\\\n",
    "                          -0.011  & 0.018 \n",
    "                          \\end{bmatrix}, $$\n",
    "$$ \\mu_1 = (0.65, 0.3)^T,\n",
    "        \\Sigma_1 = \\begin{bmatrix} 0.016 & -0.011 \\\\\n",
    "                          -0.011 & 0.016 \n",
    "                          \\end{bmatrix}. $$\n",
    "For each of these two normal distributions, add two contour lines corresponding to 1 and 2 \"standard deviations\" of the distribution. We will take the 1-standard deviation contour to be the level set (which is an ellipse) of the normal distribution that encloses probability mass 0.68 of the distribution, and the 2-standard deviation contour to be the level set that encloses probability mass 0.95 of the distribution. The contour lines for cluster $0$ should be colored blue, and the lines for cluster $1$ should be colored red. The contour lines will go off the edge of the 1-by-1 square that we have plotted. Do not worry about that. __Hint:__ use the optional argument `levels` for the `pyplot.contour` function. \n",
    "\n",
    "<b>For this question, please use the same fig and ax variables you used in Part 2 of the question. In other words, the result of this part should be the scatterplot and the contours.</b>"
   ]
  },
  {
   "cell_type": "code",
   "execution_count": 102,
   "metadata": {
    "colab": {},
    "colab_type": "code",
    "deletable": false,
    "id": "s54UgfG5d_qj",
    "nbgrader": {
     "cell_type": "code",
     "checksum": "653d069b9564c04edb850364ccf1e9dd",
     "grade": false,
     "grade_id": "cell-de0419f066d5e0db",
     "locked": false,
     "schema_version": 3,
     "solution": true,
     "task": false
    }
   },
   "outputs": [
    {
     "data": {
      "image/png": "[encoded data removed]",
      "text/plain": [
       "<Figure size 432x288 with 1 Axes>"
      ]
     },
     "metadata": {
      "needs_background": "light"
     },
     "output_type": "display_data"
    }
   ],
   "source": [
    "# YOUR CODE HERE\n",
    "fig = plt.figure()\n",
    "ax = plt.gca()\n",
    "mu0 = np.array([0.2, 0.7])\n",
    "sigma0 = np.array([[0.015, -0.011], [-0.011, 0.018]])\n",
    "mvn0 = scipy.stats.multivariate_normal(mu0, sigma0)\n",
    "\n",
    "mu1 = np.array([0.65, 0.3])\n",
    "sigma1 = np.array([[0.016, -0.011], [-0.011, 0.016]])\n",
    "mvn1 = scipy.stats.multivariate_normal(mu1, sigma1)\n",
    "\n",
    "x, y = np.mgrid[0:1:.01, 0:1:.01]\n",
    "pos = np.empty(x.shape + (2,))  # not very sure about this part\n",
    "pos[:, :, 0] = x\n",
    "pos[:, :, 1] = y\n",
    "plt.contour(x, y, mvn0.pdf(pos), levels=[0.6519, 4.172], colors=\"b\")\n",
    "plt.contour(x, y, mvn1.pdf(pos), levels=[0.6849, 4.3833], colors=\"r\")\n",
    "\n",
    "plt.xlim(0, 1)\n",
    "plt.ylim(0, 1)\n",
    "ax.scatter(pointarray[:, 0], pointarray[:, 1], c=label_color, marker=\"x\")\n",
    "plt.show()\n"
   ]
  },
  {
   "cell_type": "code",
   "execution_count": 103,
   "metadata": {
    "deletable": false,
    "editable": false,
    "nbgrader": {
     "cell_type": "code",
     "checksum": "17cfa1bfc762ebcf9864004770056dbe",
     "grade": true,
     "grade_id": "cell-e828d0d96a85223c",
     "locked": true,
     "points": 1.5,
     "schema_version": 3,
     "solution": false,
     "task": false
    }
   },
   "outputs": [],
   "source": [
    "assert ax is not None"
   ]
  },
  {
   "cell_type": "markdown",
   "metadata": {
    "colab_type": "text",
    "deletable": false,
    "editable": false,
    "id": "lXSZL8moeEGL",
    "nbgrader": {
     "cell_type": "markdown",
     "checksum": "56447a8d57993df330d4ae54d2801173",
     "grade": false,
     "grade_id": "cell-a6c8622133bb758f",
     "locked": true,
     "schema_version": 3,
     "solution": false,
     "task": false
    }
   },
   "source": [
    "4. <b>(2 points)</b> Do the data appear normal? Store the boolean answer to this question in a variable called `normal`. There should be at least one obvious outlier. Add an annotation to the top right of your figure indicating one or more such outlier(s)."
   ]
  },
  {
   "cell_type": "code",
   "execution_count": 104,
   "metadata": {
    "deletable": false,
    "nbgrader": {
     "cell_type": "code",
     "checksum": "668ed9a629d6da3a583e1890102dd2c3",
     "grade": false,
     "grade_id": "cell-0fc5f62c3b9cae2c",
     "locked": false,
     "schema_version": 3,
     "solution": true,
     "task": false
    }
   },
   "outputs": [
    {
     "data": {
      "image/png": "[encoded data removed]",
      "text/plain": [
       "<Figure size 432x288 with 1 Axes>"
      ]
     },
     "metadata": {
      "needs_background": "light"
     },
     "output_type": "display_data"
    }
   ],
   "source": [
    "# YOUR CODE HERE: not sure about the top right of the figure indicates the outlier.\n",
    "normal = True\n",
    "\n",
    "fig = plt.figure()\n",
    "ax = plt.gca()\n",
    "plt.contour(x, y, mvn0.pdf(pos), levels=[0.6519, 4.172], colors=\"b\")\n",
    "plt.contour(x, y, mvn1.pdf(pos), levels=[0.6849, 4.3833], colors=\"r\")\n",
    "\n",
    "plt.xlim(0, 1)\n",
    "plt.ylim(0, 1)\n",
    "ax.scatter(pointarray[:, 0], pointarray[:, 1], c=label_color, marker=\"x\")\n",
    "\n",
    "plt.annotate(\"outlier\", xy=(0.98, 0.28), xytext=(0.8, 0.7), fontsize=14,\n",
    "             arrowprops=dict(facecolor=\"black\", shrink=0.02))\n",
    "plt.show()"
   ]
  },
  {
   "cell_type": "code",
   "execution_count": 105,
   "metadata": {
    "deletable": false,
    "editable": false,
    "nbgrader": {
     "cell_type": "code",
     "checksum": "e2265d1160f906154ae71eaca95ccee0",
     "grade": true,
     "grade_id": "cell-3090f90f346dcea4",
     "locked": true,
     "points": 1,
     "schema_version": 3,
     "solution": false,
     "task": false
    }
   },
   "outputs": [],
   "source": [
    "assert type(normal) == bool"
   ]
  },
  {
   "cell_type": "code",
   "execution_count": 106,
   "metadata": {
    "deletable": false,
    "editable": false,
    "nbgrader": {
     "cell_type": "code",
     "checksum": "a83c0c2be016cd6c982efcb509e9288a",
     "grade": true,
     "grade_id": "cell-2f5970cda57960d7",
     "locked": true,
     "points": 1,
     "schema_version": 3,
     "solution": false,
     "task": false
    }
   },
   "outputs": [],
   "source": [
    "assert ax.annotate is not None"
   ]
  },
  {
   "cell_type": "markdown",
   "metadata": {
    "colab_type": "text",
    "deletable": false,
    "editable": false,
    "id": "E0d4e94hfZPO",
    "nbgrader": {
     "cell_type": "markdown",
     "checksum": "43dffde5b456284cb64168777a74eae0",
     "grade": false,
     "grade_id": "cell-d232a69c22717335",
     "locked": true,
     "schema_version": 3,
     "solution": false,
     "task": false
    }
   },
   "source": [
    "## 3. Conway's Game of Life (8 points)\n",
    "Conway's Game of Life (__https://en.wikipedia.org/wiki/Conway%27s_Game_of_Life__) is a classic example of a _cellular automaton_ devised by mathematician John Conway. The game is a classic example of how simple rules can give rise to complex behavior. The game is played on an $m$-by-$n$ board, which we will represent as an $m$-by-$n$ matrix. The game proceeds in steps. At any given time, each cell of the board (i.e., entry of our matrix), is either alive (which we will represent as a $1$) or dead (which we will represent as a $0$).\n",
    "At each step, the board evolves according to a few simple rules:\n",
    "\n",
    "- A live cell with fewer than two live neighbors becomes a dead cell.\n",
    "- A live cell with more than three live neighbors becomes a dead cell.\n",
    "- A live cell with two or three live neighbors remains alive.\n",
    "- A dead cell with _exactly_ three live neighbors becomes alive.\n",
    "- All other dead cells remain dead.\n",
    "\n",
    "The neighbors of a cell are the 8 cells adjacent to it, i.e., left, right, above, below, upper-left, lower-left, upper-right and lower-right. We will follow the convention that the board is _toroidal_, so that using matrix-like notation (i.e., the cell $(0,0)$ is in the upper-left of the board and the first coordinate specifies a row), the upper neighbor of the cell $(0,0)$ is $(m-1,0)$, the right neighbor of the cell $(m-1,n-1)$ is $(m-1,0)$, etc. That is, the board \"wraps around\". __Note:__ you are not required to use this matrix-like indexing. It's just what I chose to use to explain the toroidal property."
   ]
  },
  {
   "cell_type": "markdown",
   "metadata": {
    "colab_type": "text",
    "deletable": false,
    "editable": false,
    "id": "8ODi8Mr4ft30",
    "nbgrader": {
     "cell_type": "markdown",
     "checksum": "2f4adc07cfebd06bc24d668a70324c3e",
     "grade": false,
     "grade_id": "cell-92589c76ff55d215",
     "locked": true,
     "schema_version": 3,
     "solution": false,
     "task": false
    }
   },
   "source": [
    "1. <b>(2 points)</b> Write a function `is_valid_board` that takes an $m$-by-$n$ numpy array (i.e., an __ndarray__) as its only argument and returns a Python Boolean that is __True__ if and only if the argument is a valid representation of a Game of Life board. A valid board is any two-dimensional numpy __ndarray__ of integers with all entries either 0 or 1."
   ]
  },
  {
   "cell_type": "code",
   "execution_count": 107,
   "metadata": {
    "colab": {
     "base_uri": "https://localhost:8080/",
     "height": 150
    },
    "colab_type": "code",
    "deletable": false,
    "executionInfo": {
     "elapsed": 597,
     "status": "ok",
     "timestamp": 1580254653871,
     "user": {
      "displayName": "Zi Wang",
      "photoUrl": "",
      "userId": "11486725180904698367"
     },
     "user_tz": 300
    },
    "id": "zrU-2W08ftNF",
    "nbgrader": {
     "cell_type": "code",
     "checksum": "0e9aa5b27db282556b01b9708c4f9286",
     "grade": false,
     "grade_id": "hw4-3_1",
     "locked": false,
     "schema_version": 3,
     "solution": true,
     "task": false
    },
    "outputId": "bffc7e36-76a4-4980-8a0e-827c45e647e4"
   },
   "outputs": [],
   "source": [
    "def is_valid_board(array):\n",
    "    if not isinstance(array, np.ndarray):\n",
    "        return False\n",
    "    if len(np.shape(array)) != 2:\n",
    "        return False\n",
    "    else:\n",
    "        return np.all(np.logical_or(array == 1., array == 0.))"
   ]
  },
  {
   "cell_type": "code",
   "execution_count": 108,
   "metadata": {
    "deletable": false,
    "editable": false,
    "nbgrader": {
     "cell_type": "code",
     "checksum": "e8191d67f31e5dfc61de51665dc23449",
     "grade": true,
     "grade_id": "is_valid_board",
     "locked": true,
     "points": 0.5,
     "schema_version": 3,
     "solution": false,
     "task": false
    }
   },
   "outputs": [],
   "source": [
    "assert is_valid_board(np.array([1, 1, 1, 1]).reshape(2, 2))"
   ]
  },
  {
   "cell_type": "code",
   "execution_count": 109,
   "metadata": {
    "deletable": false,
    "editable": false,
    "nbgrader": {
     "cell_type": "code",
     "checksum": "4003fb185d1f28439a6e8c98176f908c",
     "grade": true,
     "grade_id": "false_and_error",
     "locked": true,
     "points": 1,
     "schema_version": 3,
     "solution": false,
     "task": false
    }
   },
   "outputs": [],
   "source": [
    "assert not is_valid_board(123)"
   ]
  },
  {
   "cell_type": "code",
   "execution_count": 110,
   "metadata": {
    "deletable": false,
    "editable": false,
    "nbgrader": {
     "cell_type": "code",
     "checksum": "fe899324701c38b47462cdb248a680a7",
     "grade": true,
     "grade_id": "cell-fe9ae35ed043d917",
     "locked": true,
     "points": 0.5,
     "schema_version": 3,
     "solution": false,
     "task": false
    }
   },
   "outputs": [],
   "source": [
    "assert not is_valid_board([[1, 1], [1, 1]])"
   ]
  },
  {
   "cell_type": "markdown",
   "metadata": {
    "colab_type": "text",
    "deletable": false,
    "editable": false,
    "id": "w8JgZGofhPVh",
    "nbgrader": {
     "cell_type": "markdown",
     "checksum": "1b336ea6506ff59fdadfe59c30f6ba6f",
     "grade": false,
     "grade_id": "cell-0afd3cf55a84f189",
     "locked": true,
     "schema_version": 3,
     "solution": false,
     "task": false
    }
   },
   "source": [
    "2. <b>(3 points)</b> Write a function called `gol_step` that takes an $m$-by-$n$ __numpy__ array as its argument and returns another __numpy__ array of the same size (i.e., also $m$-by-$n$), corresponding to the board at the next step of the game. Your function should perform error checking to ensure that the provided argument is a valid Game of Life board."
   ]
  },
  {
   "cell_type": "code",
   "execution_count": 111,
   "metadata": {
    "colab": {},
    "colab_type": "code",
    "deletable": false,
    "id": "8sDRPTLZgMBT",
    "nbgrader": {
     "cell_type": "code",
     "checksum": "cb3e9adc9f6e741eae4f04b2703982e8",
     "grade": false,
     "grade_id": "hw4-3_2",
     "locked": false,
     "schema_version": 3,
     "solution": true,
     "task": false
    }
   },
   "outputs": [],
   "source": [
    "# YOUR CODE HERE\n",
    "def gol_step(arr):\n",
    "    if not is_valid_board(arr):\n",
    "        raise TypeError(\"Please check your input array.\")\n",
    "    (m, n) = arr.shape\n",
    "    board = np.zeros((m, n))\n",
    "    for i in range(m):\n",
    "        for j in range(n):\n",
    "            # check the board values\n",
    "            neb_sum = arr[(i-1) % m, (j-1) % n] + arr[(i-1) % m, j] + arr[(i-1) % m, (j+1) % n] +\\\n",
    "                      arr[i, (j-1) % n] + arr[i, (j+1) % n] +\\\n",
    "                      arr[(i+1) % m, (j-1) % n] + arr[(i+1) % m, j] + arr[(i+1) % m, (j+1) % n]\n",
    "            if arr[i, j] == 1 and (neb_sum == 2 or neb_sum == 3):\n",
    "                board[i, j] = 1\n",
    "            elif arr[i, j] == 0 and neb_sum == 3:\n",
    "                board[i, j] = 1\n",
    "    return board"
   ]
  },
  {
   "cell_type": "code",
   "execution_count": 112,
   "metadata": {
    "deletable": false,
    "editable": false,
    "nbgrader": {
     "cell_type": "code",
     "checksum": "7d0acf0c4998b57c3e1590f3a321467b",
     "grade": true,
     "grade_id": "gol_step",
     "locked": true,
     "points": 1,
     "schema_version": 3,
     "solution": false,
     "task": false
    }
   },
   "outputs": [],
   "source": [
    "myboard = np.array([1, 1, 1, 1, 0, 0, 0, 1, 0, 0, 0, 0, 0, 1, 0, 0]).reshape(4, 4)\n",
    "myboardans = np.array([0, 1, 0, 1, 0, 1, 0, 1, 0, 0, 0, 0, 0, 1, 0, 1]).reshape(4, 4)\n",
    "assert not sum(sum((gol_step(myboard) - myboardans)**2))"
   ]
  },
  {
   "cell_type": "code",
   "execution_count": 113,
   "metadata": {
    "deletable": false,
    "editable": false,
    "nbgrader": {
     "cell_type": "code",
     "checksum": "52289956eefa4b7810d125c1cd398f8f",
     "grade": true,
     "grade_id": "gol_step_edge",
     "locked": true,
     "points": 1,
     "schema_version": 3,
     "solution": false,
     "task": false
    }
   },
   "outputs": [],
   "source": [
    "ins = np.array([[1.]])\n",
    "assert int(gol_step(ins)) == 0\n"
   ]
  },
  {
   "cell_type": "code",
   "execution_count": 114,
   "metadata": {
    "deletable": false,
    "editable": false,
    "nbgrader": {
     "cell_type": "code",
     "checksum": "91f784c014418b9737f8d6c2686f7556",
     "grade": true,
     "grade_id": "gol_step_error",
     "locked": true,
     "points": 1,
     "schema_version": 3,
     "solution": false,
     "task": false
    }
   },
   "outputs": [],
   "source": [
    "try:\n",
    "    gol_step(89)\n",
    "\n",
    "except TypeError:\n",
    "    pass\n",
    "\n",
    "else:\n",
    "    raise AssertionError(\"The input is not a valid Game of Life Board\")"
   ]
  },
  {
   "cell_type": "markdown",
   "metadata": {
    "colab_type": "text",
    "deletable": false,
    "editable": false,
    "id": "FlH56tSthQd6",
    "nbgrader": {
     "cell_type": "markdown",
     "checksum": "594855b33fc54d763e7521d652f8b3dc",
     "grade": false,
     "grade_id": "cell-aaa38b24d9beaf9e",
     "locked": true,
     "schema_version": 3,
     "solution": false,
     "task": false
    }
   },
   "source": [
    "3. <b>(1 point)</b> Write a function called `draw_gol_board` that takes an $m$-by-$n$ __numpy__ array (i.e., an __ndarray__) as its only argument and draws the board as an $m$-by-$n$ set of tiles, colored black or white correspond to whether the corresponding cell is alive or dead, respectively. Your plot should _not_ have any grid lines, nor should it have any axis labels or axis ticks. __Hint:__ see the functions `plt.xticks()` and `plt.yticks()` for changing axis ticks. __Hint:__ you may find the function `plt.get_cmap` to be useful for working with the __matplotlib__ __Colormap__ objects."
   ]
  },
  {
   "cell_type": "code",
   "execution_count": 115,
   "metadata": {
    "colab": {},
    "colab_type": "code",
    "deletable": false,
    "id": "-5kO-fL_hQ5D",
    "nbgrader": {
     "cell_type": "code",
     "checksum": "0f21152fdc874cfe58ab47886832cf0c",
     "grade": false,
     "grade_id": "hw4-3_3",
     "locked": false,
     "schema_version": 3,
     "solution": true,
     "task": false
    }
   },
   "outputs": [],
   "source": [
    "from matplotlib import colors\n",
    "\n",
    "\n",
    "def draw_gol_board(arr):\n",
    "    if not is_valid_board(arr):\n",
    "        raise TypeError(\"Please check your input array.\")\n",
    "    else:\n",
    "        plt.imshow(arr, cmap=colors.ListedColormap(['white', 'black']))\n",
    "        plt.xticks([])\n",
    "        plt.yticks([])\n"
   ]
  },
  {
   "cell_type": "code",
   "execution_count": 116,
   "metadata": {
    "deletable": false,
    "editable": false,
    "nbgrader": {
     "cell_type": "code",
     "checksum": "82a35d0964c6bbf209adfba52a2f60c1",
     "grade": true,
     "grade_id": "cell-22035a7467aaaf5f",
     "locked": true,
     "points": 1,
     "schema_version": 3,
     "solution": false,
     "task": false
    }
   },
   "outputs": [
    {
     "data": {
      "image/png": "[encoded data removed]",
      "text/plain": [
       "<Figure size 432x288 with 1 Axes>"
      ]
     },
     "metadata": {},
     "output_type": "display_data"
    }
   ],
   "source": [
    "fig = draw_gol_board(np.array([[1, 1, 0]]))\n",
    "ax = plt.gca()\n",
    "assert ax.get_xticklines() == []"
   ]
  },
  {
   "cell_type": "markdown",
   "metadata": {
    "colab_type": "text",
    "deletable": false,
    "editable": false,
    "id": "xHnqaO0XhTQS",
    "nbgrader": {
     "cell_type": "markdown",
     "checksum": "0b9f50f31ca2ff04bcb88d40423cf46f",
     "grade": false,
     "grade_id": "cell-344df1a9af06df65",
     "locked": true,
     "schema_version": 3,
     "solution": false,
     "task": false
    }
   },
   "source": [
    "4. <b>(1 point)</b> Create a 20-by-20 numpy array corresponding to a Game of Life board in which all cells are dead, with the exception that the top-left 5-by-5 section of the board looks like this: \n",
    "<img src=\"./glider.png\">\n",
    "Plot this 20-by-20 board using draw_gol_board."
   ]
  },
  {
   "cell_type": "code",
   "execution_count": 117,
   "metadata": {
    "deletable": false,
    "nbgrader": {
     "cell_type": "code",
     "checksum": "7525927e3f3c9d4be40845f95cecd3e4",
     "grade": false,
     "grade_id": "hw4-3_4",
     "locked": false,
     "schema_version": 3,
     "solution": true,
     "task": false
    }
   },
   "outputs": [
    {
     "data": {
      "image/png": "[encoded data removed]",
      "text/plain": [
       "<Figure size 432x288 with 1 Axes>"
      ]
     },
     "metadata": {},
     "output_type": "display_data"
    }
   ],
   "source": [
    "# YOUR CODE HERE\n",
    "arr = np.zeros((20, 20))\n",
    "arr[1, 2] = arr[2, 3] = arr[3, 3] = arr[3, 2] = arr[3, 1] = 1\n",
    "draw_gol_board(arr)"
   ]
  },
  {
   "cell_type": "code",
   "execution_count": 118,
   "metadata": {
    "deletable": false,
    "editable": false,
    "nbgrader": {
     "cell_type": "code",
     "checksum": "c5bb2832734460b38e4e40e487ef367a",
     "grade": true,
     "grade_id": "cell-4c01d7a0a9ccd416",
     "locked": true,
     "points": 1,
     "schema_version": 3,
     "solution": false,
     "task": false
    }
   },
   "outputs": [],
   "source": [
    "# This cell will test if you did Problem 3 Part 4 correctly."
   ]
  },
  {
   "cell_type": "markdown",
   "metadata": {
    "colab_type": "text",
    "deletable": false,
    "editable": false,
    "id": "WBKorfkchUSX",
    "nbgrader": {
     "cell_type": "markdown",
     "checksum": "cb796666f6f472121dd4693684709478",
     "grade": false,
     "grade_id": "cell-4091381cf7cc978f",
     "locked": true,
     "schema_version": 3,
     "solution": false,
     "task": false
    }
   },
   "source": [
    "5. <b>(1 point)</b> Generate a plot with 5 subplots, arranged in a 1-by-5 grid (i.e., horizontal array of 5 subplots), showing the first five steps of the Game of Life when started with the board you just created, with the steps ordered from left to right. The first plot should be the starting board just described, so that the first plot is the state of the board before we execute any steps. The figure in the 5-by-5 sub-board above is called a _glider_, and it is interesting in that, as you can see from your plot, it seems to move along the board as you run the game."
   ]
  },
  {
   "cell_type": "code",
   "execution_count": 119,
   "metadata": {
    "colab": {},
    "colab_type": "code",
    "deletable": false,
    "id": "P68Rthe7hYnb",
    "nbgrader": {
     "cell_type": "code",
     "checksum": "696e59d7e92ee98f2e441ee0df9a19e8",
     "grade": false,
     "grade_id": "hw4-3_5",
     "locked": false,
     "schema_version": 3,
     "solution": true,
     "task": false
    }
   },
   "outputs": [
    {
     "data": {
      "image/png": "[encoded data removed]",
      "text/plain": [
       "<Figure size 432x288 with 4 Axes>"
      ]
     },
     "metadata": {},
     "output_type": "display_data"
    }
   ],
   "source": [
    "for subplt in range(141, 145):\n",
    "    plt.subplot(subplt)\n",
    "    draw_gol_board(arr)\n",
    "    arr = gol_step(arr)"
   ]
  },
  {
   "cell_type": "code",
   "execution_count": 120,
   "metadata": {
    "deletable": false,
    "editable": false,
    "nbgrader": {
     "cell_type": "code",
     "checksum": "b6d96aa4195fe898fdb062d0f7d2bd9a",
     "grade": true,
     "grade_id": "cell-bbb6706367055ab0",
     "locked": true,
     "points": 1,
     "schema_version": 3,
     "solution": false,
     "task": false
    }
   },
   "outputs": [],
   "source": [
    "# This will test if you did Problem 3 Part 5 correctly."
   ]
  },
  {
   "cell_type": "markdown",
   "metadata": {
    "deletable": false,
    "editable": false,
    "nbgrader": {
     "cell_type": "markdown",
     "checksum": "fa8017bc25bef478fe71e49826caab1a",
     "grade": false,
     "grade_id": "cell-b7dcd89a2c977e03",
     "locked": true,
     "schema_version": 3,
     "solution": false,
     "task": false
    }
   },
   "source": [
    "__Optional additional exercise:__ create a function that takes two arguments, a Game of Life board and a number of steps, and generates an animation of the game as it runs for the given number of steps."
   ]
  },
  {
   "cell_type": "code",
   "execution_count": 121,
   "metadata": {
    "deletable": false,
    "editable": false,
    "nbgrader": {
     "cell_type": "code",
     "checksum": "dbe4c5d9a045f14e24dbcbfb35fba9f8",
     "grade": true,
     "grade_id": "cell-41b857dee533703c",
     "locked": true,
     "points": 0.5,
     "schema_version": 3,
     "solution": false,
     "task": false
    }
   },
   "outputs": [],
   "source": [
    "# Please leave this cell as the last cell in the notebook."
   ]
  }
 ],
 "metadata": {
  "colab": {
   "authorship_tag": "ABX9TyMyvlJiZfABCLKw1zdQkUa3",
   "collapsed_sections": [],
   "name": "Homework 4.ipynb",
   "provenance": []
  },
  "kernelspec": {
   "display_name": "Python 3",
   "language": "python",
   "name": "python3"
  },
  "language_info": {
   "codemirror_mode": {
    "name": "ipython",
    "version": 3
   },
   "file_extension": ".py",
   "mimetype": "text/x-python",
   "name": "python",
   "nbconvert_exporter": "python",
   "pygments_lexer": "ipython3",
   "version": "3.8.3"
  }
 },
 "nbformat": 4,
 "nbformat_minor": 1
}
