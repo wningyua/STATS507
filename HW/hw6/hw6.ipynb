{
 "cells": [
  {
   "cell_type": "markdown",
   "metadata": {
    "deletable": false,
    "editable": false,
    "nbgrader": {
     "cell_type": "markdown",
     "checksum": "cbfb874aeebd98c13356800b75691477",
     "grade": false,
     "grade_id": "cell-c40158ec29b15206",
     "locked": true,
     "schema_version": 3,
     "solution": false,
     "task": false
    }
   },
   "source": [
    "# Homework 6: Sklearn and Pandas (25 points)"
   ]
  },
  {
   "cell_type": "markdown",
   "metadata": {},
   "source": [
    "name: Ningyuan Wang\n",
    "\n",
    "email: wningyua@umich.edu\n",
    "\n",
    "This homework assignment took me 7 hours in total to complete. (Please help us to gauge the difficulty of the assignment.)"
   ]
  },
  {
   "cell_type": "markdown",
   "metadata": {
    "deletable": false,
    "editable": false,
    "nbgrader": {
     "cell_type": "markdown",
     "checksum": "26bc23022a9b6661beb31f28d255c61a",
     "grade": false,
     "grade_id": "cell-9fc8abaaecff0e9a",
     "locked": true,
     "schema_version": 3,
     "solution": false,
     "task": false
    }
   },
   "source": [
    "## Collaboration Disclosure\n",
    "\n",
    "In the cell below, please list *everyone* with whom you discussed any of the homework problems, excluding only the GSIs and the course instructor. \n",
    "\n",
    "If you did not discuss the homework with anyone else, write __\"I did not discuss this homework with anyone.\"__\n",
    "\n",
    "Even if you discuss questions with other, the code you submit must be only yours. All work is checked with the [MOSS plagiarism detector](https://theory.stanford.edu/~aiken/moss/).)"
   ]
  },
  {
   "cell_type": "markdown",
   "metadata": {},
   "source": [
    "I discussed P1_6 with Ming-chen Lu. "
   ]
  },
  {
   "cell_type": "markdown",
   "metadata": {
    "deletable": false,
    "editable": false,
    "nbgrader": {
     "cell_type": "markdown",
     "checksum": "67d1cebd5332a880b36d813916b69dbe",
     "grade": false,
     "grade_id": "submission",
     "locked": true,
     "schema_version": 3,
     "solution": false,
     "task": false
    }
   },
   "source": [
    "## Submission Instructions\n",
    "Your homework solutions should be written entirely in this Jupyter notebook file. Once it contains your solutions, you should submit this notebook through Canvas. Before submitting, please make sure make sure __Cells->Run__ executes without errors; errors in your code cause problems for our auto-grader. Thus, even though we may ask you to check for errors in your functions, you should not include in your submission any examples of your functions actually raising those errors.\n",
    "\n",
    "## Nbgrader\n",
    "\n",
    "We will be using `nbgrader` to grade your jupyter notebook. Additional tests will be used at grading time, you are encouraged to read the problem carefully and verify your code covers all appropriate cases.\n",
    "\n",
    "**Be careful:** If a jupyter notebook cell takes longer than `60s` to run, the autograder will not grade it and you will receive zero credit for that question.\n",
    "\n",
    "## Error checking\n",
    "\n",
    "You do not need to do error checking (raising errors, etc.) in your code unless we explicitly ask you to so in a problem."
   ]
  },
  {
   "cell_type": "markdown",
   "metadata": {
    "deletable": false,
    "editable": false,
    "nbgrader": {
     "cell_type": "markdown",
     "checksum": "99a4b1f52b2a51fd259655608d2d5669",
     "grade": false,
     "grade_id": "coding-style",
     "locked": true,
     "schema_version": 3,
     "solution": false,
     "task": false
    }
   },
   "source": [
    "## Coding style\n",
    "Please follow the [PEP8 guidelines](https://www.python.org/dev/peps/pep-0008/). The `pycodestyle_magic` package will remind you if you are not. To install it, run\n",
    "```\n",
    "pip install flake8 pycodestyle_magic\n",
    "```\n",
    "Once it is installed the following two Jupyter directives will enable syntax checking:"
   ]
  },
  {
   "cell_type": "code",
   "execution_count": 1,
   "metadata": {
    "deletable": false,
    "editable": false,
    "nbgrader": {
     "cell_type": "code",
     "checksum": "11f994a1204f00eb8ea040c864033a8d",
     "grade": false,
     "grade_id": "cell-7311e8da28736726",
     "locked": true,
     "schema_version": 3,
     "solution": false,
     "task": false
    }
   },
   "outputs": [],
   "source": [
    "%load_ext pycodestyle_magic\n",
    "%flake8_on --ignore E266 --max_line_length 99"
   ]
  },
  {
   "cell_type": "markdown",
   "metadata": {
    "deletable": false,
    "editable": false,
    "nbgrader": {
     "cell_type": "markdown",
     "checksum": "34f0fef45da967c7e6fa81ab7bedbba8",
     "grade": false,
     "grade_id": "cell-35aef9eb37bfbba7",
     "locked": true,
     "schema_version": 3,
     "solution": false,
     "task": false
    }
   },
   "source": [
    "## Problem 1: Classification with sklearn (9 points)\n",
    "In this problem, you'll learn how to build simple supervised classification models using [scikit-learn](https://scikit-learn.org/stable/) a popular python library for Machine Learning models."
   ]
  },
  {
   "cell_type": "code",
   "execution_count": 2,
   "metadata": {
    "deletable": false,
    "editable": false,
    "nbgrader": {
     "cell_type": "code",
     "checksum": "725c97fae7ee0c59f461140759142b91",
     "grade": false,
     "grade_id": "cell-e266648196304ea4",
     "locked": true,
     "schema_version": 3,
     "solution": false,
     "task": false
    }
   },
   "outputs": [],
   "source": [
    "import numpy as np\n",
    "import sklearn\n",
    "from sklearn import datasets\n",
    "import matplotlib.pyplot as plt"
   ]
  },
  {
   "cell_type": "markdown",
   "metadata": {
    "deletable": false,
    "editable": false,
    "nbgrader": {
     "cell_type": "markdown",
     "checksum": "f61e84fe134399294a0842b66b764bff",
     "grade": false,
     "grade_id": "cell-30f89629dc4d96d2",
     "locked": true,
     "schema_version": 3,
     "solution": false,
     "task": false
    }
   },
   "source": [
    "### Part 1 (1 point) \n",
    "\n",
    "We will be working with the `digits` dataset, which is a available in `sklearn.datasets` and which you briefly saw in class. It consists of images of handwritten digits, where the objective is predicting the true label of each digit given the image. \n",
    "\n",
    "The first step in buiding any machine learning model is to visualize and understand your data. Load the `digits` dataset from the `sklearn.datasets` module using the `load_digits` method into a variable called `digits`. Answer the following questions about the dataset by creating the corresponding variable in parenthesis with your answer. \n",
    "\n",
    "- What is the size of the dataset? (`N`)\n",
    "\n",
    "- How many handwritten 6s are in the dataset? (`n_six`)\n",
    "\n",
    "- What are the dimensions of the images with the handwritten digits? (`dims = (h, w)` a tuple) \n",
    "\n",
    "**Hint:** Take a look at the attributes of `digits` and try to figure out what they correspond to. You can use the `dir()` python function. "
   ]
  },
  {
   "cell_type": "code",
   "execution_count": 3,
   "metadata": {
    "deletable": false,
    "nbgrader": {
     "cell_type": "code",
     "checksum": "cfe5e71a08004c0b908b682e6301ac8f",
     "grade": false,
     "grade_id": "cell-858c90fba7926618",
     "locked": false,
     "schema_version": 3,
     "solution": true,
     "task": false
    }
   },
   "outputs": [],
   "source": [
    "# Load dataset and create appropriate variables here\n",
    "# YOUR CODE HERE\n",
    "digits = datasets.load_digits()\n",
    "dir(digits)\n",
    "\n",
    "N = digits.data.shape[0]  # 1797\n",
    "n_six = np.count_nonzero(digits.target == 6)  # 181\n",
    "dims = digits.images[0].shape"
   ]
  },
  {
   "cell_type": "code",
   "execution_count": 4,
   "metadata": {
    "deletable": false,
    "editable": false,
    "nbgrader": {
     "cell_type": "code",
     "checksum": "b803a834b50987b07e5e4cc0e7c8283f",
     "grade": true,
     "grade_id": "cell-db5760b11de712e1",
     "locked": true,
     "points": 1,
     "schema_version": 3,
     "solution": false,
     "task": false
    }
   },
   "outputs": [],
   "source": [
    "assert N > 100\n",
    "assert n_six > 10\n",
    "assert type(dims) == tuple"
   ]
  },
  {
   "cell_type": "markdown",
   "metadata": {
    "deletable": false,
    "editable": false,
    "nbgrader": {
     "cell_type": "markdown",
     "checksum": "cafcf134de7afc08f4f72d059a200aa8",
     "grade": false,
     "grade_id": "cell-f410d6a4b51f826d",
     "locked": true,
     "points": 1,
     "schema_version": 3,
     "solution": false,
     "task": true
    }
   },
   "source": [
    "### Part 2 (1 point)\n",
    "Visualize the first three digits on your dataset using `matplotlib.pyplot` (`plt`). You should use the `add_subplot` method for `plt.figure` to create your three digits in a single `matplotlib` figure. In your plot of each digit, also include the true label for that digit (see the `ax.text` function). Make your your figure is rendered in the cell below. "
   ]
  },
  {
   "cell_type": "code",
   "execution_count": 5,
   "metadata": {
    "deletable": false,
    "nbgrader": {
     "cell_type": "code",
     "checksum": "e002ae6c3ec354ee5aaf57bb34a7d598",
     "grade": false,
     "grade_id": "cell-72b8f2c7b523c326",
     "locked": false,
     "schema_version": 3,
     "solution": true,
     "task": false
    }
   },
   "outputs": [
    {
     "data": {
      "image/png": "[encoded data removed]",
      "text/plain": [
       "<Figure size 864x864 with 3 Axes>"
      ]
     },
     "metadata": {},
     "output_type": "display_data"
    }
   ],
   "source": [
    "%matplotlib inline \n",
    "\n",
    "fig = plt.figure(figsize=(12, 12)) \n",
    "\n",
    "for i in range(3):\n",
    "    ax = fig.add_subplot(8, 8, i + 1, xticks=[], yticks=[])\n",
    "    ax.imshow(digits.images[i], cmap=\"binary\")\n",
    "    ax.text(0, 7, str(digits.target[i]))"
   ]
  },
  {
   "cell_type": "markdown",
   "metadata": {
    "deletable": false,
    "editable": false,
    "nbgrader": {
     "cell_type": "markdown",
     "checksum": "6cc7d7b387750cb0bccabff8172c022a",
     "grade": false,
     "grade_id": "cell-43884003b3fc04ab",
     "locked": true,
     "schema_version": 3,
     "solution": false,
     "task": false
    }
   },
   "source": [
    "### Part 3 (1 point)\n",
    "The next step is to create __training__ and __testing__ datasets. It is important to split your dataset into these two parts to check whether your algorithm is _generalizing_ well and not just _overfitting_ to your data. Use the __first 100 datapoints for the testing set and the rest for training__. \n",
    "\n",
    "You should create 4 variables: \n",
    "\n",
    "- `X_train`: Training set of digit images \n",
    "\n",
    "- `X_test`: Testing set of digit images\n",
    "\n",
    "- `y_train`: Labels of training set \n",
    "\n",
    "- `y_test`: Labels of testing set. \n",
    "\n",
    "__Note:__ We won't be using the image structure of the data to do our classification. Make sure that the shape of your training/testing set of images is `(N_train/N_test x flat_dim)` where `N_train/N_test` is the size of the training/test dataset and `flat_dim = height*width` so that `flat_dim` is the flattened dimension of the digits' images. "
   ]
  },
  {
   "cell_type": "code",
   "execution_count": 6,
   "metadata": {
    "deletable": false,
    "nbgrader": {
     "cell_type": "code",
     "checksum": "ff7f6bec0e645cb976f8c1391a7332c5",
     "grade": false,
     "grade_id": "cell-cc1a7809b505f1fd",
     "locked": false,
     "schema_version": 3,
     "solution": true,
     "task": false
    }
   },
   "outputs": [],
   "source": [
    "# YOUR CODE HERE\n",
    "flat_dim = 64\n",
    "\n",
    "X_test = digits.data[0:100, :]\n",
    "X_train = digits.data[100:, :]\n",
    "y_test = digits.target[0:100]\n",
    "y_train = digits.target[100:]"
   ]
  },
  {
   "cell_type": "code",
   "execution_count": 7,
   "metadata": {
    "deletable": false,
    "editable": false,
    "nbgrader": {
     "cell_type": "code",
     "checksum": "f4600d2a29ccafa27636a6c5e5800f35",
     "grade": true,
     "grade_id": "cell-00f17b5b3c95d54f",
     "locked": true,
     "points": 1,
     "schema_version": 3,
     "solution": false,
     "task": false
    }
   },
   "outputs": [],
   "source": [
    "assert len(X_train.shape) == len(X_test.shape) == 2\n",
    "assert len(y_train.shape) == len(y_test.shape) == 1"
   ]
  },
  {
   "cell_type": "markdown",
   "metadata": {
    "deletable": false,
    "editable": false,
    "nbgrader": {
     "cell_type": "markdown",
     "checksum": "f0876ed09bb766a2e90aeb144c67cb48",
     "grade": false,
     "grade_id": "cell-328c1c69288e8ad2",
     "locked": true,
     "schema_version": 3,
     "solution": false,
     "task": false
    }
   },
   "source": [
    "### Part 4 (1 point) \n",
    "Now we can create our classifier and fit it to our training set.\n",
    "\n",
    "Create a __Gaussian Naive Bayes__ classifier with implementation in `sklearn` [here](https://scikit-learn.org/stable/modules/generated/sklearn.naive_bayes.GaussianNB.html#sklearn.naive_bayes.GaussianNB) and fit it to your train data.   \n",
    "\n",
    "__Note:__ You will notice that this classifier takes in two (optional parameters) `priors` and `var_smoothing`. You can leave both of these optional arguments blank."
   ]
  },
  {
   "cell_type": "code",
   "execution_count": 8,
   "metadata": {
    "deletable": false,
    "nbgrader": {
     "cell_type": "code",
     "checksum": "d265b1780c9dda078deeddc27cb8682c",
     "grade": false,
     "grade_id": "cell-6762c1b704dbf82b",
     "locked": false,
     "schema_version": 3,
     "solution": true,
     "task": false
    }
   },
   "outputs": [],
   "source": [
    "# YOUR CODE HERE\n",
    "from sklearn.naive_bayes import GaussianNB\n",
    "clf = GaussianNB().fit(X_train, y_train)"
   ]
  },
  {
   "cell_type": "code",
   "execution_count": 9,
   "metadata": {
    "deletable": false,
    "editable": false,
    "nbgrader": {
     "cell_type": "code",
     "checksum": "b8f397fa54ab3be9f0efc75bf2ba5d97",
     "grade": true,
     "grade_id": "cell-20300d58cc17ce56",
     "locked": true,
     "points": 1,
     "schema_version": 3,
     "solution": false,
     "task": false
    }
   },
   "outputs": [],
   "source": [
    "assert type(clf) == GaussianNB\n",
    "assert clf.predict(X_train[4, None]) == [6]"
   ]
  },
  {
   "cell_type": "markdown",
   "metadata": {
    "deletable": false,
    "editable": false,
    "nbgrader": {
     "cell_type": "markdown",
     "checksum": "cc786aac597794b0442ea80eeb004184",
     "grade": false,
     "grade_id": "cell-9903aeab7fba204c",
     "locked": true,
     "schema_version": 3,
     "solution": false,
     "task": false
    }
   },
   "source": [
    "### Part 5 (1 point) \n",
    "There are multiple ways in which you can evaluate the performance of your classifier. One nice visual way of doing it creating a __confusion matrix__. \n",
    "\n",
    "Create a `confusion matrix` to evaluate your classifier, using the `sklearn.metrics.confusion_matrix` module and store it in a variable `cf_matrix`. You will need to obtain predicted labels for the training set using your classifier. \n",
    "\n",
    "What is the meaning of the row and columns of the confusion matrix? How are they sorted? Make sure you understand this by looking at the documentation. \n",
    "\n",
    "What seems to be the most \"confusing\" digit (the one that was misclassified the most often in terms of absolute counts)? Enter your answer as `confusing_digit` in the cell below. Break ties by selecting the largest digit."
   ]
  },
  {
   "cell_type": "code",
   "execution_count": 10,
   "metadata": {
    "deletable": false,
    "nbgrader": {
     "cell_type": "code",
     "checksum": "c84c425f2097a1dd0051f72edc172e7d",
     "grade": false,
     "grade_id": "cell-f4303cd0b3b979b5",
     "locked": false,
     "schema_version": 3,
     "solution": true,
     "task": false
    }
   },
   "outputs": [],
   "source": [
    "from sklearn.metrics import confusion_matrix\n",
    "y_pred = clf.predict(X_test)\n",
    "cf_matrix = confusion_matrix(y_test, y_pred)\n",
    "max_confusing = np.argmax((cf_matrix.sum(axis=1) - np.diag(cf_matrix))/cf_matrix.sum(axis=1))\n",
    "confusing_digit = int(max_confusing)"
   ]
  },
  {
   "cell_type": "code",
   "execution_count": 11,
   "metadata": {
    "deletable": false,
    "editable": false,
    "nbgrader": {
     "cell_type": "code",
     "checksum": "a0250fcc7d958044bcb3ad0d60ca2b50",
     "grade": true,
     "grade_id": "cell-8a87528089d91908",
     "locked": true,
     "points": 1,
     "schema_version": 3,
     "solution": false,
     "task": false
    }
   },
   "outputs": [],
   "source": [
    "assert np.all(np.diag(cf_matrix) == np.array([11, 12,  3, 12,  7,  7, 11,  9,  6,  2]))\n",
    "assert type(confusing_digit) == int"
   ]
  },
  {
   "cell_type": "markdown",
   "metadata": {
    "deletable": false,
    "editable": false,
    "nbgrader": {
     "cell_type": "markdown",
     "checksum": "d0a1be09c8f9e18fd2ae0a96eb94a852",
     "grade": false,
     "grade_id": "cell-be1a17c36e7e4b55",
     "locked": true,
     "schema_version": 3,
     "solution": false,
     "task": false
    }
   },
   "source": [
    "### Part 6 (4 points) \n",
    "\n",
    "The digit you found above that this is not guaranteed to be the most overall _confusing_ digit. Our training and testing dataset were chosen at random and in the answer above and you did not take into account the relative frequency of the digits in the testing set. We will fix both of these issues in this part.\n",
    "\n",
    "- Write a function called `most_confusing_digit` which takes in `X_train, y_train, X_test, y_test`, creates a Gaussian Naive Bayes classifier, trains it, and returns the most confusing digit of the given test set (You can reuse your code from previous parts). Your function should take into account relative frequency, i.e. it should return the digit $n$ that maximizes $m_{n}/N_{n}$ where $m_{n}$ is the total misclassifications of digit $n$ and $N_{n}$ is the total number of times $n$ appears in the testing set.\n",
    "\n",
    "- Write a function, `confusion_candidates` that takes in the `digits` dataset and uses the `sklearn.model_selection.KFold` function to perform cross validation with 18 folds. Returning a python list with containing with the most confusing digit in each of the folds. Store it in a variable called `candidates`. The `most_confusing_digit` function you just wrote should be helpful. \n",
    "\n",
    "- Finally, write a function called `majority_voting` that takes in a list of digits `candidates` and returns the digit that appears the most frequently in this list. Break up ties by returning the smallest digit.\n",
    "\n",
    "Combine these three functions to find the most confusing digit across the 18 folds, store it in a variable `confusion_digit`.\n",
    "\n",
    "**Note:** Make sure to NOT use `shuffle=True` in `sklearn.model_selection.KFold`, randomness will break our tests."
   ]
  },
  {
   "cell_type": "code",
   "execution_count": 12,
   "metadata": {
    "deletable": false,
    "nbgrader": {
     "cell_type": "code",
     "checksum": "2de18570a70fdf5052130366d09e55a9",
     "grade": false,
     "grade_id": "cell-bcdced5bcf64dd55",
     "locked": false,
     "schema_version": 3,
     "solution": true,
     "task": false
    }
   },
   "outputs": [],
   "source": [
    "from sklearn.model_selection import KFold\n",
    "from collections import Counter\n",
    "\n",
    "\n",
    "def most_confusing_digit(X_train, y_train, X_test, y_test):\n",
    "    clf = GaussianNB()\n",
    "    clf.fit(X_train, y_train)\n",
    "    y_pred = clf.predict(X_test)\n",
    "    cf_matrix = confusion_matrix(y_test, y_pred)\n",
    "    max_confusing = np.argmax((cf_matrix.sum(axis=1) - np.diag(cf_matrix))/cf_matrix.sum(axis=1))\n",
    "    confusing_digit = int(max_confusing)\n",
    "    return confusing_digit\n",
    "\n",
    "\n",
    "def confusion_candidates(digits):\n",
    "    candidates = []\n",
    "    X = digits.data\n",
    "    y = digits.target\n",
    "    kf = KFold(n_splits=18, random_state=None, shuffle=False)\n",
    "    for train_index, test_index in kf.split(X):\n",
    "        X_train, X_test = X[train_index], X[test_index]\n",
    "        y_train, y_test = y[train_index], y[test_index]\n",
    "        dig = most_confusing_digit(X_train, y_train, X_test, y_test)\n",
    "        candidates.append(dig)\n",
    "    return candidates\n",
    "\n",
    "\n",
    "def majority_voting(candidates):\n",
    "    ct = Counter(candidates)\n",
    "    highest = max(ct.values())\n",
    "    keys = sorted(key for key, value in ct.items() if value == highest)\n",
    "    return max(keys)"
   ]
  },
  {
   "cell_type": "code",
   "execution_count": 13,
   "metadata": {
    "deletable": false,
    "nbgrader": {
     "cell_type": "code",
     "checksum": "bc13cc238421369ec8b895e0b1b57db9",
     "grade": false,
     "grade_id": "cell-bc29bed314d1cd51",
     "locked": false,
     "schema_version": 3,
     "solution": true,
     "task": false
    }
   },
   "outputs": [],
   "source": [
    "# Code here to find the most confusing digit.\n",
    "# YOUR CODE HERE\n",
    "\n",
    "candidates = confusion_candidates(digits)\n",
    "confusion_digit = majority_voting(candidates)"
   ]
  },
  {
   "cell_type": "code",
   "execution_count": 14,
   "metadata": {
    "deletable": false,
    "editable": false,
    "nbgrader": {
     "cell_type": "code",
     "checksum": "973e31b111bc9e4776156b3945b1bb32",
     "grade": true,
     "grade_id": "cell-1d92637815745f54",
     "locked": true,
     "points": 1,
     "schema_version": 3,
     "solution": false,
     "task": false
    }
   },
   "outputs": [],
   "source": [
    "assert type(confusion_digit) == int"
   ]
  },
  {
   "cell_type": "code",
   "execution_count": 15,
   "metadata": {
    "deletable": false,
    "editable": false,
    "nbgrader": {
     "cell_type": "code",
     "checksum": "0456286ee28bd96262c30556d6508343",
     "grade": true,
     "grade_id": "cell-1ebda96ef8f7b01f",
     "locked": true,
     "points": 1,
     "schema_version": 3,
     "solution": false,
     "task": false
    }
   },
   "outputs": [],
   "source": [
    "assert most_confusing_digit(X_train, y_train, X_test, y_test) == 9\n",
    "assert majority_voting([1, 2, 3, 4, 2]) == 2"
   ]
  },
  {
   "cell_type": "code",
   "execution_count": 16,
   "metadata": {
    "deletable": false,
    "editable": false,
    "nbgrader": {
     "cell_type": "code",
     "checksum": "6d08c66c7e787b8d67dbcbc0179ee173",
     "grade": true,
     "grade_id": "cell-6f83afff32c16a2f",
     "locked": true,
     "points": 1,
     "schema_version": 3,
     "solution": false,
     "task": false
    }
   },
   "outputs": [],
   "source": [
    "assert type(confusion_candidates(digits)) == list\n",
    "assert confusion_candidates(digits)[-1] == 3"
   ]
  },
  {
   "cell_type": "code",
   "execution_count": 17,
   "metadata": {
    "deletable": false,
    "editable": false,
    "nbgrader": {
     "cell_type": "code",
     "checksum": "db184f49de6a4606de463a4257b79aa4",
     "grade": true,
     "grade_id": "cell-f088a7d2a467cf6f",
     "locked": true,
     "points": 1,
     "schema_version": 3,
     "solution": false,
     "task": false
    }
   },
   "outputs": [],
   "source": [
    "assert type(confusion_candidates(digits)) == list\n",
    "assert confusion_candidates(digits)[2] == 2"
   ]
  },
  {
   "cell_type": "markdown",
   "metadata": {
    "deletable": false,
    "editable": false,
    "nbgrader": {
     "cell_type": "markdown",
     "checksum": "26b896472218280054db2a33e91dc86c",
     "grade": false,
     "grade_id": "cell-e0d05b9d090cd8ad",
     "locked": true,
     "schema_version": 3,
     "solution": false,
     "task": false
    }
   },
   "source": [
    "## Problem 2: Warmup: constructing $pandas$ objects (3 points)\n",
    "In this problem, you will create two simple `pandas` objects."
   ]
  },
  {
   "cell_type": "markdown",
   "metadata": {
    "deletable": false,
    "editable": false,
    "nbgrader": {
     "cell_type": "markdown",
     "checksum": "1f4effbd45541ecb1504dc4fa3e9b91e",
     "grade": false,
     "grade_id": "cell-a6e0d076416708b0",
     "locked": true,
     "schema_version": 3,
     "solution": false,
     "task": false
    }
   },
   "source": [
    "### Part 1 (1 point) \n",
    "\n",
    "Create a $pandas$ Series object with indices given by the first 10 letters of the English alphabet and values given by the first 10 primes. Assign this object to a variable called `alphaprimes`."
   ]
  },
  {
   "cell_type": "code",
   "execution_count": 18,
   "metadata": {
    "deletable": false,
    "nbgrader": {
     "cell_type": "code",
     "checksum": "b36ae59e2b4f47f81b72c39671528c0e",
     "grade": false,
     "grade_id": "cell-5e7a162171cc22eb",
     "locked": false,
     "schema_version": 3,
     "solution": true,
     "task": false
    }
   },
   "outputs": [],
   "source": [
    "import pandas as pd\n",
    "# YOUR CODE HERE\n",
    "import string\n",
    "alphaprimes = pd.Series([2, 3, 5, 7, 11, 13, 17, 19, 23, 29],\n",
    "                        index=list(string.ascii_lowercase[0:10]))"
   ]
  },
  {
   "cell_type": "code",
   "execution_count": 19,
   "metadata": {
    "deletable": false,
    "editable": false,
    "nbgrader": {
     "cell_type": "code",
     "checksum": "a323e1086255cc06badad8d9e9429cd0",
     "grade": true,
     "grade_id": "cell-5b7d9b7307618480",
     "locked": true,
     "points": 1,
     "schema_version": 3,
     "solution": false,
     "task": false
    }
   },
   "outputs": [],
   "source": [
    "assert type(alphaprimes) is pd.core.series.Series\n",
    "assert alphaprimes['a'] == 2"
   ]
  },
  {
   "cell_type": "markdown",
   "metadata": {
    "deletable": false,
    "editable": false,
    "nbgrader": {
     "cell_type": "markdown",
     "checksum": "0ae2388fbf106f3ac3f6aeace4f45118",
     "grade": false,
     "grade_id": "cell-1c1b590826546853",
     "locked": true,
     "schema_version": 3,
     "solution": false,
     "task": false
    }
   },
   "source": [
    "### Part 2 (2 point)\n",
    "\n",
    "Below is a table that might arise in a genetics experiment. Reconstruct this as a $pandas$ DataFrame and assign it to a variable called __animals__.\n",
    "\n",
    "**Hint:** The `pandas.MultiIndex.from_arrays` function might be helpful. You can print your table inside the jupyter notebook to make sure it looks the same as the one we have here. \n",
    "\n",
    "![table](table.png \"Table\")\n"
   ]
  },
  {
   "cell_type": "code",
   "execution_count": 20,
   "metadata": {
    "deletable": false,
    "nbgrader": {
     "cell_type": "code",
     "checksum": "ab7b0dbfecaec1a910fefe47baea936b",
     "grade": false,
     "grade_id": "cell-3ff83aad97e5574c",
     "locked": false,
     "schema_version": 3,
     "solution": true,
     "task": false
    }
   },
   "outputs": [],
   "source": [
    "import pandas as pd\n",
    "\n",
    "arrs = [np.array(['goat'] * 4 + ['bird'] * 4 + ['llama'] * 4),\n",
    "        np.array(['A', 'A', 'a', 'a'] * 3),\n",
    "        np.array(['A', 'a'] * 6)]\n",
    "index = pd.MultiIndex.from_arrays(arrs, names=['animal', 'parent1', 'parent2'])\n",
    "s = {'score1': list(range(1, 13)), 'score2': [2, 4, 4, 6, 6, 8, 8, 10, 10, 12, 12, 14]}\n",
    "animals = pd.DataFrame(s, index=index)"
   ]
  },
  {
   "cell_type": "code",
   "execution_count": 21,
   "metadata": {
    "deletable": false,
    "editable": false,
    "nbgrader": {
     "cell_type": "code",
     "checksum": "19880dedc5cc9ad23a9d088202445904",
     "grade": true,
     "grade_id": "cell-7e849b53df0eb514",
     "locked": true,
     "points": 1,
     "schema_version": 3,
     "solution": false,
     "task": false
    }
   },
   "outputs": [],
   "source": [
    "assert type(animals) == pd.core.frame.DataFrame\n",
    "assert animals.loc[('goat', 'A', 'A'), 'score2'] == 2"
   ]
  },
  {
   "cell_type": "code",
   "execution_count": 22,
   "metadata": {
    "deletable": false,
    "editable": false,
    "nbgrader": {
     "cell_type": "code",
     "checksum": "7641c19ab969d289d448552a94739265",
     "grade": true,
     "grade_id": "cell-9139f16ac1b25566",
     "locked": true,
     "points": 1,
     "schema_version": 3,
     "solution": false,
     "task": false
    }
   },
   "outputs": [],
   "source": [
    "assert type(animals) == pd.core.frame.DataFrame\n",
    "assert animals.loc[('goat', 'A', 'A'), 'score1'] == 1"
   ]
  },
  {
   "cell_type": "markdown",
   "metadata": {
    "deletable": false,
    "editable": false,
    "nbgrader": {
     "cell_type": "markdown",
     "checksum": "90ae6b8ad1d3631229cb20edec48f69a",
     "grade": false,
     "grade_id": "cell-ec38781db83fb6f7",
     "locked": true,
     "schema_version": 3,
     "solution": false,
     "task": false
    }
   },
   "source": [
    "## Problem 3: Working with $pandas$ DataFrames (6 points)\n",
    "\n",
    "In this problem, you'll get practice working with $pandas$ DataFrames, reading them into and out of memory, changing their contents\n",
    "and performing aggregation operations. For this problem, you'll use the celebrated __iris__ data set, which is contained in the `iris.csv` file that should have included with this notebook in `hw5.zip`. \n",
    "\n",
    "__Note:__ for the sake of consistency, please use this version of the CSV, and not one from elsewhere."
   ]
  },
  {
   "cell_type": "markdown",
   "metadata": {
    "deletable": false,
    "editable": false,
    "nbgrader": {
     "cell_type": "markdown",
     "checksum": "00789e849457d09deba3e843cc9ea7f8",
     "grade": false,
     "grade_id": "cell-e236195475ba4d3d",
     "locked": true,
     "schema_version": 3,
     "solution": false,
     "task": false
    }
   },
   "source": [
    "### Part 1 (2 points)\n",
    "\n",
    "Read `iris.csv` into Python as a $pandas$ DataFrame. Note that the CSV file includes column headers. Store the following into python variables:\n",
    "\n",
    "- How many data points are there in this data set? Store into a variable `n_points`\n",
    "\n",
    "- What are the data types of the columns? Store as a list `dtypes`. \n",
    "\n",
    "- What are the column names? Store into a list variable `colnames` \n",
    "\n",
    "- The column names correspond to flower species names, as well as four basic measurements one can make of a flower: the width and length of its petals and the width and length of its sepal (the part of the pant that supports and protects the flower itself). What are the species of flower that are included in the data? Store the names into a set `flower_species`\n",
    "\n",
    "**Hint:** All can be obtained directly by various methods applied to the pandas dataframe you read from `iris.csv`. You should stick with the default order given by the columns of the table. "
   ]
  },
  {
   "cell_type": "code",
   "execution_count": 23,
   "metadata": {
    "deletable": false,
    "nbgrader": {
     "cell_type": "code",
     "checksum": "7e0db1824c36046ed14ca019aa001c3b",
     "grade": false,
     "grade_id": "cell-def1c4600223d685",
     "locked": false,
     "schema_version": 3,
     "solution": true,
     "task": false
    }
   },
   "outputs": [],
   "source": [
    "# YOUR CODE HERE\n",
    "iris = pd.read_csv(\"iris.csv\")\n",
    "n_points = len(iris.index)\n",
    "dtypes = list(iris.dtypes)\n",
    "colnames = list(iris.columns.values)\n",
    "flower_species = set(iris.groupby('Species').groups.keys())"
   ]
  },
  {
   "cell_type": "code",
   "execution_count": 24,
   "metadata": {
    "deletable": false,
    "editable": false,
    "nbgrader": {
     "cell_type": "code",
     "checksum": "bdebeebaa5f37586fa5bc672f077ced0",
     "grade": true,
     "grade_id": "cell-0d7c8beb9f89dba8",
     "locked": true,
     "points": 1,
     "schema_version": 3,
     "solution": false,
     "task": false
    }
   },
   "outputs": [],
   "source": [
    "assert type(n_points) == int\n",
    "assert n_points > 10\n",
    "assert dtypes[0] == np.dtype('float64')"
   ]
  },
  {
   "cell_type": "code",
   "execution_count": 25,
   "metadata": {
    "deletable": false,
    "editable": false,
    "nbgrader": {
     "cell_type": "code",
     "checksum": "d6b1e52a094c84ccd61af2c7558ab7ae",
     "grade": true,
     "grade_id": "cell-bc4ab74e515df4bc",
     "locked": true,
     "points": 1,
     "schema_version": 3,
     "solution": false,
     "task": false
    }
   },
   "outputs": [],
   "source": [
    "assert colnames[0] == 'Sepal.Length'\n",
    "assert type(flower_species) == set"
   ]
  },
  {
   "cell_type": "markdown",
   "metadata": {
    "deletable": false,
    "editable": false,
    "nbgrader": {
     "cell_type": "markdown",
     "checksum": "91456de8642ae69cfc6f38f7cb716e36",
     "grade": false,
     "grade_id": "cell-dbf855efa13793fc",
     "locked": true,
     "schema_version": 3,
     "solution": false,
     "task": false
    }
   },
   "source": [
    "### Part 2 (1 point) \n",
    "\n",
    "The data that I uploaded to my website, which you have downloaded, is based on the data initially uploaded to the UC Irvine machine learning repository. It is now known that this data contains errors in two of its rows (see the documentation at https://archive.ics.uci.edu/ml/datasets/Iris). \n",
    "\n",
    "Using 1-indexing, these errors are in the 35th and 38th rows. The 35th row should read __4.9,3.1,1.5,0.2,\"setosa\"__, where the fourth feature is incorrect as it appears in the file, and the 38th row should read __4.9,3.6,1.4,0.1,\"setosa\"__, where the second and third features are incorrect as they appear in the file. Correct these entries of your DataFrame."
   ]
  },
  {
   "cell_type": "code",
   "execution_count": 26,
   "metadata": {
    "deletable": false,
    "nbgrader": {
     "cell_type": "code",
     "checksum": "7fad3880222f1c9cd38d8578dccb20b3",
     "grade": false,
     "grade_id": "cell-b4d1c46875380a07",
     "locked": false,
     "schema_version": 3,
     "solution": true,
     "task": false
    }
   },
   "outputs": [],
   "source": [
    "# Your code to correct these entries goes here\n",
    "# YOUR CODE HERE\n",
    "\n",
    "iris.iloc[34, 3] = 0.2\n",
    "iris.iloc[37, 1] = 3.6\n",
    "iris.iloc[37, 2] = 1.4\n",
    "\n"
   ]
  },
  {
   "cell_type": "code",
   "execution_count": 27,
   "metadata": {
    "deletable": false,
    "editable": false,
    "nbgrader": {
     "cell_type": "code",
     "checksum": "3e2cdbe8b49b25c49f437a09bfad734f",
     "grade": true,
     "grade_id": "cell-eb19d3e0701c75a5",
     "locked": true,
     "points": 1,
     "schema_version": 3,
     "solution": false,
     "task": false
    }
   },
   "outputs": [],
   "source": [
    "assert iris.iloc[34, 3] == 0.2"
   ]
  },
  {
   "cell_type": "markdown",
   "metadata": {
    "deletable": false,
    "editable": false,
    "nbgrader": {
     "cell_type": "markdown",
     "checksum": "5f30fcef7f819513bdd639f4669c0676",
     "grade": false,
     "grade_id": "cell-9ce12207d96fb22e",
     "locked": true,
     "schema_version": 3,
     "solution": false,
     "task": false
    }
   },
   "source": [
    "### Part 3 (1 point) \n",
    "\n",
    "The iris dataset is commonly used in machine learning as a proving ground for clustering and classification algorithms. Some researchers have found it useful to use two additional features, called _Petal ratio_ and _Sepal ratio_, defined as the ratio of the petal length to petal width and the ratio of the sepal length to sepal width, respectively. Add two columns to your DataFrame corresponding to these two new features. Name these columns `Petal.Ratio` and `Sepal.Ratio`, respectively."
   ]
  },
  {
   "cell_type": "code",
   "execution_count": 28,
   "metadata": {
    "deletable": false,
    "nbgrader": {
     "cell_type": "code",
     "checksum": "f25b49ab1ef66ff6353d7387a15ebda9",
     "grade": false,
     "grade_id": "cell-0b5acb6b9e60b472",
     "locked": false,
     "schema_version": 3,
     "solution": true,
     "task": false
    }
   },
   "outputs": [],
   "source": [
    "# Your code for adding these two new columns to the dataset goes here.\n",
    "# YOUR CODE HERE\n",
    "iris[\"Petal.Ratio\"] = iris['Petal.Length']/iris['Petal.Width']\n",
    "iris[\"Sepal.Ratio\"] = iris['Sepal.Length']/iris['Sepal.Width']"
   ]
  },
  {
   "cell_type": "code",
   "execution_count": 29,
   "metadata": {
    "deletable": false,
    "editable": false,
    "nbgrader": {
     "cell_type": "code",
     "checksum": "28065e4566b2abd4b105759d2677a597",
     "grade": true,
     "grade_id": "cell-23bca0f4d339f690",
     "locked": true,
     "points": 1,
     "schema_version": 3,
     "solution": false,
     "task": false
    }
   },
   "outputs": [],
   "source": [
    "assert 'Petal.Ratio' in iris.columns\n",
    "assert 'Sepal.Ratio' in iris.columns\n",
    "### BEGIN HIDDENT TESTS\n",
    "assert np.all(iris['Petal.Ratio'] == iris['Petal.Length']/iris['Petal.Width'])\n",
    "assert np.all(iris['Sepal.Ratio'] == iris['Sepal.Length']/iris['Sepal.Width'])\n",
    "### END HIDDENT TESTS"
   ]
  },
  {
   "cell_type": "markdown",
   "metadata": {
    "deletable": false,
    "editable": false,
    "nbgrader": {
     "cell_type": "markdown",
     "checksum": "adc5a307312562fa4dd392d89d732200",
     "grade": false,
     "grade_id": "cell-ec31a9ba3624e7b5",
     "locked": true,
     "schema_version": 3,
     "solution": false,
     "task": false
    }
   },
   "source": [
    "### Part 4 (2 points)\n",
    "\n",
    "Use a $pandas$ aggregate operation to determine the mean, median, minimum, maximum and standard deviation of the petal and sepal ratio for each of the three species in the data set. Store these results in a pandas dataframe callend `results`. \n",
    "\n",
    "__Note:__ you should be able to get all five numbers in a single table (indeed, in a single line of code) using a well-chosen group-by or aggregate operation."
   ]
  },
  {
   "cell_type": "code",
   "execution_count": 30,
   "metadata": {
    "deletable": false,
    "nbgrader": {
     "cell_type": "code",
     "checksum": "b8b16bc3b4da1b3a8a01b996fe0d2a07",
     "grade": false,
     "grade_id": "cell-88fafe573a7bf3d6",
     "locked": false,
     "schema_version": 3,
     "solution": true,
     "task": false
    }
   },
   "outputs": [],
   "source": [
    "# create your variable results here.\n",
    "# YOUR CODE HERE\n",
    "results = iris.groupby(\"Species\")[[\"Petal.Ratio\", \"Sepal.Ratio\"]].agg([np.mean, np.median,\n",
    "                                                                       np.min, np.max, np.std])"
   ]
  },
  {
   "cell_type": "code",
   "execution_count": 31,
   "metadata": {
    "deletable": false,
    "editable": false,
    "nbgrader": {
     "cell_type": "code",
     "checksum": "1c7e6436fbe7d39394fb25790ef3785c",
     "grade": true,
     "grade_id": "cell-c7fac9de07e74ed1",
     "locked": true,
     "points": 1,
     "schema_version": 3,
     "solution": false,
     "task": false
    }
   },
   "outputs": [],
   "source": [
    "assert round(results['Petal.Ratio']['mean']['setosa'], 2) == 6.91"
   ]
  },
  {
   "cell_type": "code",
   "execution_count": 32,
   "metadata": {
    "deletable": false,
    "editable": false,
    "nbgrader": {
     "cell_type": "code",
     "checksum": "912b221ef39ad2113c58a8ce4753b00e",
     "grade": true,
     "grade_id": "cell-a38107a6f71a4125",
     "locked": true,
     "points": 1,
     "schema_version": 3,
     "solution": false,
     "task": false
    }
   },
   "outputs": [],
   "source": [
    "assert round(results['Sepal.Ratio']['std']['virginica'], 2) == 0.25"
   ]
  },
  {
   "cell_type": "markdown",
   "metadata": {
    "deletable": false,
    "editable": false,
    "nbgrader": {
     "cell_type": "markdown",
     "checksum": "933a40f3e7386fd16d187aa318624831",
     "grade": false,
     "grade_id": "cell-2ca1493e79f3caad",
     "locked": true,
     "schema_version": 3,
     "solution": false,
     "task": false
    }
   },
   "source": [
    "## Problem 4: Plotting Dataframes: Major League Baseball (7 points)\n",
    "\n",
    "In this problem, you'll get more practice working with $pandas$ data frames and perform some basic plotting. We'll work with a data set consisting of all the baseball games from the 2018 Major League Baseball (MLB) regular season, compiled by _retrosheet.org_. Don't worry--- you don't need to know anything about baseball to complete this assignment! The relevant CSV file `GL2018.TXT` should have been included in `hw5.zip` along with this jupyter notebook. \n",
    "\n",
    "__Note:__ even though the zipped file is named as a `.txt` file, it is in fact a CSV file, which $pandas$ will still be able to read. \n",
    "\n",
    "__Requisite legal boilerplate:__ The information used here was obtained free of charge from and is copyrighted by Retrosheet.  Interested parties may contact Retrosheet at \"www.retrosheet.org\"."
   ]
  },
  {
   "cell_type": "markdown",
   "metadata": {
    "deletable": false,
    "editable": false,
    "nbgrader": {
     "cell_type": "markdown",
     "checksum": "1060b3fd8d0d0420b03e45bee13eb13c",
     "grade": false,
     "grade_id": "cell-7599159e10428b83",
     "locked": true,
     "schema_version": 3,
     "solution": false,
     "task": false
    }
   },
   "source": [
    "### Part 1 (1 point)  \n",
    "\n",
    "Read the data into a table called `mlb_df`. Each row of the table represents the outcome of a single game from the 2018 MLB season. Take note that the file does not have columns names; see the `header` keyword to the `pandas.read_csv` function. The columns are explained in a `.txt` file which you can download from https://www.retrosheet.org/gamelogs/glfields.txt, but we will only make use of a few of them in this problem. \n",
    "\n",
    "The 10-th and 11-th columns (using 1-indexing) are the scores of the visiting and home teams, respectively. Rename these columns `v_score` and `h_score`, respectively. MLB comprises two leagues, the American League and the National League, encoded as `AL` and `NL` in the table. The 5-th and 8-th columns (also 1-indexed) are the league affiliations of the visiting and home team, respectively. Rename these columns `v_league` and `h_league`."
   ]
  },
  {
   "cell_type": "code",
   "execution_count": 33,
   "metadata": {
    "deletable": false,
    "nbgrader": {
     "cell_type": "code",
     "checksum": "ae97a929b3a0d9f15307c6edabab2b75",
     "grade": false,
     "grade_id": "cell-359c37822a5abe4e",
     "locked": false,
     "schema_version": 3,
     "solution": true,
     "task": false
    }
   },
   "outputs": [],
   "source": [
    "# Follow the instructions above and modify the `mlb_df`\n",
    "# pandas dataframe (keep this name throughout)\n",
    "import numpy as np\n",
    "import pandas as pd\n",
    "\n",
    "# YOUR CODE HERE\n",
    "mlb_df = pd.read_csv(\"GL2018.TXT\", header=None)\n",
    "mlb_df.rename(columns={4: \"v_league\", 7: \"h_league\", 9: \"v_score\", 10: \"h_score\"}, inplace=True)\n"
   ]
  },
  {
   "cell_type": "code",
   "execution_count": 34,
   "metadata": {
    "deletable": false,
    "editable": false,
    "nbgrader": {
     "cell_type": "code",
     "checksum": "5bb0256dc92b073d00bd858c95148868",
     "grade": true,
     "grade_id": "cell-a02fe6236008638a",
     "locked": true,
     "points": 1,
     "schema_version": 3,
     "solution": false,
     "task": false
    }
   },
   "outputs": [],
   "source": [
    "assert round(np.mean(mlb_df['h_score'].values), 3) == 4.526"
   ]
  },
  {
   "cell_type": "markdown",
   "metadata": {
    "deletable": false,
    "editable": false,
    "nbgrader": {
     "cell_type": "markdown",
     "checksum": "add43bcfe703180f46d0872af5cbe6fb",
     "grade": false,
     "grade_id": "cell-300ec7555fcfb1cc",
     "locked": true,
     "points": 3,
     "schema_version": 3,
     "solution": false,
     "task": true
    }
   },
   "source": [
    "### Part 2 (3 points) \n",
    "\n",
    "Create a plot with two subplots, placed side-by-side. Each subplot should be a scatter plot in which the x- and y-axes correspond to the home and visitor scores, respectively, and in which each point corresponds to a game from the season. In the left-hand plot, include all games in which both teams were in the NL, and in the right-hand plot, include all games in which both teams were in the AL. Games in which the teams were from different leagues should be ignored. Follow these instructions: \n",
    "\n",
    "- Specify the transparency (cf. the `alpha` parameter in the `matplotlib` documentation) so that scores that occur more often will be shaded darker than rare scores. (Check that your final plot has some points that are more transparent than others)\n",
    "\n",
    "- Color the points in the scatter plot according to the league affiliation of the two teams as follows: games between two teams both in the AL should be rendered as red points in the scatter plot. Games between two teams both in the NL should be rendered as blue points in the scatter plot. \n",
    "\n",
    "- Label your axes and provide an appropriate title for your plot as well as its subplots. \n",
    "\n",
    "- Check that your plot is rendered in the notebook when you run the cell below. \n",
    "\n",
    "__Note:__ you may find it useful to create an extra column in the dataframe of whether a given game is AL vs AL, NL vs NL or mixed."
   ]
  },
  {
   "cell_type": "code",
   "execution_count": 35,
   "metadata": {
    "deletable": false,
    "nbgrader": {
     "cell_type": "code",
     "checksum": "a9fb4ae636574ec93fe2389f37c271bb",
     "grade": false,
     "grade_id": "cell-bcfcdc1b4d394cfd",
     "locked": false,
     "schema_version": 3,
     "solution": true,
     "task": false
    }
   },
   "outputs": [
    {
     "data": {
      "image/png": "[encoded data removed]",
      "text/plain": [
       "<Figure size 432x288 with 2 Axes>"
      ]
     },
     "metadata": {
      "needs_background": "light"
     },
     "output_type": "display_data"
    }
   ],
   "source": [
    "%matplotlib inline\n",
    "import matplotlib as mp\n",
    "import matplotlib.pyplot as plt \n",
    "\n",
    "# YOUR CODE HERE\n",
    "df = mlb_df[[\"h_league\", \"v_league\", \"h_score\", \"v_score\"]][mlb_df[\"h_league\"]==mlb_df[\"v_league\"]]\n",
    "nl_df = df[df[\"h_league\"]==\"NL\"]\n",
    "al_df = df[df[\"h_league\"]==\"AL\"]\n",
    "\n",
    "fig, axes = plt.subplots(1,2)\n",
    "plt.suptitle(\"NL & AL Scores Plots\")\n",
    "axes[0].scatter(nl_df[\"h_score\"], nl_df[\"v_score\"], c=\"b\", alpha=0.2)\n",
    "axes[0].set_title('NL')\n",
    "axes[0].set_xlabel('Home scores')\n",
    "axes[0].set_ylabel('Visitor scores')\n",
    "\n",
    "axes[1].scatter(al_df['h_score'],al_df['v_score'], c='r', alpha=0.2)\n",
    "axes[1].set_title('AL')\n",
    "axes[1].set_xlabel('Home scores')\n",
    "axes[1].set_ylabel('Visitor scores')\n",
    "fig.tight_layout()\n",
    "plt.show()"
   ]
  },
  {
   "cell_type": "markdown",
   "metadata": {
    "deletable": false,
    "editable": false,
    "nbgrader": {
     "cell_type": "markdown",
     "checksum": "8e459a95d072eb77c81329dade350744",
     "grade": false,
     "grade_id": "cell-634f956d533bfbeb",
     "locked": true,
     "points": 2,
     "schema_version": 3,
     "solution": false,
     "task": true
    }
   },
   "source": [
    "### Part 3 (2 points) \n",
    "\n",
    "The Skellam distribution https://en.wikipedia.org/wiki/Skellam_distribution) is the distribution that results from taking the difference between two Poisson random variables. It is often suggested as a model for the difference between scores in sports games, particularly baseball. Add a new column to the data frame called `score_diff`, given by the home score minus the away score. Make a histogram of this score difference and give the plot an appropriate title/axis titles.\n",
    "\n",
    "**Note:** Make sure the cell below displays the plot in this notebook. "
   ]
  },
  {
   "cell_type": "code",
   "execution_count": 36,
   "metadata": {
    "deletable": false,
    "nbgrader": {
     "cell_type": "code",
     "checksum": "e843a7c20f79d36684467edb070117e5",
     "grade": false,
     "grade_id": "cell-b7c0aab1aaf22e69",
     "locked": false,
     "schema_version": 3,
     "solution": true,
     "task": false
    }
   },
   "outputs": [
    {
     "data": {
      "image/png": "[encoded data removed]",
      "text/plain": [
       "<Figure size 432x288 with 1 Axes>"
      ]
     },
     "metadata": {
      "needs_background": "light"
     },
     "output_type": "display_data"
    }
   ],
   "source": [
    "%matplotlib inline\n",
    "# YOUR CODE HERE\n",
    "mlb_df[\"score_diff\"] = mlb_df[\"h_score\"] - mlb_df[\"v_score\"]\n",
    "\n",
    "mlb_df.hist(\"score_diff\")\n",
    "plt.title(\"Score Diffeences Distribution\")\n",
    "axes[0].set_title('NL')\n",
    "plt.xlabel('Score Differences')\n",
    "plt.ylabel('Frequency')\n",
    "plt.show()"
   ]
  },
  {
   "cell_type": "markdown",
   "metadata": {
    "deletable": false,
    "editable": false,
    "nbgrader": {
     "cell_type": "markdown",
     "checksum": "351814acf19f88c85401c2fadd8bb8de",
     "grade": false,
     "grade_id": "cell-4d893b6ff397473c",
     "locked": true,
     "schema_version": 3,
     "solution": false,
     "task": false
    }
   },
   "source": [
    "### Part 4 (1 point)\n",
    "\n",
    "Read the documentation about the __scipy__ implementation of the Skellam distribution at https://docs.scipy.org/doc/scipy/reference/generated/scipy.stats.skellam.html . If $\\lambda_H$ and $\\lambda_V$ are the means of two independent Poisson random variables $K_H$ and $K_V$, respectively, then the Skellam distribution that describes the difference $K_H - K_V$ has parameters $\\lambda_H$ and $\\lambda_V$. \n",
    "\n",
    "Estimate parameters $\\hat{\\lambda}_H$ and $\\hat{\\lambda}_V$ as the means of the home and visitor scores, respectively. Save your estimates in variables `lambda_home` and `lambda_visitor`, respectively."
   ]
  },
  {
   "cell_type": "code",
   "execution_count": 37,
   "metadata": {
    "deletable": false,
    "nbgrader": {
     "cell_type": "code",
     "checksum": "973eb9e7bed9b8e5816ab61d2d09db3e",
     "grade": false,
     "grade_id": "cell-8058f1077187586e",
     "locked": false,
     "schema_version": 3,
     "solution": true,
     "task": false
    }
   },
   "outputs": [
    {
     "data": {
      "image/png": "[encoded data removed]",
      "text/plain": [
       "<Figure size 432x288 with 1 Axes>"
      ]
     },
     "metadata": {
      "needs_background": "light"
     },
     "output_type": "display_data"
    },
    {
     "data": {
      "text/plain": [
       "True"
      ]
     },
     "execution_count": 37,
     "metadata": {},
     "output_type": "execute_result"
    }
   ],
   "source": [
    "# create your variables here.\n",
    "# YOUR CODE HERE\n",
    "from scipy.stats import skellam\n",
    "ro = mlb_df[\"h_score\"].corr(mlb_df[\"v_score\"])\n",
    "lambda_home = np.mean(mlb_df[\"h_score\"])\n",
    "lambda_visitor = np.mean(mlb_df[\"v_score\"])\n",
    "mu_h = lambda_home - ro * np.sqrt(lambda_home * lambda_visitor)\n",
    "mu_v = lambda_visitor - ro * np.sqrt(lambda_home * lambda_visitor)\n",
    "\n",
    "fig, ax = plt.subplots(1, 1)\n",
    "rv = skellam(mu_h, mu_v)\n",
    "# ax.vlines(x, 0, rv.pmf(x), colors='k', linestyles='-', lw=1, label='frozen pmf')\n",
    "# ax.legend(loc='best', frameon=False)\n",
    "# plt.show()\n",
    "x = np.arange(skellam.ppf(0.01, mu_h, mu_v),\n",
    "              skellam.ppf(0.99, mu_h, mu_v))\n",
    "ax.plot(x, skellam.pmf(x, mu_h, mu_v), 'bo', ms=8, label='skellam pmf')\n",
    "ax.vlines(x, 0, skellam.pmf(x, mu_h, mu_v), colors='b', lw=5, alpha=0.5)\n",
    "plt.show()\n",
    "prob = skellam.cdf(x, mu_h, mu_v)\n",
    "np.allclose(x, skellam.ppf(prob, mu_h, mu_v))"
   ]
  },
  {
   "cell_type": "code",
   "execution_count": 38,
   "metadata": {
    "deletable": false,
    "editable": false,
    "nbgrader": {
     "cell_type": "code",
     "checksum": "080dae6fb266ac1d8eb1d2ca8b26b147",
     "grade": true,
     "grade_id": "cell-e688a0461b4bc73e",
     "locked": true,
     "points": 1,
     "schema_version": 3,
     "solution": false,
     "task": false
    }
   },
   "outputs": [],
   "source": [
    "assert round(lambda_home, 3) == 4.526"
   ]
  },
  {
   "cell_type": "code",
   "execution_count": null,
   "metadata": {},
   "outputs": [],
   "source": []
  },
  {
   "cell_type": "code",
   "execution_count": null,
   "metadata": {},
   "outputs": [],
   "source": []
  }
 ],
 "metadata": {
  "kernelspec": {
   "display_name": "Python 3",
   "language": "python",
   "name": "python3"
  },
  "language_info": {
   "codemirror_mode": {
    "name": "ipython",
    "version": 3
   },
   "file_extension": ".py",
   "mimetype": "text/x-python",
   "name": "python",
   "nbconvert_exporter": "python",
   "pygments_lexer": "ipython3",
   "version": "3.8.3"
  },
  "latex_envs": {
   "LaTeX_envs_menu_present": true,
   "autoclose": false,
   "autocomplete": true,
   "bibliofile": "biblio.bib",
   "cite_by": "apalike",
   "current_citInitial": 1,
   "eqLabelWithNumbers": true,
   "eqNumInitial": 1,
   "hotkeys": {
    "equation": "meta-shift-y"
   },
   "labels_anchors": false,
   "latex_user_defs": false,
   "report_style_numbering": false,
   "user_envs_cfg": false
  },
  "toc": {
   "base_numbering": 1,
   "nav_menu": {},
   "number_sections": false,
   "sideBar": true,
   "skip_h1_title": false,
   "title_cell": "Table of Contents",
   "title_sidebar": "Contents",
   "toc_cell": false,
   "toc_position": {
    "height": "calc(100% - 180px)",
    "left": "10px",
    "top": "150px",
    "width": "303.640625px"
   },
   "toc_section_display": true,
   "toc_window_display": true
  }
 },
 "nbformat": 4,
 "nbformat_minor": 2
}
