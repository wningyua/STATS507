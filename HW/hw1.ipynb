{
 "cells": [
  {
   "cell_type": "markdown",
   "metadata": {
    "deletable": false,
    "editable": false,
    "nbgrader": {
     "cell_type": "markdown",
     "checksum": "5b6e324faa64f439c57b6ba23de808cd",
     "grade": false,
     "grade_id": "title",
     "locked": true,
     "schema_version": 3,
     "solution": false,
     "task": false
    }
   },
   "source": [
    "# Homework 1: Data Types, Functions and Conditionals (23 points)"
   ]
  },
  {
   "cell_type": "markdown",
   "metadata": {},
   "source": [
    "name: Ningyuan Wang\n",
    "\n",
    "email: wningyua@umich.edu\n",
    "\n",
    "I did not discuss this homework with anyone.\n",
    "This homework assignment took me 6 hours in total to complete. (Please help us to gauge the difficulty of the assignment.)"
   ]
  },
  {
   "cell_type": "markdown",
   "metadata": {
    "deletable": false,
    "editable": false,
    "nbgrader": {
     "cell_type": "markdown",
     "checksum": "19f8f8eb1109a75d707213b004150e21",
     "grade": false,
     "grade_id": "cell-6b27842ca95b0ef2",
     "locked": true,
     "schema_version": 3,
     "solution": false,
     "task": false
    }
   },
   "source": [
    "## Submission Instructions\n",
    "Your homework solutions should be written entirely in this Jupyter notebook file. Once it contains your solutions, you should submit this notebook through Canvas. Before submitting, please make sure to __Cells->Run All__ executes without errors; errors in your code translate directly to point deductions. Thus, even though we may ask you to check for errors in your functions, you should not include in your submission any examples of your functions actually raising those errors.\n",
    "\n",
    "<!-- ## Coding style\n",
    "Please follow the [PEP8 guidelines](https://www.python.org/dev/peps/pep-0008/). The `pycodestyle_magic` package will remind you if you are not. To install it, run\n",
    "```\n",
    "pip install flake8 pycodestyle_magic\n",
    "```\n",
    "Once it is installed the following two Jupyter directives will enable syntax checking: -->\n",
    "\n",
    "## Homework tips \n",
    "\n",
    "1. **Start early!** If you run into trouble installing things or importing packages, it’s\n",
    "best to find those problems well in advance, not the night before your assignment is\n",
    "due when we cannot help you!\n",
    "\n",
    "2. **Make sure you back up your work!** At a minimum, do your work in a Dropbox\n",
    "folder. Better yet, use git, which is well worth your time and effort to learn.\n",
    "\n",
    "3. **Be careful to follow directions!** Remember that Python is case sensitive. If\n",
    "you are ask you to define a function called my_function and you define a function\n",
    "called My_Function, you will not receive full credit. You may want to copy-paste\n",
    "the function names below to make sure that the functions in your notebook match.\n",
    "\n",
    "## Nbgrader\n",
    "\n",
    "We will be using `nbgrader` to grade your jupyter notebook. You will notice some `read-only` cells in the assignment that contain `assert` statements. These are tests that your code must pass for your solution to be correct. If any of the tests fail, you will get an python error and not get points for that question. \n",
    "\n",
    "**Note:** The tests shown not comprehensive, so you are encouraged to read the problem carefully and verify your code covers all possible cases."
   ]
  },
  {
   "cell_type": "markdown",
   "metadata": {
    "deletable": false,
    "editable": false,
    "nbgrader": {
     "cell_type": "markdown",
     "checksum": "17aa6da3c642a2de83ca133079723af8",
     "grade": false,
     "grade_id": "prob1",
     "locked": true,
     "schema_version": 3,
     "solution": false,
     "task": false
    }
   },
   "source": [
    "## Problem 1: Severance textbook exercises (8 points) \n",
    "Complete the following exercises from the textbook which you can find [here](https://www.py4e.com/html3/) for free \n",
    "- Ch 1, Exercises 3,5,6,8  \n",
    "- Ch 2, Exercises 3,4  \n",
    "- Ch 3, Exercises 1, 2  \n",
    "- Ch 4, Exercise 6  \n",
    "- Ch 6, Exercise 1  "
   ]
  },
  {
   "cell_type": "markdown",
   "metadata": {
    "deletable": false,
    "editable": false,
    "nbgrader": {
     "cell_type": "markdown",
     "checksum": "0975af250b99a4c44b629e6df15653e1",
     "grade": false,
     "grade_id": "cell-98656bea1fa5beea",
     "locked": true,
     "schema_version": 3,
     "solution": false,
     "task": false
    }
   },
   "source": [
    "---\n",
    "### Chapter 1, Exercises (2 points) "
   ]
  },
  {
   "cell_type": "markdown",
   "metadata": {
    "deletable": false,
    "editable": false,
    "nbgrader": {
     "cell_type": "markdown",
     "checksum": "9b8b7b08f7c8ef1dd71ca42060150016",
     "grade": false,
     "grade_id": "ex-1_1",
     "locked": true,
     "schema_version": 3,
     "solution": false,
     "task": false
    }
   },
   "source": [
    "#### Exercise 3 \n",
    "What is the difference between a compiler and an interpreter?"
   ]
  },
  {
   "cell_type": "code",
   "execution_count": 1,
   "metadata": {
    "deletable": false,
    "nbgrader": {
     "cell_type": "code",
     "checksum": "8919c90c1b08385ccec107632a1f2a88",
     "grade": false,
     "grade_id": "ch1-ex3-ans",
     "locked": false,
     "schema_version": 3,
     "solution": true,
     "task": false
    }
   },
   "outputs": [],
   "source": [
    "# Enter your answer as a python string in a variable called 'ans'. \n",
    "# For example: \"ans = 'This is a sample answer.'\"\n",
    "# You can use markdown formatting. \n",
    "# YOUR CODE HERE\n",
    "ans = (\"A compiler handles the entire program in a file, and then it runs a process to translate the high-level source code into machine language. \"\n",
    "       \"In contrast, a interpreter (such as Python) reads the source code of the program directly, line by line. \"\n",
    "       \"Compilers are generally faster than interpreters.\")\n",
    "# raise NotImplementedError()\n"
   ]
  },
  {
   "cell_type": "code",
   "execution_count": 2,
   "metadata": {
    "deletable": false,
    "editable": false,
    "nbgrader": {
     "cell_type": "code",
     "checksum": "9de5de0bc7d36140b89b3a3141e167ef",
     "grade": true,
     "grade_id": "ch1-ex3-test",
     "locked": true,
     "points": 0.5,
     "schema_version": 3,
     "solution": false,
     "task": false
    }
   },
   "outputs": [
    {
     "data": {
      "text/markdown": [
       "A compiler handles the entire program in a file, and then it runs a process to translate the high-level source code into machine language. In contrast, a interpreter (such as Python) reads the source code of the program directly, line by line. Compilers are generally faster than interpreters."
      ],
      "text/plain": [
       "<IPython.core.display.Markdown object>"
      ]
     },
     "execution_count": 2,
     "metadata": {},
     "output_type": "execute_result"
    }
   ],
   "source": [
    "# Make sure you answer is rendered as markdown below. \n",
    "from IPython.display import Markdown as md\n",
    "assert type(ans) == str\n",
    "md(ans)"
   ]
  },
  {
   "cell_type": "markdown",
   "metadata": {
    "deletable": false,
    "editable": false,
    "nbgrader": {
     "cell_type": "markdown",
     "checksum": "1aaa69d58a977531c74091607a36a5c8",
     "grade": false,
     "grade_id": "ex-1_2",
     "locked": true,
     "schema_version": 3,
     "solution": false,
     "task": false
    }
   },
   "source": [
    "#### Exercise 5\n",
    "What is wrong with the following code:\n",
    "```\n",
    ">>> primt 'Hello world!'\n",
    "File \"<stdin>\", line 1\n",
    "  primt 'Hello world!'\n",
    "                     ^\n",
    "SyntaxError: invalid syntax\n",
    ">>>\n",
    "```"
   ]
  },
  {
   "cell_type": "code",
   "execution_count": 3,
   "metadata": {
    "deletable": false,
    "nbgrader": {
     "cell_type": "code",
     "checksum": "24be8587955f19b618fd12ca45dbfe65",
     "grade": false,
     "grade_id": "ch1-ex5-ans",
     "locked": false,
     "schema_version": 3,
     "solution": true,
     "task": false
    }
   },
   "outputs": [],
   "source": [
    "# Enter your answer as a python string in a variable called 'ans'. \n",
    "# You can use markdown formatting. \n",
    "# YOUR CODE HERE\n",
    "ans = (\"The code has violated the grammar rules of Python. Specifically, there is no parenthesis around the string. \"\n",
    "\"Besides, the function 'print' has wrong spelling and it will raise a NameError later.\")\n",
    "\n",
    "# raise NotImplementedError()\n",
    "\n"
   ]
  },
  {
   "cell_type": "code",
   "execution_count": 4,
   "metadata": {
    "deletable": false,
    "editable": false,
    "nbgrader": {
     "cell_type": "code",
     "checksum": "8d23a2887800c8660c42034d0c502c87",
     "grade": true,
     "grade_id": "ch1-ex5-test",
     "locked": true,
     "points": 0.5,
     "schema_version": 3,
     "solution": false,
     "task": false
    }
   },
   "outputs": [
    {
     "data": {
      "text/markdown": [
       "The code has violated the grammar rules of Python. Specifically, there is no parenthesis around the string. Besides, the function 'print' has wrong spelling and it will raise a NameError later."
      ],
      "text/plain": [
       "<IPython.core.display.Markdown object>"
      ]
     },
     "execution_count": 4,
     "metadata": {},
     "output_type": "execute_result"
    }
   ],
   "source": [
    "# Make sure you answer is rendered as markdown below. \n",
    "from IPython.display import Markdown as md\n",
    "assert type(ans) == str\n",
    "md(ans)"
   ]
  },
  {
   "cell_type": "markdown",
   "metadata": {
    "deletable": false,
    "editable": false,
    "nbgrader": {
     "cell_type": "markdown",
     "checksum": "71810921f78c05980c0e3d90486ce77e",
     "grade": false,
     "grade_id": "ex-1_3",
     "locked": true,
     "schema_version": 3,
     "solution": false,
     "task": false
    }
   },
   "source": [
    "#### Exercise 6\n",
    "Where in the computer is a variable such as `x` stored after the following Python line finishes?\n",
    "\n",
    "a) Central processing unit\n",
    "\n",
    "b) Main Memory\n",
    "\n",
    "c) Secondary Memory\n",
    "\n",
    "d) Input Devices\n",
    "\n",
    "e) Output Devices"
   ]
  },
  {
   "cell_type": "code",
   "execution_count": 5,
   "metadata": {
    "deletable": false,
    "nbgrader": {
     "cell_type": "code",
     "checksum": "29135a9e27dfafd8b5a019c5a9a684e9",
     "grade": false,
     "grade_id": "cell-b0f556c01b7e2276",
     "locked": false,
     "schema_version": 3,
     "solution": true,
     "task": false
    }
   },
   "outputs": [],
   "source": [
    "# Enter your answer as a python string in a variable 'ans'. \n",
    "# Should be one of ['a', 'b', 'c', 'd', 'e']\n",
    "# YOUR CODE HERE\n",
    "ans = 'd'\n",
    "# raise NotImplementedError()"
   ]
  },
  {
   "cell_type": "code",
   "execution_count": 6,
   "metadata": {
    "deletable": false,
    "editable": false,
    "nbgrader": {
     "cell_type": "code",
     "checksum": "7cdbeae91f969386d3f1628a54b26913",
     "grade": true,
     "grade_id": "cell-3176d2d916422842",
     "locked": true,
     "points": 0.5,
     "schema_version": 3,
     "solution": false,
     "task": false
    }
   },
   "outputs": [],
   "source": [
    "assert type(ans) == str\n",
    "assert ans in ['a','b','c','d','e']"
   ]
  },
  {
   "cell_type": "markdown",
   "metadata": {
    "deletable": false,
    "editable": false,
    "nbgrader": {
     "cell_type": "markdown",
     "checksum": "eeffcaed49ad4a127bd7eb31c69a0130",
     "grade": false,
     "grade_id": "ex-1_4",
     "locked": true,
     "schema_version": 3,
     "solution": false,
     "task": false
    }
   },
   "source": [
    "#### Exercise 8\n",
    "Explain each of the following using an example of a human capability: (1) Central processing unit, (2) Main Memory, (3) Secondary Memory, (4) Input Device, and (5) Output Device. For example, “What is the human equivalent to a Central Processing Unit”?"
   ]
  },
  {
   "cell_type": "code",
   "execution_count": 7,
   "metadata": {
    "deletable": false,
    "nbgrader": {
     "cell_type": "code",
     "checksum": "e5c3aaa54631415909734343a3cceddb",
     "grade": false,
     "grade_id": "ch1-ex8-ans",
     "locked": false,
     "schema_version": 3,
     "solution": true,
     "task": false
    }
   },
   "outputs": [],
   "source": [
    "# Enter your answer as a python string in a variable called 'ans'. \n",
    "# You can use markdown formatting. \n",
    "# YOUR CODE HERE\n",
    "ans = (\"(1). CPU is the heart of any computer. It runs the software that we write.\"\n",
    "        \" (2). Main Memory stores programs and data. But it loses its information when the power is turned off. It's like short-term memory in human.\"\n",
    "          \" (3). Secondary Memory is also used to store information, but it is much slower than the main memory. The advantage of the secondary memory is that it can store information even when there is no power to the computer. Examples of secondary memory are disk drives or flash memory. It's kind of like long-memory in human. \"\n",
    "              \" (4) and (5). Input and Output Devices are simply our screen, keyboard, mouse, microphone, speaker, touchpad, etc. They are all of the ways we interact with the computer. They'are like the way of human interacting with the world, such as books are an input device and reading reports are an output deivce for students.\")\n",
    "# raise NotImplementedError()"
   ]
  },
  {
   "cell_type": "code",
   "execution_count": 8,
   "metadata": {
    "deletable": false,
    "editable": false,
    "nbgrader": {
     "cell_type": "code",
     "checksum": "656eda4aff9b60914beeb3b483207692",
     "grade": true,
     "grade_id": "ch1-ex8-test",
     "locked": true,
     "points": 0.5,
     "schema_version": 3,
     "solution": false,
     "task": false
    }
   },
   "outputs": [
    {
     "data": {
      "text/markdown": [
       "(1). CPU is the heart of any computer. It runs the software that we write. (2). Main Memory stores programs and data. But it loses its information when the power is turned off. It's like short-term memory in human. (3). Secondary Memory is also used to store information, but it is much slower than the main memory. The advantage of the secondary memory is that it can store information even when there is no power to the computer. Examples of secondary memory are disk drives or flash memory. It's kind of like long-memory in human.  (4) and (5). Input and Output Devices are simply our screen, keyboard, mouse, microphone, speaker, touchpad, etc. They are all of the ways we interact with the computer. They'are like the way of human interacting with the world, such as books are an input device and reading reports are an output deivce for students."
      ],
      "text/plain": [
       "<IPython.core.display.Markdown object>"
      ]
     },
     "execution_count": 8,
     "metadata": {},
     "output_type": "execute_result"
    }
   ],
   "source": [
    "# Make sure you answer is rendered as markdown below. \n",
    "from IPython.display import Markdown as md\n",
    "assert type(ans) == str\n",
    "md(ans)"
   ]
  },
  {
   "cell_type": "markdown",
   "metadata": {
    "deletable": false,
    "editable": false,
    "nbgrader": {
     "cell_type": "markdown",
     "checksum": "122852e8ba9ebf3ac7c5a62a40853012",
     "grade": false,
     "grade_id": "cell-6dac1d3c8d619364",
     "locked": true,
     "schema_version": 3,
     "solution": false,
     "task": false
    }
   },
   "source": [
    "### Chapter 2, Exercises (2 points) "
   ]
  },
  {
   "cell_type": "markdown",
   "metadata": {
    "deletable": false,
    "editable": false,
    "nbgrader": {
     "cell_type": "markdown",
     "checksum": "1a8474d6614c5bb81185885575f6d5b4",
     "grade": false,
     "grade_id": "cell-a1d3e44b4b11f8e2",
     "locked": true,
     "schema_version": 3,
     "solution": false,
     "task": false
    }
   },
   "source": [
    "#### Exercise 3\n",
    " Write a function to prompt the user for hours and rate per hour to compute gross pay."
   ]
  },
  {
   "cell_type": "code",
   "execution_count": 9,
   "metadata": {
    "deletable": false,
    "nbgrader": {
     "cell_type": "code",
     "checksum": "41a5940727b00316885a39421dad75d7",
     "grade": false,
     "grade_id": "cell-312caeaaf6abe1a9",
     "locked": false,
     "schema_version": 3,
     "solution": true,
     "task": false
    }
   },
   "outputs": [],
   "source": [
    "def get_gross_pay(hours, rate_per_hour):\n",
    "    # YOUR CODE HERE\n",
    "    return float(hours)*float(rate_per_hour)\n",
    "    #raise NotImplementedError()"
   ]
  },
  {
   "cell_type": "code",
   "execution_count": 10,
   "metadata": {
    "deletable": false,
    "editable": false,
    "nbgrader": {
     "cell_type": "code",
     "checksum": "07acd5f6653183d99279399cd854bb56",
     "grade": true,
     "grade_id": "cell-458cb3b5b6333645",
     "locked": true,
     "points": 1,
     "schema_version": 3,
     "solution": false,
     "task": false
    }
   },
   "outputs": [],
   "source": [
    "assert get_gross_pay(3, 10) == 30"
   ]
  },
  {
   "cell_type": "markdown",
   "metadata": {
    "deletable": false,
    "editable": false,
    "nbgrader": {
     "cell_type": "markdown",
     "checksum": "d4253ddabf5dcb30e24bd766dc13d092",
     "grade": false,
     "grade_id": "cell-7c64928c74662663",
     "locked": true,
     "schema_version": 3,
     "solution": false,
     "task": false
    }
   },
   "source": [
    "#### Exercise 4\n",
    "Assume that we execute the following assignment statements:\n",
    "```\n",
    "width = 17\n",
    "height = 12.0\n",
    "```\n",
    "For each of the following expressions, write the value of the expression and the type (of the value of the expression).\n",
    "\n",
    "1. `width//2`\n",
    "\n",
    "2. `width/2.0`\n",
    "\n",
    "3. `height/3`\n",
    "\n",
    "4. `1 + 2 * 5`"
   ]
  },
  {
   "cell_type": "code",
   "execution_count": 11,
   "metadata": {},
   "outputs": [
    {
     "data": {
      "text/plain": [
       "'width = 17\\nheight = 12.0\\ntype(width//2)\\ntype(width/2.0)\\ntype(height/3)\\ntype(1 + 2 * 5)'"
      ]
     },
     "execution_count": 11,
     "metadata": {},
     "output_type": "execute_result"
    }
   ],
   "source": [
    "'''width = 17\n",
    "height = 12.0\n",
    "type(width//2)\n",
    "type(width/2.0)\n",
    "type(height/3)\n",
    "type(1 + 2 * 5)'''\n"
   ]
  },
  {
   "cell_type": "code",
   "execution_count": 12,
   "metadata": {
    "deletable": false,
    "nbgrader": {
     "cell_type": "code",
     "checksum": "3307f2434b4ea445516fcc2d72f2ab11",
     "grade": false,
     "grade_id": "cell-e69aa106b6a89086",
     "locked": false,
     "schema_version": 3,
     "solution": true,
     "task": false
    }
   },
   "outputs": [],
   "source": [
    "# Enter you answer as python list of tuples (value, type) in a variable 'ans'.\n",
    "# For example, \"ans = [(1,int), (2.0, float)]\" (not actual answer)\n",
    "# where the order of the list corresponds to order above.\n",
    "\n",
    "# YOUR CODE HERE\n",
    "ans = [(8,int), (8.5,float), (4.0,float), (11,int)]\n",
    "#raise NotImplementedError()"
   ]
  },
  {
   "cell_type": "code",
   "execution_count": 13,
   "metadata": {
    "deletable": false,
    "editable": false,
    "nbgrader": {
     "cell_type": "code",
     "checksum": "fd32dbf0811bdf7a8937b6b1c16c0f9f",
     "grade": true,
     "grade_id": "cell-796c8c2828e551ce",
     "locked": true,
     "points": 1,
     "schema_version": 3,
     "solution": false,
     "task": false
    }
   },
   "outputs": [],
   "source": [
    "assert ans[0] == (8,int)"
   ]
  },
  {
   "cell_type": "markdown",
   "metadata": {
    "deletable": false,
    "editable": false,
    "nbgrader": {
     "cell_type": "markdown",
     "checksum": "156b06627468e261d3b29f9744ab84a8",
     "grade": false,
     "grade_id": "cell-f8ae53587f9774ac",
     "locked": true,
     "schema_version": 3,
     "solution": false,
     "task": false
    }
   },
   "source": [
    "---\n",
    "### Chapter 3, Exercises (2 points) "
   ]
  },
  {
   "cell_type": "markdown",
   "metadata": {
    "deletable": false,
    "editable": false,
    "nbgrader": {
     "cell_type": "markdown",
     "checksum": "a33a4d658c3e6adb63c5f58fc1c65e2e",
     "grade": false,
     "grade_id": "cell-997d6b17e4fe7850",
     "locked": true,
     "schema_version": 3,
     "solution": false,
     "task": false
    }
   },
   "source": [
    "#### Exercise 1 \n",
    "Rewrite your `get_gross_pay` function from ch2, exercise 3 to give the employee 1.5 times the hourly rate for hours worked above 40 hours."
   ]
  },
  {
   "cell_type": "code",
   "execution_count": 14,
   "metadata": {
    "deletable": false,
    "nbgrader": {
     "cell_type": "code",
     "checksum": "07b8a04032975dd2d4cd4612c15b1f19",
     "grade": false,
     "grade_id": "cell-8f610a982f866fac",
     "locked": false,
     "schema_version": 3,
     "solution": true,
     "task": false
    }
   },
   "outputs": [],
   "source": [
    "def get_gross_pay(hours, rate_per_hour):\n",
    "    # YOUR CODE HERE\n",
    "    if hours <= 40:\n",
    "        return hours*rate_per_hour\n",
    "    else:\n",
    "        return 40*rate_per_hour+(hours-40)*(1.5*rate_per_hour)\n",
    "    #raise NotImplementedError()"
   ]
  },
  {
   "cell_type": "code",
   "execution_count": 15,
   "metadata": {
    "deletable": false,
    "editable": false,
    "nbgrader": {
     "cell_type": "code",
     "checksum": "657af1a8e9a04c49b90f7d4b03a83ad0",
     "grade": true,
     "grade_id": "cell-537d9d1c5dcd290f",
     "locked": true,
     "points": 1,
     "schema_version": 3,
     "solution": false,
     "task": false
    }
   },
   "outputs": [],
   "source": [
    "assert get_gross_pay(0, 1000)==0\n",
    "assert get_gross_pay(2, 10)==20"
   ]
  },
  {
   "cell_type": "markdown",
   "metadata": {
    "deletable": false,
    "editable": false,
    "nbgrader": {
     "cell_type": "markdown",
     "checksum": "5401fb2a7958b4a61458540aed3c2b6d",
     "grade": false,
     "grade_id": "cell-4bd5a0ba51b73a0f",
     "locked": true,
     "schema_version": 3,
     "solution": false,
     "task": false
    }
   },
   "source": [
    "#### Exercise 2\n",
    "Rewrite your `get_gross_pay` program from ch2, exercise 3 using `try` and `except` so that your program handles non-numeric input gracefully by printing a message and exiting the program. The following shows two executions of the program:\n",
    "\n",
    "```\n",
    ">>> get_gross_pay(20, 'nine')\n",
    "Error, please enter numeric input\n",
    "\n",
    ">>> get_gross_pay('forty', 'nine')\n",
    "Error, please enter numeric input\n",
    "```"
   ]
  },
  {
   "cell_type": "code",
   "execution_count": 16,
   "metadata": {
    "deletable": false,
    "nbgrader": {
     "cell_type": "code",
     "checksum": "5f4f4c0ed03d6b6247d2fece85841802",
     "grade": false,
     "grade_id": "cell-b57ce5b94cb6cf92",
     "locked": false,
     "schema_version": 3,
     "solution": true,
     "task": false
    }
   },
   "outputs": [],
   "source": [
    "def get_gross_pay(hours, rate_per_hour):\n",
    "    # YOUR CODE HERE\n",
    "    #raise NotImplementedError()\n",
    "    try:\n",
    "        return float(hours)*float(rate_per_hour)\n",
    "    except:\n",
    "        print(\"Error, please enter numeric input\")\n",
    "  "
   ]
  },
  {
   "cell_type": "code",
   "execution_count": 17,
   "metadata": {
    "deletable": false,
    "editable": false,
    "nbgrader": {
     "cell_type": "code",
     "checksum": "3d7c289ecbbe5fed167d05b00b913ce7",
     "grade": true,
     "grade_id": "cell-582c5cae10097fd1",
     "locked": true,
     "points": 1,
     "schema_version": 3,
     "solution": false,
     "task": false
    }
   },
   "outputs": [
    {
     "name": "stdout",
     "output_type": "stream",
     "text": [
      "Error, please enter numeric input\n",
      "Error, please enter numeric input\n",
      "Error, please enter numeric input\n"
     ]
    }
   ],
   "source": [
    "try: \n",
    "    get_gross_pay('nine', 'five')\n",
    "    get_gross_pay('nine', 5)\n",
    "    get_gross_pay(5, 5)\n",
    "    get_gross_pay(5, 'nine')\n",
    "    assert True\n",
    "except: \n",
    "    assert False"
   ]
  },
  {
   "cell_type": "markdown",
   "metadata": {
    "deletable": false,
    "editable": false,
    "nbgrader": {
     "cell_type": "markdown",
     "checksum": "a7bb1051885fada8dceb64bad7b9ffe0",
     "grade": false,
     "grade_id": "cell-bf7cd144cb19f903",
     "locked": true,
     "schema_version": 3,
     "solution": false,
     "task": false
    }
   },
   "source": [
    "### Chapter 4, Exercises (1 point)"
   ]
  },
  {
   "cell_type": "markdown",
   "metadata": {
    "deletable": false,
    "editable": false,
    "nbgrader": {
     "cell_type": "markdown",
     "checksum": "e3690ba0fb344f3b3906be7fada4a92e",
     "grade": false,
     "grade_id": "cell-bc6e930ec2f1e44a",
     "locked": true,
     "schema_version": 3,
     "solution": false,
     "task": false
    }
   },
   "source": [
    "#### Exercise 1 \n",
    "What is the purpose of the `def` keyword in Python?\n",
    "\n",
    "a) It is slang that means “the following code is really cool”\n",
    "\n",
    "b) It indicates the start of a function\n",
    "\n",
    "c) It indicates that the following indented section of code is to be stored for later\n",
    "\n",
    "d) b and c are both true\n",
    "\n",
    "e) None of the above"
   ]
  },
  {
   "cell_type": "code",
   "execution_count": 18,
   "metadata": {
    "deletable": false,
    "nbgrader": {
     "cell_type": "code",
     "checksum": "8039a9daa644bfd9c8cde2d442719019",
     "grade": false,
     "grade_id": "ch4-ex1-ans",
     "locked": false,
     "schema_version": 3,
     "solution": true,
     "task": false
    }
   },
   "outputs": [],
   "source": [
    "# Enter your answer as a python string in a variable 'ans'. \n",
    "# Should be one of ['a', 'b', 'c', 'd', 'e']\n",
    "# YOUR CODE HERE\n",
    "#raise NotImplementedError()\n",
    "ans = \"b\""
   ]
  },
  {
   "cell_type": "code",
   "execution_count": 19,
   "metadata": {
    "deletable": false,
    "editable": false,
    "nbgrader": {
     "cell_type": "code",
     "checksum": "1bb1c033b227f2c24a79124d52f3fdbf",
     "grade": true,
     "grade_id": "ch4-ex1-test",
     "locked": true,
     "points": 1,
     "schema_version": 3,
     "solution": false,
     "task": false
    }
   },
   "outputs": [],
   "source": [
    "assert type(ans) == str\n",
    "assert ans in ['a','b','c','d','e']"
   ]
  },
  {
   "cell_type": "markdown",
   "metadata": {
    "deletable": false,
    "editable": false,
    "nbgrader": {
     "cell_type": "markdown",
     "checksum": "220b7f25eeba4c136408687598ede9c3",
     "grade": false,
     "grade_id": "cell-e115f86d73d8ce91",
     "locked": true,
     "schema_version": 3,
     "solution": false,
     "task": false
    }
   },
   "source": [
    "### Chapter 6, Exercises (1 point) "
   ]
  },
  {
   "cell_type": "markdown",
   "metadata": {
    "deletable": false,
    "editable": false,
    "nbgrader": {
     "cell_type": "markdown",
     "checksum": "7a9d134bf8cf73293961b0d7b43aa6b9",
     "grade": false,
     "grade_id": "ex-6_1",
     "locked": true,
     "schema_version": 3,
     "solution": false,
     "task": false
    }
   },
   "source": [
    "#### Exercise 6\n",
    "Read the documentation of the string methods at https://docs.python.org/library/stdtypes.html#string-methods You might want to experiment with some of them to make sure you understand how they work. `strip` and `replace` are particularly useful."
   ]
  },
  {
   "cell_type": "code",
   "execution_count": 20,
   "metadata": {
    "deletable": false,
    "nbgrader": {
     "cell_type": "code",
     "checksum": "2f8d7f834f3c1134580e1f725478fe86",
     "grade": false,
     "grade_id": "cell-9a484821ec48c9fc",
     "locked": false,
     "schema_version": 3,
     "solution": true,
     "task": false
    }
   },
   "outputs": [],
   "source": [
    "# Create a variable 'ans' with the string: 'I read the documentation.'\n",
    "# YOUR CODE HERE\n",
    "ans = \"I read the documentation.\"\n",
    "# raise NotImplementedError()"
   ]
  },
  {
   "cell_type": "code",
   "execution_count": 21,
   "metadata": {
    "deletable": false,
    "editable": false,
    "nbgrader": {
     "cell_type": "code",
     "checksum": "cdfb234fe6bb11e39da44f837352f0ee",
     "grade": true,
     "grade_id": "cell-4dd3c9dad6369e20",
     "locked": true,
     "points": 1,
     "schema_version": 3,
     "solution": false,
     "task": false
    }
   },
   "outputs": [],
   "source": [
    "assert ans == 'I read the documentation.'"
   ]
  },
  {
   "cell_type": "markdown",
   "metadata": {
    "deletable": false,
    "editable": false,
    "nbgrader": {
     "cell_type": "markdown",
     "checksum": "5a7dd97251ef720c17a8e47ccf476659",
     "grade": false,
     "grade_id": "prob2",
     "locked": true,
     "schema_version": 3,
     "solution": false,
     "task": false
    }
   },
   "source": [
    "## Problem 2: Euclid's Algorithm (3 points)"
   ]
  },
  {
   "cell_type": "markdown",
   "metadata": {
    "deletable": false,
    "editable": false,
    "nbgrader": {
     "cell_type": "markdown",
     "checksum": "bd3b32246867eba19ad478a535de0b75",
     "grade": false,
     "grade_id": "prob2-desc",
     "locked": true,
     "schema_version": 3,
     "solution": false,
     "task": false
    }
   },
   "source": [
    "Euclid’s algorithm (https://en.wikipedia.org/wiki/Euclidean_algorithm) is a method\n",
    "for finding the greatest common divisor (GCD) of two integers. Recall that the GCD of\n",
    "two integers $m$ and $n$ is the largest number that divides both $m$ and $n$."
   ]
  },
  {
   "cell_type": "markdown",
   "metadata": {
    "deletable": false,
    "editable": false,
    "nbgrader": {
     "cell_type": "markdown",
     "checksum": "5d9f4f5f58091ad2bbd041a90f1dc820",
     "grade": false,
     "grade_id": "prob3-part1",
     "locked": true,
     "schema_version": 3,
     "solution": false,
     "task": false
    }
   },
   "source": [
    "---\n",
    "### Part 1 (2 points)\n",
    "\n",
    "The __Wikipedia__ page above includes several pseudocode implementations of Euclid’s\n",
    "algorithm. Choose one of these, and use it to implement a function `gcd`, which takes\n",
    "two integers as its arguments and returns their GCD. You may assume that both\n",
    "inputs are integers, so there is no need to include any error checking in your function.\n",
    "\n",
    "**Note:** this is one of the rare occasions where you have my explicit permission to\n",
    "look up your answer. Unless otherwise stated (e.g., as in this problem), looking up\n",
    "solutions on Wikipedia or in any other non-class resource will be considered cheating!"
   ]
  },
  {
   "cell_type": "code",
   "execution_count": 22,
   "metadata": {
    "deletable": false,
    "nbgrader": {
     "cell_type": "code",
     "checksum": "36d0acb5f4e0e667257f1678f5b8cb39",
     "grade": false,
     "grade_id": "gcd",
     "locked": false,
     "schema_version": 3,
     "solution": true
    }
   },
   "outputs": [],
   "source": [
    "def gcd(a,b):\n",
    "    \"\"\"Compute the great common divisor (GCD) of two integers a,b. \n",
    "    \"\"\"\n",
    "    # YOUR CODE HERE\n",
    "   \n",
    "    while b != 0:\n",
    "        t = b\n",
    "        b = a%b\n",
    "        a = t\n",
    "    return a\n",
    "\n",
    "# raise NotImplementedError()\n"
   ]
  },
  {
   "cell_type": "code",
   "execution_count": 23,
   "metadata": {
    "deletable": false,
    "editable": false,
    "nbgrader": {
     "cell_type": "code",
     "checksum": "38c4126f1624a08c694e685bf60f9c2d",
     "grade": true,
     "grade_id": "gcd_tests",
     "locked": true,
     "points": 2,
     "schema_version": 3,
     "solution": false,
     "task": false
    }
   },
   "outputs": [],
   "source": [
    "\"\"\"Check that your gcd function returns the correct output for several inputs\"\"\"\n",
    "assert gcd(4,5) == 1\n",
    "assert gcd(20,10) == 10"
   ]
  },
  {
   "cell_type": "markdown",
   "metadata": {
    "deletable": false,
    "editable": false,
    "nbgrader": {
     "cell_type": "markdown",
     "checksum": "4377430516ddd02d4676ac0426cb9dcf",
     "grade": false,
     "grade_id": "negative_gcd",
     "locked": true,
     "schema_version": 3,
     "solution": false,
     "task": false
    }
   },
   "source": [
    "### Part 2 (1 point) \n",
    "What does your function do if one or both of the arguments are negative?"
   ]
  },
  {
   "cell_type": "code",
   "execution_count": 24,
   "metadata": {
    "deletable": false,
    "nbgrader": {
     "cell_type": "code",
     "checksum": "bdcdfdb206210cffeb658ad45336cd73",
     "grade": false,
     "grade_id": "cell-9b7a530cbce57b8d",
     "locked": false,
     "schema_version": 3,
     "solution": true,
     "task": false
    }
   },
   "outputs": [],
   "source": [
    "# Enter your answer as a python string in a variable called 'ans'. \n",
    "# You can use markdown formatting. \n",
    "# YOUR CODE HERE\n",
    "ans = \"It will return a negative number, but it doesn't make sense of the definition of gcd (i.e. gcd should be a postive number). To make the function more reasonable, I probably need to modify the previous function so that it can handle the negative numbers as well.\"\n",
    "#raise NotImplementedError()"
   ]
  },
  {
   "cell_type": "code",
   "execution_count": 25,
   "metadata": {
    "deletable": false,
    "editable": false,
    "nbgrader": {
     "cell_type": "code",
     "checksum": "15716450f51ebfe11ee32e88ab1edff9",
     "grade": true,
     "grade_id": "cell-2bdb84d0d76cdb07",
     "locked": true,
     "points": 1,
     "schema_version": 3,
     "solution": false,
     "task": false
    }
   },
   "outputs": [
    {
     "data": {
      "text/markdown": [
       "It will return a negative number, but it doesn't make sense of the definition of gcd (i.e. gcd should be a postive number). To make the function more reasonable, I probably need to modify the previous function so that it can handle the negative numbers as well."
      ],
      "text/plain": [
       "<IPython.core.display.Markdown object>"
      ]
     },
     "execution_count": 25,
     "metadata": {},
     "output_type": "execute_result"
    }
   ],
   "source": [
    "# Make sure you answer is rendered as markdown below. \n",
    "from IPython.display import Markdown as md\n",
    "assert type(ans) == str\n",
    "md(ans)"
   ]
  },
  {
   "cell_type": "markdown",
   "metadata": {
    "deletable": false,
    "editable": false,
    "nbgrader": {
     "cell_type": "markdown",
     "checksum": "9d2c82e1af19eb2d3f17df6681e97750",
     "grade": false,
     "grade_id": "prob3",
     "locked": true,
     "schema_version": 3,
     "solution": false,
     "task": false
    }
   },
   "source": [
    "## Problem 3: Approximating Euler's number $e$ (8 points) "
   ]
  },
  {
   "cell_type": "markdown",
   "metadata": {
    "deletable": false,
    "editable": false,
    "nbgrader": {
     "cell_type": "markdown",
     "checksum": "325b73d991bd63b96bd0f49b89f3ae5a",
     "grade": false,
     "grade_id": "prob3-description",
     "locked": true,
     "schema_version": 3,
     "solution": false,
     "task": false
    }
   },
   "source": [
    "The base of the natural logarithm, $e$, is typically deﬁned as the inﬁnite sum\n",
    "\n",
    "$$\n",
    "    e = \\sum_{k=0}^{\\infty} \\frac{1}{k!} = 1 + 1 + \\frac{1}{2} + \\frac{1}{6} + \\frac{1}{24}\n",
    "$$\n",
    "\n",
    "where $k!$ denotes the factorial of $k$, \n",
    "\n",
    "$$\n",
    "k! = k \\cdot (k-1) \\cdot (k-2) ... 3 \\cdot 2 \\cdot 1 \n",
    "$$\n",
    "\n",
    "where we deﬁne $0! = 1$ by convention. For more on Euler’s number, see [here](https://en.wikipedia.org/wiki/E_(mathematical_constant)). In this problem, we will explore diﬀerent approaches to approximating this number."
   ]
  },
  {
   "cell_type": "markdown",
   "metadata": {
    "deletable": false,
    "editable": false,
    "nbgrader": {
     "cell_type": "markdown",
     "checksum": "6c304454f85268dd214bbd053100378a",
     "grade": false,
     "grade_id": "prob3-ex1",
     "locked": true,
     "schema_version": 3,
     "solution": false,
     "task": false
    }
   },
   "source": [
    "### Part 1 (2 points) "
   ]
  },
  {
   "cell_type": "markdown",
   "metadata": {
    "deletable": false,
    "editable": false,
    "nbgrader": {
     "cell_type": "markdown",
     "checksum": "59d7739955893a146111442296c1772f",
     "grade": false,
     "grade_id": "prob3-ex1-description",
     "locked": true,
     "schema_version": 3,
     "solution": false,
     "task": false
    }
   },
   "source": [
    "An early characterization of Euler’s number, due to Jacob Bernoulli, was as the limit of\n",
    "\n",
    "$$ \n",
    "(1 + \\frac{1}{x})^{x}\n",
    "$$\n",
    "\n",
    "as $x \\rightarrow \\infty$. Deﬁne a function called `euler_limit` that takes as an argument an integer $n$, and returns a `ﬂoat` that approximates $e$ by taking $x = n$ in Equation (2). You may assume that the input to your function will be a positive integer (of course, your function will still run just ﬁne if `n` is, say, a positive ﬂoat, but we will only use integer values in what follows)."
   ]
  },
  {
   "cell_type": "code",
   "execution_count": 26,
   "metadata": {
    "deletable": false,
    "nbgrader": {
     "cell_type": "code",
     "checksum": "b0c08c3c6b5a00020d44b02fa91d8ae4",
     "grade": false,
     "grade_id": "euler_limit",
     "locked": false,
     "schema_version": 3,
     "solution": true,
     "task": false
    }
   },
   "outputs": [],
   "source": [
    "def euler_limit(n): \n",
    "    \"\"\"Takes in a positive integer n and returns a float approximating the natural number e.\"\"\"\n",
    "    approx = (1+ 1/n)**n\n",
    "    return approx"
   ]
  },
  {
   "cell_type": "code",
   "execution_count": 27,
   "metadata": {
    "deletable": false,
    "editable": false,
    "nbgrader": {
     "cell_type": "code",
     "checksum": "281397a197c223cfb5082c4de0b3c929",
     "grade": true,
     "grade_id": "test_euler_limit1",
     "locked": true,
     "points": 1,
     "schema_version": 3,
     "solution": false,
     "task": false
    }
   },
   "outputs": [],
   "source": [
    "\"\"\"Check that your euler_limit function returns the correct output for several inputs\"\"\"\n",
    "assert euler_limit(1) == 2.0 \n",
    "assert euler_limit(2) == 2.25"
   ]
  },
  {
   "cell_type": "code",
   "execution_count": 28,
   "metadata": {
    "deletable": false,
    "editable": false,
    "nbgrader": {
     "cell_type": "code",
     "checksum": "81815e566d040ebb174752e210da1582",
     "grade": true,
     "grade_id": "test_euler_limit2",
     "locked": true,
     "points": 1,
     "schema_version": 3,
     "solution": false,
     "task": false
    }
   },
   "outputs": [],
   "source": [
    "assert round(euler_limit(3),3) == 2.370"
   ]
  },
  {
   "cell_type": "markdown",
   "metadata": {
    "deletable": false,
    "editable": false,
    "nbgrader": {
     "cell_type": "markdown",
     "checksum": "1f1f234b0927ea0b445d65bae59f1bc0",
     "grade": false,
     "grade_id": "prob3-ex2",
     "locked": true,
     "schema_version": 3,
     "solution": false,
     "task": false
    }
   },
   "source": [
    "### Part 2 (1 point) \n",
    "What happens when you call `euler_limit(n)` for really huge values of `n` (say, $10^{16}$ or $10^{18}$ )? Why does this happen? \n",
    "\n",
    "**Hint:** the answer has to do with ﬂoating point arithmetic. Think about how $1/n$ is represented on your computer when $n$ is big."
   ]
  },
  {
   "cell_type": "code",
   "execution_count": 29,
   "metadata": {
    "deletable": false,
    "nbgrader": {
     "cell_type": "code",
     "checksum": "d3085d43f2fcf7b6c98635013a387436",
     "grade": false,
     "grade_id": "prob3-part2-ans",
     "locked": false,
     "schema_version": 3,
     "solution": true,
     "task": false
    }
   },
   "outputs": [
    {
     "name": "stdout",
     "output_type": "stream",
     "text": [
      "1.0\n"
     ]
    }
   ],
   "source": [
    "print(euler_limit(10**16))\n",
    "# Enter your answer as a python string in a variable called 'ans'. \n",
    "# You can use markdown formatting. \n",
    "# YOUR CODE HERE\n",
    "ans = \"It returns 1.0. Mathematically, when n is large enough, 1/n approaches to zero, and therefore the limit of e approaches to 1. In Python, there are 53 bits of precision available for a Python float. For numbers larger than that, Python keeps the number of digits manageable by displaying a rounded value instead. Therefore, Python keeps a rounded value automatically in the situations of really huge values. \"\n",
    "# raise NotImplementedError()"
   ]
  },
  {
   "cell_type": "code",
   "execution_count": 30,
   "metadata": {
    "deletable": false,
    "editable": false,
    "nbgrader": {
     "cell_type": "code",
     "checksum": "88465601878cbd4665373b1a998740ea",
     "grade": true,
     "grade_id": "prob3-part2-tests",
     "locked": true,
     "points": 1,
     "schema_version": 3,
     "solution": false,
     "task": false
    }
   },
   "outputs": [
    {
     "data": {
      "text/markdown": [
       "It returns 1.0. Mathematically, when n is large enough, 1/n approaches to zero, and therefore the limit of e approaches to 1. In Python, there are 53 bits of precision available for a Python float. For numbers larger than that, Python keeps the number of digits manageable by displaying a rounded value instead. Therefore, Python keeps a rounded value automatically in the situations of really huge values. "
      ],
      "text/plain": [
       "<IPython.core.display.Markdown object>"
      ]
     },
     "execution_count": 30,
     "metadata": {},
     "output_type": "execute_result"
    }
   ],
   "source": [
    "# Make sure you answer is rendered as markdown below. \n",
    "from IPython.display import Markdown as md\n",
    "assert type(ans) == str\n",
    "md(ans)"
   ]
  },
  {
   "cell_type": "markdown",
   "metadata": {
    "deletable": false,
    "editable": false,
    "nbgrader": {
     "cell_type": "markdown",
     "checksum": "c2fc3afebd16172dc78568a994f5bb19",
     "grade": false,
     "grade_id": "prob3-ex3",
     "locked": true,
     "schema_version": 3,
     "solution": false,
     "task": false
    }
   },
   "source": [
    "### Part 3 (2 points) \n",
    "Deﬁne a function called `euler_sum` that takes a single non-negative integer argument `n`, and returns an approximation to $e$ based on the ﬁrst `n` terms of the sum in Equation (1). Your function should return a ﬂoat. \n",
    "You may assume that the input will be a non-negative integer, so you do not need to include error checking in your function. \n",
    "\n",
    "As an example, `euler_sum(4)` should return the sum of the ﬁrst four terms in Equation 1, so that `euler_sum(4)` returns $1 + 1 + 1/2 + 1/6 ≈ 2.667$. \n",
    "\n",
    "**Note:** the sum in Equation 1 starts counting with $k = 0$ (i.e., it is “0-indexed”), while our function starts counting with $n = 1$ (i.e., it is “1-indexed”). `euler_sum(1)` should use one term from Equation (1), so that `euler_sum(1)` returns `1`. Similarly, `euler_sum(0)` should return `0`, since by convention an empty sum is equal to zero. \n",
    "\n",
    "**Note:** you may use the math.factorial function to compute $k!$, but I recommend, for the sake of practice, implementing the factorial function yourself, as it is a nice example of a problem that is easily solved with recursion."
   ]
  },
  {
   "cell_type": "code",
   "execution_count": 31,
   "metadata": {
    "deletable": false,
    "nbgrader": {
     "cell_type": "code",
     "checksum": "11872c5acd04b5fc50c1766b62c06611",
     "grade": false,
     "grade_id": "euler-sum",
     "locked": false,
     "schema_version": 3,
     "solution": true,
     "task": false
    }
   },
   "outputs": [],
   "source": [
    "def factorial(k): # suppose n is a non-negative number\n",
    "    factorial = 1\n",
    "    if k == 0:\n",
    "        return factorial\n",
    "    else:\n",
    "        for i in range(1, k+1):\n",
    "            factorial = factorial*i\n",
    "        return factorial\n",
    "              \n",
    "\n",
    "def euler_sum(n): # n is a non-negative integer\n",
    "    sum = 0 \n",
    "    if n == 0:\n",
    "        return sum\n",
    "    else: # n>0\n",
    "        for i in range(0,n):\n",
    "            f_inverse = 1/factorial(i)\n",
    "            sum = sum + f_inverse\n",
    "        return sum\n",
    "\n"
   ]
  },
  {
   "cell_type": "code",
   "execution_count": 32,
   "metadata": {
    "deletable": false,
    "editable": false,
    "nbgrader": {
     "cell_type": "code",
     "checksum": "d0faf4eba23802aa10b9fdd1118ec310",
     "grade": true,
     "grade_id": "test-euler-sum1",
     "locked": true,
     "points": 1,
     "schema_version": 3,
     "solution": false,
     "task": false
    }
   },
   "outputs": [],
   "source": [
    "assert euler_sum(0) == 0 \n",
    "assert round(euler_sum(4),3) == 2.667"
   ]
  },
  {
   "cell_type": "code",
   "execution_count": 33,
   "metadata": {
    "deletable": false,
    "editable": false,
    "nbgrader": {
     "cell_type": "code",
     "checksum": "a74ecbe30df4f4ca7bc60d6d369c35be",
     "grade": true,
     "grade_id": "test-euler-sum2",
     "locked": true,
     "points": 1,
     "schema_version": 3,
     "solution": false,
     "task": false
    }
   },
   "outputs": [],
   "source": [
    "assert euler_sum(3) == 2.5"
   ]
  },
  {
   "cell_type": "markdown",
   "metadata": {
    "deletable": false,
    "editable": false,
    "nbgrader": {
     "cell_type": "markdown",
     "checksum": "81549625ca5d9dd5bc5f4b0e870a5acd",
     "grade": false,
     "grade_id": "prob3-ex4",
     "locked": true,
     "schema_version": 3,
     "solution": false,
     "task": false
    }
   },
   "source": [
    "### Part 4 (1 point) \n",
    "Deﬁne a function called `euler_approx` that takes a single argument, a positive ﬂoat `epsilon`, and uses the sum in (1) to obtain an approximation of $e$ that is within `epsilon` of the true value of $e$. \n",
    "\n",
    "**Hint:** use a while-loop. \n",
    "\n",
    "**Note:** you can use the Python math module to get the true value of $e$ (up to ﬂoating point accuracy): `math.exp(1)`."
   ]
  },
  {
   "cell_type": "code",
   "execution_count": 34,
   "metadata": {
    "deletable": false,
    "nbgrader": {
     "cell_type": "code",
     "checksum": "1026e9a8cefa6e7695187828f20a22d2",
     "grade": false,
     "grade_id": "euler-approx",
     "locked": false,
     "schema_version": 3,
     "solution": true,
     "task": false
    }
   },
   "outputs": [],
   "source": [
    "import math\n",
    "\n",
    "def euler_approx(epsilon):\n",
    "    epsilon>0 and isinstance(epsilon, float)# check the input: a postive float\n",
    "    if True:\n",
    "        n = 1 #start from the first term of euler sum\n",
    "        while abs(euler_sum(n)- math.exp(1))>= epsilon:\n",
    "            n = n+1\n",
    "    return euler_sum(n)"
   ]
  },
  {
   "cell_type": "code",
   "execution_count": 35,
   "metadata": {
    "deletable": false,
    "editable": false,
    "nbgrader": {
     "cell_type": "code",
     "checksum": "cf33fdd9eafb79192569f57928896b26",
     "grade": true,
     "grade_id": "euler-approx-tests",
     "locked": true,
     "points": 1,
     "schema_version": 3,
     "solution": false,
     "task": false
    }
   },
   "outputs": [],
   "source": [
    "assert abs(euler_approx(1e0) - math.exp(1)) < 1e0"
   ]
  },
  {
   "cell_type": "markdown",
   "metadata": {
    "deletable": false,
    "editable": false,
    "nbgrader": {
     "cell_type": "markdown",
     "checksum": "db6f97feb3bd37848765aa61d88a34c1",
     "grade": false,
     "grade_id": "prob3-ex5",
     "locked": true,
     "schema_version": 3,
     "solution": false,
     "task": false
    }
   },
   "source": [
    "### Part 5 (1 point) \n",
    "Deﬁne functions called `print_euler_sum_table` and `print_euler_lim_table` that each takes a single positive integer `n` as an argument and prints the error between the approximation given by, respectively, `euler_sum(k)` or `euler_limit(k)` and the true value of $e$ as `k` ranges from `1` to `n`, one per line. That is, the functions should print a table of the the approximation error for diﬀerent choices of `k`."
   ]
  },
  {
   "cell_type": "code",
   "execution_count": 36,
   "metadata": {
    "deletable": false,
    "nbgrader": {
     "cell_type": "code",
     "checksum": "ee2e3373448d0c552e6acaeadba90dac",
     "grade": false,
     "grade_id": "prob3-ex5-func",
     "locked": false,
     "schema_version": 3,
     "solution": true,
     "task": false
    }
   },
   "outputs": [],
   "source": [
    "def print_euler_sum_table(k):# a positive integer\n",
    "    # YOUR CODE HERE\n",
    "    for i in range(1, k+1):\n",
    "        print(abs(euler_sum(i) - math.exp(1)))\n",
    "\n",
    "def print_euler_lim_table(k):# a positive integer\n",
    "    # YOUR CODE HERE\n",
    "    for i in range(1, k+1):\n",
    "        print(abs(euler_limit(i) - math.exp(1)))\n"
   ]
  },
  {
   "cell_type": "code",
   "execution_count": 37,
   "metadata": {
    "deletable": false,
    "editable": false,
    "nbgrader": {
     "cell_type": "code",
     "checksum": "fdf4310cb30f6efee3ea4df791f5e47c",
     "grade": true,
     "grade_id": "cell-fccdb9f21de162ca",
     "locked": true,
     "points": 1,
     "schema_version": 3,
     "solution": false,
     "task": false
    }
   },
   "outputs": [
    {
     "name": "stdout",
     "output_type": "stream",
     "text": [
      "1.718281828459045\n",
      "0.7182818284590451\n",
      "0.2182818284590451\n",
      "0.05161516179237857\n",
      "0.009948495125712054\n",
      "0.0016151617923787498\n",
      "0.0002262729034896438\n",
      "2.7860205076724043e-05\n",
      "3.0586177750535626e-06\n",
      "3.0288585284310443e-07\n",
      "\n",
      "0.7182818284590451\n",
      "0.4682818284590451\n",
      "0.3479114580886753\n",
      "0.2768755784590451\n",
      "0.22996182845904567\n",
      "0.19665545671693163\n",
      "0.17178213141833298\n",
      "0.1524973145086972\n",
      "0.13710703674584668\n",
      "0.12453936835904278\n"
     ]
    }
   ],
   "source": [
    "# Run this cell to check your functions. \n",
    "print_euler_sum_table(10)\n",
    "print()\n",
    "print_euler_lim_table(10)"
   ]
  },
  {
   "cell_type": "markdown",
   "metadata": {
    "deletable": false,
    "editable": false,
    "nbgrader": {
     "cell_type": "markdown",
     "checksum": "9b02054de2a99701ebaa9e037f30b56a",
     "grade": false,
     "grade_id": "prob3-ex6",
     "locked": true,
     "schema_version": 3,
     "solution": false,
     "task": false
    }
   },
   "source": [
    "### Part 6 (1 point) \n",
    "Which approximation is better? "
   ]
  },
  {
   "cell_type": "code",
   "execution_count": 38,
   "metadata": {
    "deletable": false,
    "nbgrader": {
     "cell_type": "code",
     "checksum": "fcbb1ab4afcb1902b25ebab1cd12d67b",
     "grade": false,
     "grade_id": "prob3-part6-ans",
     "locked": false,
     "schema_version": 3,
     "solution": true,
     "task": false
    }
   },
   "outputs": [],
   "source": [
    "# Enter your answer as a python string in a variable called 'ans'. \n",
    "# You can use markdown formatting. \n",
    "# YOUR CODE HERE\n",
    "ans = \"As n is greater 2, euler sum has a smaller error, thus a better approximation. Otherwise, euler limit is better.\"\n",
    "# raise NotImplementedError()"
   ]
  },
  {
   "cell_type": "code",
   "execution_count": 39,
   "metadata": {
    "deletable": false,
    "editable": false,
    "nbgrader": {
     "cell_type": "code",
     "checksum": "4664fa30590e9abeb492ca46cf14bc1e",
     "grade": true,
     "grade_id": "prob3-part6-test",
     "locked": true,
     "points": 1,
     "schema_version": 3,
     "solution": false,
     "task": false
    }
   },
   "outputs": [
    {
     "data": {
      "text/markdown": [
       "As n is greater 2, euler sum has a smaller error, thus a better approximation. Otherwise, euler limit is better."
      ],
      "text/plain": [
       "<IPython.core.display.Markdown object>"
      ]
     },
     "execution_count": 39,
     "metadata": {},
     "output_type": "execute_result"
    }
   ],
   "source": [
    "# Make sure you answer is rendered as markdown below. \n",
    "from IPython.display import Markdown as md\n",
    "assert type(ans) == str\n",
    "md(ans)"
   ]
  },
  {
   "cell_type": "markdown",
   "metadata": {
    "deletable": false,
    "editable": false,
    "nbgrader": {
     "cell_type": "markdown",
     "checksum": "88773014339b73564475b5140ab23031",
     "grade": false,
     "grade_id": "prob4-ex1",
     "locked": true,
     "schema_version": 3,
     "solution": false,
     "task": false
    }
   },
   "source": [
    "## Problem 4: Testing properties of integers (5 points)\n",
    "In this problem, you’ll get a bit more practice working with conditionals, and a ﬁrst exposure to the kind of thinking that is required in a typical “coding interview” question. A positive integer $n$ is a power of 2 if $n = 2^p$ for some integer $p \\geq 0$."
   ]
  },
  {
   "cell_type": "markdown",
   "metadata": {
    "deletable": false,
    "editable": false,
    "nbgrader": {
     "cell_type": "markdown",
     "checksum": "a37de32737155864cc7976aa6d61b9b0",
     "grade": false,
     "grade_id": "cell-2f9a1ec572d022b5",
     "locked": true,
     "schema_version": 3,
     "solution": false,
     "task": false
    }
   },
   "source": [
    "### Part 1 (2 points) \n",
    "Write a function `is_power_of_2` that takes a positive integer as its only argument and returns a Boolean indicating whether or not the input is a power of 2. \n",
    "\n",
    "You may assume that the input is a positive integer. You may not use the built-in `math.sqrt` function in your solution. You should need only the division and modulus (%) operations. \n",
    "\n",
    "**Hint:** the simplest solution to this problem makes use of recursion, though recursion is not necessary."
   ]
  },
  {
   "cell_type": "code",
   "execution_count": 40,
   "metadata": {
    "deletable": false,
    "nbgrader": {
     "cell_type": "code",
     "checksum": "7056faf6854e1f6640b505a8523d7551",
     "grade": false,
     "grade_id": "is_power_of_2",
     "locked": false,
     "schema_version": 3,
     "solution": true,
     "task": false
    }
   },
   "outputs": [],
   "source": [
    "def is_power_of_2(n):# input is a postive integer\n",
    "    if n == 1:\n",
    "        return True\n",
    "    elif n%2 == 1:\n",
    "        return False\n",
    "    else:\n",
    "        return is_power_of_2(n/2)"
   ]
  },
  {
   "cell_type": "code",
   "execution_count": 41,
   "metadata": {
    "deletable": false,
    "editable": false,
    "nbgrader": {
     "cell_type": "code",
     "checksum": "030b7891f242e44d41cfce142383e8d0",
     "grade": true,
     "grade_id": "is_power_of_2_test1",
     "locked": true,
     "points": 1,
     "schema_version": 3,
     "solution": false,
     "task": false
    }
   },
   "outputs": [],
   "source": [
    "assert is_power_of_2(1)\n",
    "assert is_power_of_2(2)\n",
    "assert not is_power_of_2(15)"
   ]
  },
  {
   "cell_type": "code",
   "execution_count": 42,
   "metadata": {
    "deletable": false,
    "editable": false,
    "nbgrader": {
     "cell_type": "code",
     "checksum": "f65b93b325197f58d28cd2d8cbb7909b",
     "grade": true,
     "grade_id": "is_power_of_2_test2",
     "locked": true,
     "points": 1,
     "schema_version": 3,
     "solution": false,
     "task": false
    }
   },
   "outputs": [],
   "source": [
    "assert is_power_of_2(4)"
   ]
  },
  {
   "cell_type": "markdown",
   "metadata": {
    "deletable": false,
    "editable": false,
    "nbgrader": {
     "cell_type": "markdown",
     "checksum": "8839836eec44fd5f99cd12bfd9089282",
     "grade": false,
     "grade_id": "prob4-ex2",
     "locked": true,
     "schema_version": 3,
     "solution": false,
     "task": false
    }
   },
   "source": [
    "### Part 2 (3 points)\n",
    "Generalize your previous solution to a function `is_power` that takes two positive integers as its arguments, `b` and `n`, in that order, and returns a Boolean. `is_power(b,n)` should return `True` if `n` is a power of `b` and `False` otherwise."
   ]
  },
  {
   "cell_type": "code",
   "execution_count": 43,
   "metadata": {
    "deletable": false,
    "nbgrader": {
     "cell_type": "code",
     "checksum": "e6ff6877d24ed8e84bbe89a5aa4736c9",
     "grade": false,
     "grade_id": "is_power",
     "locked": false,
     "schema_version": 3,
     "solution": true,
     "task": false
    }
   },
   "outputs": [],
   "source": [
    "def is_power(b,n):\n",
    "    # YOUR CODE HERE\n",
    "    if b ==1:\n",
    "        if n ==1:\n",
    "            return True\n",
    "        else:\n",
    "            return False\n",
    "    else: \n",
    "        if n == 1:\n",
    "            return True\n",
    "        elif n%b in range(1, b):\n",
    "            return False\n",
    "        else:\n",
    "            return is_power(b,n/b)"
   ]
  },
  {
   "cell_type": "code",
   "execution_count": 44,
   "metadata": {
    "deletable": false,
    "editable": false,
    "nbgrader": {
     "cell_type": "code",
     "checksum": "b6b1137d07032532360d1b053b981173",
     "grade": true,
     "grade_id": "is_power_test1",
     "locked": true,
     "points": 1.5,
     "schema_version": 3,
     "solution": false,
     "task": false
    }
   },
   "outputs": [],
   "source": [
    "assert is_power(5, 125)\n",
    "assert not is_power(5, 150)"
   ]
  },
  {
   "cell_type": "code",
   "execution_count": 45,
   "metadata": {
    "deletable": false,
    "editable": false,
    "nbgrader": {
     "cell_type": "code",
     "checksum": "f00c737640c82f32c0c8debb07347bd7",
     "grade": true,
     "grade_id": "is_power_test2",
     "locked": true,
     "points": 1.5,
     "schema_version": 3,
     "solution": false,
     "task": false
    }
   },
   "outputs": [],
   "source": [
    "assert not is_power(1, 2)\n",
    "assert is_power(3, 1)"
   ]
  },
  {
   "cell_type": "code",
   "execution_count": null,
   "metadata": {},
   "outputs": [],
   "source": []
  }
 ],
 "metadata": {
  "kernelspec": {
   "display_name": "Python 3",
   "language": "python",
   "name": "python3"
  },
  "language_info": {
   "codemirror_mode": {
    "name": "ipython",
    "version": 3
   },
   "file_extension": ".py",
   "mimetype": "text/x-python",
   "name": "python",
   "nbconvert_exporter": "python",
   "pygments_lexer": "ipython3",
   "version": "3.8.3"
  },
  "latex_envs": {
   "LaTeX_envs_menu_present": true,
   "autoclose": false,
   "autocomplete": true,
   "bibliofile": "biblio.bib",
   "cite_by": "apalike",
   "current_citInitial": 1,
   "eqLabelWithNumbers": true,
   "eqNumInitial": 1,
   "hotkeys": {
    "equation": "meta-shift-y"
   },
   "labels_anchors": false,
   "latex_user_defs": false,
   "report_style_numbering": false,
   "user_envs_cfg": false
  },
  "toc": {
   "base_numbering": 1,
   "nav_menu": {},
   "number_sections": false,
   "sideBar": true,
   "skip_h1_title": true,
   "title_cell": "Table of Contents",
   "title_sidebar": "Contents",
   "toc_cell": false,
   "toc_position": {
    "height": "calc(100% - 180px)",
    "left": "10px",
    "top": "150px",
    "width": "349.091px"
   },
   "toc_section_display": true,
   "toc_window_display": true
  }
 },
 "nbformat": 4,
 "nbformat_minor": 1
}
