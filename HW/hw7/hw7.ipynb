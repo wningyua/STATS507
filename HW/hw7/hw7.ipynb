{
 "cells": [
  {
   "cell_type": "markdown",
   "metadata": {
    "deletable": false,
    "editable": false,
    "nbgrader": {
     "cell_type": "markdown",
     "checksum": "d6d8dd0cb065e4643a51c649432ce5ca",
     "grade": false,
     "grade_id": "cell-c40158ec29b15206",
     "locked": true,
     "schema_version": 3,
     "solution": false,
     "task": false
    }
   },
   "source": [
    "# Homework 7: Regexes and Structured Data (31 points)"
   ]
  },
  {
   "cell_type": "markdown",
   "metadata": {},
   "source": [
    "name: Ningyuan Wang\n",
    "\n",
    "email: wningyua@umich.edu\n",
    "\n",
    "This homework assignment took me 12 hours in total to complete. (Please help us to gauge the difficulty of the assignment.)"
   ]
  },
  {
   "cell_type": "markdown",
   "metadata": {
    "deletable": false,
    "editable": false,
    "nbgrader": {
     "cell_type": "markdown",
     "checksum": "26bc23022a9b6661beb31f28d255c61a",
     "grade": false,
     "grade_id": "cell-9fc8abaaecff0e9a",
     "locked": true,
     "schema_version": 3,
     "solution": false,
     "task": false
    }
   },
   "source": [
    "## Collaboration Disclosure\n",
    "\n",
    "In the cell below, please list *everyone* with whom you discussed any of the homework problems, excluding only the GSIs and the course instructor. \n",
    "\n",
    "If you did not discuss the homework with anyone else, write __\"I did not discuss this homework with anyone.\"__\n",
    "\n",
    "Even if you discuss questions with other, the code you submit must be only yours. All work is checked with the [MOSS plagiarism detector](https://theory.stanford.edu/~aiken/moss/).)"
   ]
  },
  {
   "cell_type": "markdown",
   "metadata": {},
   "source": [
    "I discussed 1.3, 3.1, 3.3 with Ming-chen Lu. "
   ]
  },
  {
   "cell_type": "markdown",
   "metadata": {
    "deletable": false,
    "editable": false,
    "nbgrader": {
     "cell_type": "markdown",
     "checksum": "67d1cebd5332a880b36d813916b69dbe",
     "grade": false,
     "grade_id": "submission",
     "locked": true,
     "schema_version": 3,
     "solution": false,
     "task": false
    }
   },
   "source": [
    "## Submission Instructions\n",
    "Your homework solutions should be written entirely in this Jupyter notebook file. Once it contains your solutions, you should submit this notebook through Canvas. Before submitting, please make sure make sure __Cells->Run__ executes without errors; errors in your code cause problems for our auto-grader. Thus, even though we may ask you to check for errors in your functions, you should not include in your submission any examples of your functions actually raising those errors.\n",
    "\n",
    "## Nbgrader\n",
    "\n",
    "We will be using `nbgrader` to grade your jupyter notebook. Additional tests will be used at grading time, you are encouraged to read the problem carefully and verify your code covers all appropriate cases.\n",
    "\n",
    "**Be careful:** If a jupyter notebook cell takes longer than `60s` to run, the autograder will not grade it and you will receive zero credit for that question.\n",
    "\n",
    "## Error checking\n",
    "\n",
    "You do not need to do error checking (raising errors, etc.) in your code unless we explicitly ask you to so in a problem."
   ]
  },
  {
   "cell_type": "markdown",
   "metadata": {
    "deletable": false,
    "editable": false,
    "nbgrader": {
     "cell_type": "markdown",
     "checksum": "99a4b1f52b2a51fd259655608d2d5669",
     "grade": false,
     "grade_id": "coding-style",
     "locked": true,
     "schema_version": 3,
     "solution": false,
     "task": false
    }
   },
   "source": [
    "## Coding style\n",
    "Please follow the [PEP8 guidelines](https://www.python.org/dev/peps/pep-0008/). The `pycodestyle_magic` package will remind you if you are not. To install it, run\n",
    "```\n",
    "pip install flake8 pycodestyle_magic\n",
    "```\n",
    "Once it is installed the following two Jupyter directives will enable syntax checking:"
   ]
  },
  {
   "cell_type": "code",
   "execution_count": 507,
   "metadata": {
    "deletable": false,
    "editable": false,
    "nbgrader": {
     "cell_type": "code",
     "checksum": "adc2dd72889f65739158011373320c9e",
     "grade": false,
     "grade_id": "cell-7311e8da28736726",
     "locked": true,
     "schema_version": 3,
     "solution": false,
     "task": false
    }
   },
   "outputs": [
    {
     "name": "stdout",
     "output_type": "stream",
     "text": [
      "The pycodestyle_magic extension is already loaded. To reload it, use:\n",
      "  %reload_ext pycodestyle_magic\n"
     ]
    }
   ],
   "source": [
    "%load_ext pycodestyle_magic\n",
    "%flake8_on --ignore E266 --max_line_length=99"
   ]
  },
  {
   "cell_type": "markdown",
   "metadata": {
    "deletable": false,
    "editable": false,
    "nbgrader": {
     "cell_type": "markdown",
     "checksum": "28a763d0876a8e4af9f6c999db19cfb7",
     "grade": false,
     "grade_id": "cell-05fdbcbd6a551279",
     "locked": true,
     "schema_version": 3,
     "solution": false,
     "task": false
    }
   },
   "source": [
    "## 1 Regular Expressions: Warmup (10 points)\n",
    "\n",
    "In this problem, you'll get practice with basic regular expressions. Pay particular attention to edge cases such as the empty string and single-character strings when writing your regexes. At the URL http://www.greenteapress.com/thinkpython/code/words.txt is a list of about 100,000 English words.\n",
    "\n",
    "**Note:** For this problem, you can assume all characters/words are lower-case. "
   ]
  },
  {
   "cell_type": "markdown",
   "metadata": {
    "deletable": false,
    "editable": false,
    "nbgrader": {
     "cell_type": "markdown",
     "checksum": "adc83565fe53bd1786ba6de8af54c9c8",
     "grade": false,
     "grade_id": "cell-89ef2c7b16a663de",
     "locked": true,
     "schema_version": 3,
     "solution": false,
     "task": false
    }
   },
   "source": [
    "### Part 1 (1 point) \n",
    "Use the `urllib` python module to open the URL and read the file, and produce a list named `ascii_list` of ASCII strings so that each line of the file corresponds to an element of the list. \n",
    "\n",
    "**Note:** You will likely need to convert the raw bytes read from the webpage to ASCII characters, for which you should see the documentation for the string methods `encode` and `decode`. How many words are in the file?"
   ]
  },
  {
   "cell_type": "code",
   "execution_count": 508,
   "metadata": {
    "deletable": false,
    "nbgrader": {
     "cell_type": "code",
     "checksum": "220d2aa9691242eda7a295a6e6c393fe",
     "grade": false,
     "grade_id": "cell-a0aba8b2f9988a7b",
     "locked": false,
     "schema_version": 3,
     "solution": true,
     "task": false
    }
   },
   "outputs": [],
   "source": [
    "import urllib.request\n",
    "import re\n",
    "\n",
    "ascii_list = []\n",
    "response = urllib.request.urlopen('http://www.greenteapress.com/thinkpython/code/words.txt')\n",
    "for w in response:\n",
    "    w = w.decode('ascii')\n",
    "    w = w.encode(\"utf8\")\n",
    "    ascii_list.append(w.rstrip())\n",
    "# len(ascii_list)"
   ]
  },
  {
   "cell_type": "code",
   "execution_count": 509,
   "metadata": {
    "deletable": false,
    "editable": false,
    "nbgrader": {
     "cell_type": "code",
     "checksum": "10d2c79a1997ba3bb9341b0da9adf5dd",
     "grade": true,
     "grade_id": "cell-0d008655e95238cb",
     "locked": true,
     "points": 1,
     "schema_version": 3,
     "solution": false,
     "task": false
    }
   },
   "outputs": [],
   "source": [
    "assert type(ascii_list) == list, \"Variable ascii_list does not \\\n",
    "                                  exist or not a list.\"\n",
    "assert ascii_list[0] == b'aa'"
   ]
  },
  {
   "cell_type": "markdown",
   "metadata": {
    "deletable": false,
    "editable": false,
    "nbgrader": {
     "cell_type": "markdown",
     "checksum": "ed8e69d362845f71736efdaf487fc38c",
     "grade": false,
     "grade_id": "cell-6d4da480ac49bb72",
     "locked": true,
     "schema_version": 3,
     "solution": false,
     "task": false
    }
   },
   "source": [
    "### Part 2 (1 point) \n",
    "It is a good habit to always look at your data to check that it makes sense. Have a look at the words in the list. Does anything jump out at you? \n",
    "\n",
    "**Note:** I am not requiring you to do anything specific, here. Just look at the data!"
   ]
  },
  {
   "cell_type": "code",
   "execution_count": 510,
   "metadata": {},
   "outputs": [],
   "source": [
    "# Use this cell to look at the data.\n",
    "# print(ascii_list)"
   ]
  },
  {
   "cell_type": "code",
   "execution_count": 511,
   "metadata": {
    "deletable": false,
    "editable": false,
    "nbgrader": {
     "cell_type": "code",
     "checksum": "7b9ebc13956bb9bc5bbbe9805af503ee",
     "grade": true,
     "grade_id": "cell-b1cd5d3b26cbc441",
     "locked": true,
     "points": 1,
     "schema_version": 3,
     "solution": false,
     "task": false
    }
   },
   "outputs": [],
   "source": [
    "assert True"
   ]
  },
  {
   "cell_type": "markdown",
   "metadata": {
    "deletable": false,
    "editable": false,
    "nbgrader": {
     "cell_type": "markdown",
     "checksum": "c8a934729bbdb4e5b44f12edc074e2a2",
     "grade": false,
     "grade_id": "cell-70f58d8785a59034",
     "locked": true,
     "schema_version": 3,
     "solution": false,
     "task": false
    }
   },
   "source": [
    "### Part 3 (2 points)\n",
    "Write a regular expression that matches any string containing exactly three consecutive vowels. Compile this regular expression, and assign it to a variable called `three_consecutive_vowels`. \n",
    "\n",
    "Use this regex to determine how many words from the list contain exactly three consecutive vowels. For the purposes of this **specific** subproblem, the vowels are \"a, e, i, o, u\". All other letters are consonants. Produce a list `q1_3` of all such words."
   ]
  },
  {
   "cell_type": "code",
   "execution_count": 512,
   "metadata": {
    "deletable": false,
    "nbgrader": {
     "cell_type": "code",
     "checksum": "a3098a026566186cdf2d53cd9b7334a4",
     "grade": false,
     "grade_id": "cell-438a47acf51d9852",
     "locked": false,
     "schema_version": 3,
     "solution": true,
     "task": false
    }
   },
   "outputs": [
    {
     "data": {
      "text/plain": [
       "1326"
      ]
     },
     "execution_count": 512,
     "metadata": {},
     "output_type": "execute_result"
    }
   ],
   "source": [
    "# Write your code to create the regex and the list here.\n",
    "# YOUR CODE HERE\n",
    "# three_consecutive_vowels = re.compile(r'[aeiou]{3}')\n",
    "three_consecutive_vowels = re.compile(r\"\"\"(^([^aeiou]*|[a-z]*[^aeiou]))\"\"\"\n",
    "                                      \"\"\"[aeiou]{3}([^aeiou]*|[^aeiou][a-z]*)$\"\"\")\n",
    "# q1_3 = [w.decode(\"utf-8\") for w in ascii_list if re.search(three_consecutive_vowels, str(w))]\n",
    "q1_3 = ([w.decode() for w in ascii_list if re.search(three_consecutive_vowels, w.decode())])\n",
    "len(q1_3)"
   ]
  },
  {
   "cell_type": "code",
   "execution_count": 513,
   "metadata": {
    "deletable": false,
    "editable": false,
    "nbgrader": {
     "cell_type": "code",
     "checksum": "633db5e588fd4b54c4cfc02e18a1c14b",
     "grade": true,
     "grade_id": "cell-e4aa7890a4bcfcb5",
     "locked": true,
     "points": 1,
     "schema_version": 3,
     "solution": false,
     "task": false
    }
   },
   "outputs": [],
   "source": [
    "assert q1_3[0] == 'aboideau'\n",
    "assert q1_3[-1] == 'zouaves'"
   ]
  },
  {
   "cell_type": "code",
   "execution_count": 514,
   "metadata": {
    "deletable": false,
    "editable": false,
    "nbgrader": {
     "cell_type": "code",
     "checksum": "8829f59c5594e7552aea0133cf8e9477",
     "grade": true,
     "grade_id": "cell-ad89d2e5664ed4a1",
     "locked": true,
     "points": 1,
     "schema_version": 3,
     "solution": false,
     "task": false
    }
   },
   "outputs": [],
   "source": [
    "assert three_consecutive_vowels.match(\"aei\").group(0) == \"aei\""
   ]
  },
  {
   "cell_type": "markdown",
   "metadata": {
    "deletable": false,
    "editable": false,
    "nbgrader": {
     "cell_type": "markdown",
     "checksum": "8a15b64c49dafe357c5e81b4da480bb5",
     "grade": false,
     "grade_id": "cell-ff0645c1403a18ef",
     "locked": true,
     "schema_version": 3,
     "solution": false,
     "task": false
    }
   },
   "source": [
    "### Part 4  (2 point) \n",
    "Write a regular expression that matches any string that contains no instances of the letter e. Compile this regular expression, and assign it to a variable called `gadsby`. (\"Gadsby\" is the title of an English novel written in the 1930s that contains __almost__ no instances of the letter \"e\"). \n",
    "\n",
    "How many words in the list do not contain the letter \"e\"? Enter your answer as a variable called `num_words_no_e`."
   ]
  },
  {
   "cell_type": "code",
   "execution_count": 515,
   "metadata": {
    "deletable": false,
    "nbgrader": {
     "cell_type": "code",
     "checksum": "6bba4eae5c09c5d459b734f3f3244987",
     "grade": false,
     "grade_id": "cell-0d5a69a9d7b78b42",
     "locked": false,
     "schema_version": 3,
     "solution": true,
     "task": false
    }
   },
   "outputs": [
    {
     "data": {
      "text/plain": [
       "37641"
      ]
     },
     "execution_count": 515,
     "metadata": {},
     "output_type": "execute_result"
    }
   ],
   "source": [
    "# Create your variable 'gadsby' here.\n",
    "# YOUR CODE HERE\n",
    "gadsby = re.compile(r'^[^e]*$')\n",
    "num_words_no_e = len([w for w in ascii_list if re.search(gadsby, w.decode())])\n",
    "num_words_no_e"
   ]
  },
  {
   "cell_type": "code",
   "execution_count": 516,
   "metadata": {
    "deletable": false,
    "editable": false,
    "nbgrader": {
     "cell_type": "code",
     "checksum": "82f040bcc3119da9414a22fb56bf0c94",
     "grade": true,
     "grade_id": "cell-2bf17210c874ff96",
     "locked": true,
     "points": 1,
     "schema_version": 3,
     "solution": false,
     "task": false
    }
   },
   "outputs": [],
   "source": [
    "assert gadsby.match(\"stats\").group(0) == 'stats'\n",
    "assert gadsby.match(\"state\") is None"
   ]
  },
  {
   "cell_type": "code",
   "execution_count": 517,
   "metadata": {
    "deletable": false,
    "editable": false,
    "nbgrader": {
     "cell_type": "code",
     "checksum": "16483b47b0389a757799cf94826f030b",
     "grade": true,
     "grade_id": "cell-6fe115d6cdbced12",
     "locked": true,
     "points": 1,
     "schema_version": 3,
     "solution": false,
     "task": false
    }
   },
   "outputs": [],
   "source": [
    "assert type(num_words_no_e) == int\n",
    "assert num_words_no_e > 0"
   ]
  },
  {
   "cell_type": "markdown",
   "metadata": {
    "deletable": false,
    "editable": false,
    "nbgrader": {
     "cell_type": "markdown",
     "checksum": "3c1876aa4875f892a50dcd71022051e1",
     "grade": false,
     "grade_id": "cell-08ed7b4c8d0a61c4",
     "locked": true,
     "schema_version": 3,
     "solution": false,
     "task": false
    }
   },
   "source": [
    "### Part 5 (2 points)\n",
    "\n",
    "Write a regular expression that matches any string that begins and ends with a consonant and has no consonants in between. \n",
    "For the purposes of this __specific__ subproblem, \"y\" is neither consonant nor vowel, so consonants are the 20 letters that are not one of \"a, e, i, o, u, y\" and vowels are \"a, e, i, o, u\". \n",
    "\n",
    "The words need not begin and end with the _same_ consonant, so 'door' is a valid match. Compile this regular expression, and assign it to a variable called `consonant_consonant`. \n",
    "\n",
    "How many words begin and end with a consonant with no consonants in between? Assign this answer to a variable `num_words_consonants`"
   ]
  },
  {
   "cell_type": "code",
   "execution_count": 518,
   "metadata": {
    "deletable": false,
    "nbgrader": {
     "cell_type": "code",
     "checksum": "1d992c044272c6fa5e036d582ab82332",
     "grade": false,
     "grade_id": "cell-7a11ee912d6ade8e",
     "locked": false,
     "schema_version": 3,
     "solution": true,
     "task": false
    }
   },
   "outputs": [
    {
     "data": {
      "text/plain": [
       "1230"
      ]
     },
     "execution_count": 518,
     "metadata": {},
     "output_type": "execute_result"
    }
   ],
   "source": [
    "# create your variables 'consonant_consonant' and `num_words_consonants` here.\n",
    "# YOUR CODE HERE\n",
    "\n",
    "consonant_consonant = re.compile(r'^[^aeiouy][aeiouy]*[^aeiouy]$')\n",
    "num_words_consonants = len([w for w in ascii_list if re.search(consonant_consonant, w.decode())])\n",
    "num_words_consonants\n"
   ]
  },
  {
   "cell_type": "code",
   "execution_count": 519,
   "metadata": {
    "deletable": false,
    "editable": false,
    "nbgrader": {
     "cell_type": "code",
     "checksum": "7978a725b19f15621bc96f657445b865",
     "grade": true,
     "grade_id": "cell-0c55b19997db9a14",
     "locked": true,
     "points": 1,
     "schema_version": 3,
     "solution": false,
     "task": false
    }
   },
   "outputs": [],
   "source": [
    "assert consonant_consonant.match(\"door\").group(0) == 'door'\n",
    "assert consonant_consonant.match(\"bb\").group(0) == \"bb\"\n",
    "assert consonant_consonant.match(\"aaabaaa\") is None\n",
    "assert consonant_consonant.match(\"stats\") is None\n",
    "assert consonant_consonant.match(\"by\") is None"
   ]
  },
  {
   "cell_type": "code",
   "execution_count": 520,
   "metadata": {
    "deletable": false,
    "editable": false,
    "nbgrader": {
     "cell_type": "code",
     "checksum": "73e2e5dce3ede8167ee51740fb7f2069",
     "grade": true,
     "grade_id": "cell-f2393d4ff60240f2",
     "locked": true,
     "points": 1,
     "schema_version": 3,
     "solution": false,
     "task": false
    }
   },
   "outputs": [],
   "source": [
    "assert type(num_words_consonants) == int\n",
    "assert num_words_consonants > 0"
   ]
  },
  {
   "cell_type": "markdown",
   "metadata": {
    "deletable": false,
    "editable": false,
    "nbgrader": {
     "cell_type": "markdown",
     "checksum": "74d4db87c0e163aaf0fc8244b7aad39b",
     "grade": false,
     "grade_id": "cell-c1f7402679082a29",
     "locked": true,
     "schema_version": 3,
     "solution": false,
     "task": false
    }
   },
   "source": [
    "### Part 6  (2 points)\n",
    "Write a regular expression that matches any string whose last two characters are the first two characters in reverse order. So, for example, your regex should match \"repeater\" and \"stats\", but not \"neoprene\". Compile this regular expression and assign it to a variable called `bookends`. \n",
    "\n",
    "How many words in the list have this property? Assign this number to a variable `num_words_bookends`\n",
    "\n",
    "__Note:__ Your regex should NOT match cases where the word has a length of 3 or less. "
   ]
  },
  {
   "cell_type": "code",
   "execution_count": 521,
   "metadata": {
    "deletable": false,
    "nbgrader": {
     "cell_type": "code",
     "checksum": "fa563207824b18f06c920732d632b5e5",
     "grade": false,
     "grade_id": "cell-a6983727569760ac",
     "locked": false,
     "schema_version": 3,
     "solution": true,
     "task": false
    }
   },
   "outputs": [
    {
     "data": {
      "text/plain": [
       "840"
      ]
     },
     "execution_count": 521,
     "metadata": {},
     "output_type": "execute_result"
    }
   ],
   "source": [
    "# YOUR CODE HERE\n",
    "bookends = re.compile(r'^([a-z])([a-z]).*\\2\\1$')\n",
    "num_words_bookends = len([w for w in ascii_list if re.search(bookends, w.decode())])\n",
    "num_words_bookends"
   ]
  },
  {
   "cell_type": "code",
   "execution_count": 522,
   "metadata": {
    "deletable": false,
    "editable": false,
    "nbgrader": {
     "cell_type": "code",
     "checksum": "1c60bb7fc64e8e07a10786427ee8ae09",
     "grade": true,
     "grade_id": "cell-596b63551ef1fbd4",
     "locked": true,
     "points": 1,
     "schema_version": 3,
     "solution": false,
     "task": false
    }
   },
   "outputs": [],
   "source": [
    "assert bookends.match(\"repeater\").group(0) == 'repeater'\n",
    "assert bookends.match(\"stats\").group(0) == 'stats'\n",
    "assert bookends.match(\"fallinaf\").group(0) == 'fallinaf'\n",
    "\n",
    "assert bookends.match(\"neoprene\") is None\n",
    "assert bookends.match(\"afa\") is None"
   ]
  },
  {
   "cell_type": "code",
   "execution_count": 523,
   "metadata": {
    "deletable": false,
    "editable": false,
    "nbgrader": {
     "cell_type": "code",
     "checksum": "e072d8c34fd382b2a4d2e8c8a576ffa7",
     "grade": true,
     "grade_id": "cell-9352a33a43e8dca5",
     "locked": true,
     "points": 1,
     "schema_version": 3,
     "solution": false,
     "task": false
    }
   },
   "outputs": [],
   "source": [
    "assert num_words_bookends > 0\n",
    "assert type(num_words_bookends) == int"
   ]
  },
  {
   "cell_type": "markdown",
   "metadata": {
    "deletable": false,
    "editable": false,
    "nbgrader": {
     "cell_type": "markdown",
     "checksum": "9ecb801e821792293e3a2ffede073647",
     "grade": false,
     "grade_id": "cell-f66c1ee9209824f5",
     "locked": true,
     "schema_version": 3,
     "solution": false,
     "task": false
    }
   },
   "source": [
    "## 2 Exploring Internet Traffic with Regexes (6 points)\n",
    "\n",
    "In this problem, you'll get a taste of a more realistic application of regular expressions. The file `SkypeIRC.txt` (which was included along with this homework in `hw7.zip`) contains data generated by web traffic associated with Skype and IRC, captured using the Wireshark program, a common tool for analyzing web traffic. "
   ]
  },
  {
   "cell_type": "markdown",
   "metadata": {
    "deletable": false,
    "editable": false,
    "nbgrader": {
     "cell_type": "markdown",
     "checksum": "2130fb6782cf95c3c6bd7dd3a653fcea",
     "grade": false,
     "grade_id": "cell-e55690a7c723d04c",
     "locked": true,
     "schema_version": 3,
     "solution": false,
     "task": false
    }
   },
   "source": [
    "### Part 1 (1 point) \n",
    "\n",
    "Open the file `SkypeIRC.txt` and read its contents into a string. Each line of this file corresponds to a single packet sent over the internet. Save a list containing each packet into a variable called `packets`.\n",
    "\n",
    "How many packets are in this file? Save the answer in a variable `n_packets`. "
   ]
  },
  {
   "cell_type": "code",
   "execution_count": 524,
   "metadata": {
    "deletable": false,
    "nbgrader": {
     "cell_type": "code",
     "checksum": "bdb75772342cd877e4002a9896daa513",
     "grade": false,
     "grade_id": "cell-5570fccf90767335",
     "locked": false,
     "schema_version": 3,
     "solution": true,
     "task": false
    }
   },
   "outputs": [
    {
     "data": {
      "text/plain": [
       "2263"
      ]
     },
     "execution_count": 524,
     "metadata": {},
     "output_type": "execute_result"
    }
   ],
   "source": [
    "# YOUR CODE HERE\n",
    "packets = []\n",
    "url = 'http://umich.edu/~klevin/teaching/Winter2019/STATS507/SkypeIRC.txt'\n",
    "response = urllib.request.urlopen(url)\n",
    "response = response.read().decode('utf-8')\n",
    "packets = response.splitlines()\n",
    "n_packets = len(packets)\n",
    "n_packets"
   ]
  },
  {
   "cell_type": "code",
   "execution_count": 525,
   "metadata": {
    "deletable": false,
    "editable": false,
    "nbgrader": {
     "cell_type": "code",
     "checksum": "953782a6e8dc82fbe1c820e735edb9ec",
     "grade": true,
     "grade_id": "cell-83e4582bb7634be7",
     "locked": true,
     "points": 1,
     "schema_version": 3,
     "solution": false,
     "task": false
    }
   },
   "outputs": [],
   "source": [
    "assert type(n_packets) == int\n",
    "assert type(packets) == list"
   ]
  },
  {
   "cell_type": "markdown",
   "metadata": {
    "deletable": false,
    "editable": false,
    "nbgrader": {
     "cell_type": "markdown",
     "checksum": "bfffda5d7bd6c5090e1e7a61e39549cc",
     "grade": false,
     "grade_id": "cell-af4935edc41b73f3",
     "locked": true,
     "schema_version": 3,
     "solution": false,
     "task": false
    }
   },
   "source": [
    "### Part 2 (2 points)\n",
    "\n",
    "An IP address consists of four numbers, which are displayed as `A.B.C.D` where `A,B,C`, and `D` are each numbers between 0 and 255 inclusive.\n",
    "\n",
    "Use regular expressions to extract all the IP addresses from the file and collect them in a Python list. How many unique IP addresses appear in the data set? Save the answer in a variable `n_ip_addresses`. \n",
    "\n",
    "__Note:__ there are a few pieces of text in the file that _look_ like IP addresses but aren't (e.g., they are of the form `A.B.C.D`, but one or more of `A,B,C`, and `D` are outside the range 0 to 255). You should try to craft a regex that matches as few of these as you can, but of course it will not be possible to avoid certain edge cases."
   ]
  },
  {
   "cell_type": "code",
   "execution_count": 526,
   "metadata": {
    "deletable": false,
    "nbgrader": {
     "cell_type": "code",
     "checksum": "92b4d13f6545a143d35f7971039d3ef7",
     "grade": false,
     "grade_id": "cell-93c89971beafd000",
     "locked": false,
     "schema_version": 3,
     "solution": true,
     "task": false
    }
   },
   "outputs": [
    {
     "data": {
      "text/plain": [
       "368"
      ]
     },
     "execution_count": 526,
     "metadata": {},
     "output_type": "execute_result"
    }
   ],
   "source": [
    "# YOUR CODE HERE ### multiple lines\n",
    "import re\n",
    "ip = re.compile(r\"\"\"([1-9]?[0-9]|1[0-9][0-9]|2[0-4][0-9]|25[0-5])\\.\"\"\"\n",
    "                r\"\"\"([1-9]?[0-9]|1[0-9][0-9]|2[0-4][0-9]|25[0-5])\\.\"\"\"\n",
    "                r\"\"\"([1-9]?[0-9]|1[0-9][0-9]|2[0-4][0-9]|25[0-5])\\.\"\"\"\n",
    "                \"\"\"(25[0-5]|2[0-4][0-9]|1[0-9][0-9]|[1-9]?[0-9])\"\"\")\n",
    "\n",
    "n_ip_addresses = len(list(set(ip.findall(response))))\n",
    "n_ip_addresses"
   ]
  },
  {
   "cell_type": "code",
   "execution_count": 527,
   "metadata": {
    "deletable": false,
    "editable": false,
    "nbgrader": {
     "cell_type": "code",
     "checksum": "ddf0cd2a06e2d72372d4d0030858b423",
     "grade": true,
     "grade_id": "cell-c4430ca17a9bc917",
     "locked": true,
     "points": 2,
     "schema_version": 3,
     "solution": false,
     "task": false
    }
   },
   "outputs": [],
   "source": [
    "assert type(n_ip_addresses) == int"
   ]
  },
  {
   "cell_type": "markdown",
   "metadata": {
    "deletable": false,
    "editable": false,
    "nbgrader": {
     "cell_type": "markdown",
     "checksum": "5cf78ac8bd02a8f5090949ab0fa37fd5",
     "grade": false,
     "grade_id": "cell-134a680ceac6ea2c",
     "locked": true,
     "schema_version": 3,
     "solution": false,
     "task": false
    }
   },
   "source": [
    "### Part 3 (1 points) \n",
    "\n",
    "Write a function called `get_packets_by_regex` that takes a single raw string as its argument and returns a list of all the lines from the input file `SkypeIRC.txt` that match the input raw string as a regular expression. \n",
    "\n",
    "So, for example, `get_packets_by_regex(r\"comcast\")` will return all lines from the file containing the string `\"comcast\"`. You can assume that your input is a raw string."
   ]
  },
  {
   "cell_type": "code",
   "execution_count": 528,
   "metadata": {
    "deletable": false,
    "nbgrader": {
     "cell_type": "code",
     "checksum": "1cf9f5a43fa3cc8331fee758fc92bf81",
     "grade": false,
     "grade_id": "prob2-part3-ans",
     "locked": false,
     "schema_version": 3,
     "solution": true,
     "task": false
    }
   },
   "outputs": [],
   "source": [
    "def get_packets_by_regex(s):\n",
    "    # YOUR CODE HERE\n",
    "    packets = []\n",
    "    url = 'http://umich.edu/~klevin/teaching/Winter2019/STATS507/SkypeIRC.txt'\n",
    "    response = urllib.request.urlopen(url)\n",
    "    response = response.read().decode('utf-8')\n",
    "    packets = response.splitlines()\n",
    "    s = re.compile(s)\n",
    "    res = []\n",
    "    for line in packets:\n",
    "        if re.search(s, line) is not None:\n",
    "            res.append(line)\n",
    "    return res"
   ]
  },
  {
   "cell_type": "code",
   "execution_count": 529,
   "metadata": {
    "deletable": false,
    "editable": false,
    "nbgrader": {
     "cell_type": "code",
     "checksum": "1da33b7df05f181fcda79bfbe8555f4a",
     "grade": true,
     "grade_id": "prob2-part3-test",
     "locked": true,
     "points": 1,
     "schema_version": 3,
     "solution": false,
     "task": false
    }
   },
   "outputs": [],
   "source": [
    "assert type(get_packets_by_regex(r'114.214.204.212')) == list\n",
    "assert len(get_packets_by_regex(r'114.214.204.212')) == 2"
   ]
  },
  {
   "cell_type": "markdown",
   "metadata": {
    "deletable": false,
    "editable": false,
    "nbgrader": {
     "cell_type": "markdown",
     "checksum": "ab1f5b48b18c27509292831e59aa6d6b",
     "grade": false,
     "grade_id": "cell-c99ad9a96df3dc43",
     "locked": true,
     "points": 2,
     "schema_version": 3,
     "solution": false,
     "task": true
    }
   },
   "source": [
    "### Part 4 (2 points) \n",
    "The second piece of text (i.e., non-whitespace) on each line is a time stamp, counting the time (in seconds) since the beginning of the traffic recording. Using `matplotlib`, create a plot displaying how many packets appeared in each second of the recording. Be sure to label your plot with appropriate axes labels. \n",
    "\n",
    "A histogram or line plot is the most obvious way to do this, but you should feel free to use a more creative way of displaying this information if you wish to do so. The plot should display in your ipython notebook after running the cell below. \n",
    "\n",
    "__Note:__ There is no need to use a regular expression for this subproblem if you do not want to."
   ]
  },
  {
   "cell_type": "code",
   "execution_count": 530,
   "metadata": {
    "deletable": false,
    "nbgrader": {
     "cell_type": "code",
     "checksum": "6be8791b12c4112e0f1a252f38a28e60",
     "grade": false,
     "grade_id": "cell-7cb593eab90c8cbe",
     "locked": false,
     "schema_version": 3,
     "solution": true,
     "task": false
    }
   },
   "outputs": [
    {
     "data": {
      "image/png": "[encoded data removed]",
      "text/plain": [
       "<Figure size 432x288 with 1 Axes>"
      ]
     },
     "metadata": {
      "needs_background": "light"
     },
     "output_type": "display_data"
    }
   ],
   "source": [
    "%matplotlib inline\n",
    "import matplotlib.pyplot as plt\n",
    "\n",
    "# YOUR CODE HERE\n",
    "s =re.compile(r'\\d+\\.\\d{6}')\n",
    "\n",
    "time = []\n",
    "for line in packets:\n",
    "    if re.search(s, line) is not None:\n",
    "        t = float(re.search(s, line).group(0))\n",
    "        time.append(t)\n",
    "\n",
    "plt.hist(time, bins=200, facecolor = \"b\")\n",
    "plt.xlabel('Time (second)')\n",
    "plt.ylabel('Packet Counts')\n",
    "plt.title(\"Histogram of Packet Counts in Time\")\n",
    "plt.show()"
   ]
  },
  {
   "cell_type": "markdown",
   "metadata": {
    "deletable": false,
    "editable": false,
    "nbgrader": {
     "cell_type": "markdown",
     "checksum": "fc7855054bb279d456053fd0ff39909f",
     "grade": false,
     "grade_id": "cell-d8a9f74b335628bc",
     "locked": true,
     "schema_version": 3,
     "solution": false,
     "task": false
    }
   },
   "source": [
    "## 3 Retrieving Data from the Web (7 points)\n",
    "In this problem, we'll scrape data from Wikipedia using __BeautifulSoup__. Documentation for BeauitfulSoup can be found at https://www.crummy.com/software/BeautifulSoup/bs4/doc/. As mentioned in lecture, there is another package, called __requests__, which is becoming quite popular, which you are welcome to use for this problem instead, if you wish. Documentation for the `requests` package can be found at http://docs.python-requests.org/en/master/.\n",
    "\n",
    "Suppose you are trying to choose a city to vacation in. A major factor in your decision is weather. Conveniently, lots of weather information is present in the Wikipedia articles for most world cities. Your job in this problem is to use __BeautifulSoup__ to retrieve weather information from Wikipedia articles. \n",
    "\n",
    "**Note:** In practice, such information is typically more easily obtained from, for example, the National Oceanic and Atmospheric Administration (NOAA), in the case of cities in the United States, and from analogous organizations in other countries.\n",
    "\n",
    "\n",
    "**Note:** For the purposes of this problem, you may want to learn a bit about the structure of HTML tables by looking at the resources available on these websites:\n",
    " - https://developer.mozilla.org/en-US/docs/Web/HTML/Element/table\n",
    " - https://www.w3schools.com/html/html_tables.asp\n",
    " - https://www.w3.org/TR/html401/struct/tables.html"
   ]
  },
  {
   "cell_type": "markdown",
   "metadata": {
    "deletable": false,
    "editable": false,
    "nbgrader": {
     "cell_type": "markdown",
     "checksum": "38295d0090cfb7569e9a23bcb8babb98",
     "grade": false,
     "grade_id": "cell-04ff02235bd6315d",
     "locked": true,
     "schema_version": 3,
     "solution": false,
     "task": false
    }
   },
   "source": [
    "### Part 1 (2 points) \n",
    "\n",
    "Look at a few Wikipedia pages corresponding to cities. For example:\n",
    " - https://en.wikipedia.org/wiki/Ann_Arbor,_Michigan\n",
    " - https://en.wikipedia.org/wiki/Buenos_Aires\n",
    " - https://en.wikipedia.org/wiki/Harbin\n",
    "\n",
    "Note that most city pages include a table titled something like \"Climate data for [Cityname] (normals YYYY-YYYY, extremes YYYY-YYYY)\". \n",
    " \n",
    "**Use the Wikipedia page for _Ann Arbor, Michigan_**. In your jupyter notebook, open the URL and read the HTML using either `urllib` or `requests`, and parse it with `BeautifulSoup` using the standard parser, `html.parser`. \n",
    "Have a look at the parsed HTML and find the climate data table (there should only be one such table), which will have the tag `table` and will contain a child tag `th` containing a string similar to\n",
    "\n",
    "```\n",
    " Climate data for [Cityname] (normals YYYY-YYYY, extremes YYYY-YYYY)}.\n",
    "```\n",
    "\n",
    "Find the node in the `BeautifulSoup` object corresponding to this table. Store the number of children of this table in a variable `num_children`. How many children does the first child of this table have? Store it in a variable called `num_child_children`, what are the tags of these children (take a look at the `.name` attribute)?  Store in a variable call `tag`. \n",
    "\n",
    "**Note:** You might find that the character `\"\\n\"` is listed as one of the climate table's children. You should exclude this child completely from all your calculations. "
   ]
  },
  {
   "cell_type": "code",
   "execution_count": 531,
   "metadata": {
    "deletable": false,
    "nbgrader": {
     "cell_type": "code",
     "checksum": "32da1c161b7b87a3b6189ac82b949df2",
     "grade": false,
     "grade_id": "cell-ba9802ab6c2ba864",
     "locked": false,
     "schema_version": 3,
     "solution": true,
     "task": false
    }
   },
   "outputs": [],
   "source": [
    "# Use this cell to explore the URLs and climate data,\n",
    "# creating the variables mentioned above.\n",
    "import urllib.request\n",
    "import re\n",
    "from bs4 import BeautifulSoup\n",
    "\n",
    "# YOUR CODE HERE\n",
    "aa = urllib.request.urlopen('https://en.wikipedia.org/wiki/Ann_Arbor,_Michigan')\n",
    "aa_parsed = BeautifulSoup(aa, 'html.parser')\n",
    "# aa_parsed\n",
    "\n",
    "s = re.compile(r'Climate data for')\n",
    "obj = None\n",
    "for t in aa_parsed.find_all('table'):\n",
    "    if s.search(t.get_text()) is not None:\n",
    "        obj = t\n",
    "# print(obj)\n",
    "\n",
    "children = [o for o in obj.children]\n",
    "num_children = len(children)\n",
    "\n",
    "child = children[1]\n",
    "child_c = [o for o in child.children if o.name is not None]  # 2\n",
    "num_child_children = len(child_c)\n",
    "tag = [o.name for o in child.children if o.name is not None][0]"
   ]
  },
  {
   "cell_type": "code",
   "execution_count": 532,
   "metadata": {
    "deletable": false,
    "editable": false,
    "nbgrader": {
     "cell_type": "code",
     "checksum": "cd2b6715c014de90ada6c5362db8e067",
     "grade": true,
     "grade_id": "cell-118ba5ad4937107e",
     "locked": true,
     "points": 1,
     "schema_version": 3,
     "solution": false,
     "task": false
    }
   },
   "outputs": [],
   "source": [
    "assert type(num_children) == int"
   ]
  },
  {
   "cell_type": "code",
   "execution_count": 533,
   "metadata": {
    "deletable": false,
    "editable": false,
    "nbgrader": {
     "cell_type": "code",
     "checksum": "8c9ebf2c5ffec7aea86807c2fd40c574",
     "grade": true,
     "grade_id": "cell-2d282d03893afc33",
     "locked": true,
     "points": 1,
     "schema_version": 3,
     "solution": false,
     "task": false
    }
   },
   "outputs": [
    {
     "data": {
      "text/plain": [
       "True"
      ]
     },
     "execution_count": 533,
     "metadata": {},
     "output_type": "execute_result"
    }
   ],
   "source": [
    "assert type(num_child_children) == int\n",
    "assert type(tag) == str\n",
    "num_child_children > 3"
   ]
  },
  {
   "cell_type": "markdown",
   "metadata": {
    "deletable": false,
    "editable": false,
    "nbgrader": {
     "cell_type": "markdown",
     "checksum": "c6a9d3dc0e44f6c3bb764e5c4955cb86",
     "grade": false,
     "grade_id": "cell-4b11434921fd1d91",
     "locked": true,
     "schema_version": 3,
     "solution": false,
     "task": false
    }
   },
   "source": [
    "### Part 2 (3 points) \n",
    "Write a function `retrieve_climate_table` that takes as its only argument a Wikipedia URL, and returns the `BeautifulSoup` object corresponding to the climate data table (if it exists in the page) and returns `None` if no such table exists on the page. You should check that the URL is retrieved successfully, and raise an error if `urllib2` fails to successfully read the website. \n",
    "\n",
    "You may notice that some city pages include more than one climate data table or several nested tables (see, for example, https://en.wikipedia.org/wiki/Los_Angeles). In this case, for ease of grading, please return the **first** table found as a `BeautifulSoup` object. \n",
    "\n",
    "__Note:__ a good way to check for edge cases is to test your script on the Wikipedia pages for a few of your favorite cities. The pages for Los Angeles, Hyderabad and Boston will give good examples of edge cases that you should be able to handle. \n",
    "\n",
    "__Hint:__ make use of the __contents__ attribute of the __BeautifulSoup__ objects and the ability to change the elements of the contents list to Unicode."
   ]
  },
  {
   "cell_type": "code",
   "execution_count": 534,
   "metadata": {
    "deletable": false,
    "nbgrader": {
     "cell_type": "code",
     "checksum": "d0ba0b74ef37984ee1cface5502772e6",
     "grade": false,
     "grade_id": "cell-00a47d81403bcb53",
     "locked": false,
     "schema_version": 3,
     "solution": true,
     "task": false
    }
   },
   "outputs": [],
   "source": [
    "def retrieve_climate_table(URL):\n",
    "    # YOUR CODE HERE\n",
    "    try:\n",
    "        city = urllib.request.urlopen(URL)\n",
    "        city_parsed = BeautifulSoup(city, 'html.parser')\n",
    "        s = re.compile(r'Climate data for')\n",
    "        for t in city_parsed.find_all('table'):\n",
    "            if s.search(t.get_text()) is not None:\n",
    "                return t\n",
    "        return None\n",
    "    except Exception:\n",
    "        raise TypeError('Please check your URL.')\n"
   ]
  },
  {
   "cell_type": "code",
   "execution_count": 535,
   "metadata": {
    "deletable": false,
    "editable": false,
    "nbgrader": {
     "cell_type": "code",
     "checksum": "8a1eb9da41db24e923cb6e617c1151a8",
     "grade": true,
     "grade_id": "cell-6eb2d744ec8115b9",
     "locked": true,
     "points": 1,
     "schema_version": 3,
     "solution": false,
     "task": false
    }
   },
   "outputs": [],
   "source": [
    "t = retrieve_climate_table('https://en.wikipedia.org/wiki/Ann_Arbor,_Michigan')\n",
    "assert 'Climate data for Ann Arbor, Michigan' in t.text"
   ]
  },
  {
   "cell_type": "code",
   "execution_count": 536,
   "metadata": {
    "deletable": false,
    "editable": false,
    "nbgrader": {
     "cell_type": "code",
     "checksum": "b6a1515a3b66ccda66dc27937c6652fc",
     "grade": true,
     "grade_id": "cell-98cf978c8d053856",
     "locked": true,
     "points": 1,
     "schema_version": 3,
     "solution": false,
     "task": false
    }
   },
   "outputs": [],
   "source": [
    "t = retrieve_climate_table(\n",
    "    'https://en.wikipedia.org/wiki/Buenos_Aires'\n",
    ")\n",
    "assert 'Climate data for Buenos Aires' in t.text"
   ]
  },
  {
   "cell_type": "code",
   "execution_count": 537,
   "metadata": {
    "deletable": false,
    "editable": false,
    "nbgrader": {
     "cell_type": "code",
     "checksum": "2ae47f9db788df581e3efc5d8e128dcf",
     "grade": true,
     "grade_id": "cell-0448f42bb268ec5e",
     "locked": true,
     "points": 1,
     "schema_version": 3,
     "solution": false,
     "task": false
    }
   },
   "outputs": [],
   "source": [
    "try:\n",
    "    retrieve_climate_table(12)\n",
    "    assert False\n",
    "except TypeError:\n",
    "    assert True"
   ]
  },
  {
   "cell_type": "markdown",
   "metadata": {
    "deletable": false,
    "editable": false,
    "nbgrader": {
     "cell_type": "markdown",
     "checksum": "dc2a12ff9812f89cb175bb7f589244cc",
     "grade": false,
     "grade_id": "cell-70d0fd24379158cd",
     "locked": true,
     "schema_version": 3,
     "solution": false,
     "task": false
    }
   },
   "source": [
    "### Part 3 (2 points) \n",
    "\n",
    "As you look at some of the climate data tables, you may notice that different cities' tables contain different information. For example, not all cities include snowfall data. \n",
    "\n",
    "Write a function `list_climate_table_row_names` that takes as its only argument a Wikipedia URL and returns a list of the row names of the climate data table (that your function `retrieve_climate_table` obtains), or returns `None` if no such table exists. The list returned by your function should, ideally, consist solely of Python strings (either Unicode or ASCII), and should not include any `BeautifulSoup` objects or HTML. The list returned by your script should _not_ include an entry corresponding to the __Climate data for...__ row in the table. \n",
    "\n",
    "__Hint:__ see the `BeautifulSoup` method `get_text()`\n",
    "\n",
    "__Second hint:__ you are looking for HTML table header (__th__) objects. The HTML attribute __scope__ is your friend here, because in the context of an HTML table it tells you when a __th__ tag is the header of a row or a column."
   ]
  },
  {
   "cell_type": "code",
   "execution_count": 538,
   "metadata": {
    "deletable": false,
    "nbgrader": {
     "cell_type": "code",
     "checksum": "3453f0493b9c60a6d149a99aa6f739b0",
     "grade": false,
     "grade_id": "cell-ad773b533aa54a2e",
     "locked": false,
     "schema_version": 3,
     "solution": true,
     "task": false
    }
   },
   "outputs": [],
   "source": [
    "def list_climate_table_row_names(URL):\n",
    "    # YOUR CODE HERE\n",
    "    t = retrieve_climate_table(URL)\n",
    "    if t is None:\n",
    "        return None\n",
    "    else:\n",
    "        row = []\n",
    "        for r in t.find_all(\"th\"):\n",
    "            if r.get(\"scope\") == \"row\" and r.get_text() is not None:\n",
    "                text = r.get_text()\n",
    "                row.append(text.strip())\n",
    "        return row"
   ]
  },
  {
   "cell_type": "code",
   "execution_count": 539,
   "metadata": {
    "deletable": false,
    "editable": false,
    "nbgrader": {
     "cell_type": "code",
     "checksum": "080a08d2667fa393f63afd5a5b5073b0",
     "grade": true,
     "grade_id": "cell-25d177e7dae248e2",
     "locked": true,
     "points": 1,
     "schema_version": 3,
     "solution": false,
     "task": false
    }
   },
   "outputs": [],
   "source": [
    "ann_arbor_url = 'https://en.wikipedia.org/wiki/Ann_Arbor,_Michigan'\n",
    "assert list_climate_table_row_names(ann_arbor_url) == [\n",
    " 'Month',\n",
    " 'Record high °F (°C)',\n",
    " 'Average high °F (°C)',\n",
    " 'Daily mean °F (°C)',\n",
    " 'Average low °F (°C)',\n",
    " 'Record low °F (°C)',\n",
    " 'Average precipitation inches (mm)',\n",
    " 'Average snowfall inches (cm)',\n",
    " 'Average precipitation days (≥ 0.01 in)',\n",
    " 'Average snowy days (≥ 0.1 in)']"
   ]
  },
  {
   "cell_type": "code",
   "execution_count": 540,
   "metadata": {
    "deletable": false,
    "editable": false,
    "nbgrader": {
     "cell_type": "code",
     "checksum": "fbe9f6e2871db59c9366489470ee7e98",
     "grade": true,
     "grade_id": "cell-3f8eaf7214244eba",
     "locked": true,
     "points": 1,
     "schema_version": 3,
     "solution": false,
     "task": false
    }
   },
   "outputs": [],
   "source": [
    "not_city_url = \"https://en.wikipedia.org/wiki/George_Tucker_(politician)\"\n",
    "assert list_climate_table_row_names(not_city_url) is None"
   ]
  },
  {
   "cell_type": "markdown",
   "metadata": {
    "deletable": false,
    "editable": false,
    "nbgrader": {
     "cell_type": "markdown",
     "checksum": "61d3d3b8b300585feffc587db7550d31",
     "grade": false,
     "grade_id": "cell-a207a650f2d1ef94",
     "locked": true,
     "schema_version": 3,
     "solution": false,
     "task": false
    }
   },
   "source": [
    "## 4 Relational Databases and SQL (8 points)\n",
    "In this problem, you'll interact with a toy SQL database using Python's built-in `sqlite3` package. Documentation can be found at https://docs.python.org/3/library/sqlite3.html. For this problem, we'll use a popular toy SQLite database, called `Chinook`, which represents a digital music collection. See the documentation at:\n",
    " \n",
    " https://github.com/lerocha/chinook-database/blob/master/ChinookDatabase/DataSources/Chinook_Sqlite.sqlite\n",
    "\n",
    "for a more detailed explanation. We'll use the `.sqlite` file `Chinook_Sqlite.sqlite`, which should have been included along with this hwk in the `hw7.zip` file. "
   ]
  },
  {
   "cell_type": "markdown",
   "metadata": {
    "deletable": false,
    "editable": false,
    "nbgrader": {
     "cell_type": "markdown",
     "checksum": "368eeb7c5659d75036a2a3580e2d8a85",
     "grade": false,
     "grade_id": "cell-56ee4373a5efce0e",
     "locked": true,
     "schema_version": 3,
     "solution": false,
     "task": false
    }
   },
   "source": [
    "### Part 1 (1 points) \n",
    "Load the database using the Python `sqlite3` package. How many tables are in the database? Save the answer in the variable `n_tables`."
   ]
  },
  {
   "cell_type": "code",
   "execution_count": 541,
   "metadata": {
    "deletable": false,
    "nbgrader": {
     "cell_type": "code",
     "checksum": "717efcdb0ac4920899edbdf6028b5e80",
     "grade": false,
     "grade_id": "cell-84893af64498c3cc",
     "locked": false,
     "schema_version": 3,
     "solution": true,
     "task": false
    }
   },
   "outputs": [],
   "source": [
    "import sqlite3\n",
    "conn = sqlite3.connect(\"Chinook_Sqlite.sqlite\")\n",
    "c = conn.cursor()\n",
    "c.execute(\"SELECT * FROM sqlite_master WHERE type='table'\")\n",
    "t = c.fetchall()\n",
    "n_tables = len(t)"
   ]
  },
  {
   "cell_type": "code",
   "execution_count": 542,
   "metadata": {
    "deletable": false,
    "editable": false,
    "nbgrader": {
     "cell_type": "code",
     "checksum": "633e11ed35b1dd8bb42e882d16b1444e",
     "grade": true,
     "grade_id": "cell-68ac85fd573d6251",
     "locked": true,
     "points": 1,
     "schema_version": 3,
     "solution": false,
     "task": false
    }
   },
   "outputs": [],
   "source": [
    "assert type(n_tables) == int\n",
    "assert n_tables > 2"
   ]
  },
  {
   "cell_type": "markdown",
   "metadata": {
    "deletable": false,
    "editable": false,
    "nbgrader": {
     "cell_type": "markdown",
     "checksum": "90fc7812cc2533e748dfdd236f08b8a2",
     "grade": false,
     "grade_id": "cell-ac8e505b743d93d5",
     "locked": true,
     "schema_version": 3,
     "solution": false,
     "task": false
    }
   },
   "source": [
    "### Part 2 (1 points) \n",
    "What are the names of the tables in the database? Save the answer as a list of strings, `table_names`. \n",
    "\n",
    "__Note:__ you should write Python `sqlite3` code to answer this; don't just look up the answer in the documentation!"
   ]
  },
  {
   "cell_type": "code",
   "execution_count": 543,
   "metadata": {
    "deletable": false,
    "nbgrader": {
     "cell_type": "code",
     "checksum": "d135eed4a4357a65679aa62439c15c78",
     "grade": false,
     "grade_id": "cell-ce5f6a6581833d60",
     "locked": false,
     "schema_version": 3,
     "solution": true,
     "task": false
    }
   },
   "outputs": [],
   "source": [
    "table_names = []\n",
    "# YOUR CODE HERE\n",
    "conn = sqlite3.connect(\"Chinook_Sqlite.sqlite\")\n",
    "c = conn.cursor()\n",
    "c.execute(\"SELECT name FROM sqlite_master WHERE type='table'\")\n",
    "t = c.fetchall()\n",
    "for name in t:\n",
    "    table_names.append(name[0])"
   ]
  },
  {
   "cell_type": "code",
   "execution_count": 544,
   "metadata": {
    "deletable": false,
    "editable": false,
    "nbgrader": {
     "cell_type": "code",
     "checksum": "4dd747b0404b7fae7bbcfa557d3f81f0",
     "grade": true,
     "grade_id": "cell-34217dd8ef66ceae",
     "locked": true,
     "points": 1,
     "schema_version": 3,
     "solution": false,
     "task": false
    }
   },
   "outputs": [],
   "source": [
    "assert type(table_names) == list\n",
    "assert len(table_names) > 2\n",
    "assert 'Album' in table_names and 'Employee' in table_names"
   ]
  },
  {
   "cell_type": "markdown",
   "metadata": {
    "deletable": false,
    "editable": false,
    "nbgrader": {
     "cell_type": "markdown",
     "checksum": "fb1352d9917e90cd726af95a4e67de20",
     "grade": false,
     "grade_id": "cell-28f3508b1cf8bebb",
     "locked": true,
     "schema_version": 3,
     "solution": false,
     "task": false
    }
   },
   "source": [
    "### Part 3 (2 points)\n",
    "\n",
    "Write a function `list_album_ids_by_letter` that takes as an argument a single character and returns a list of the primary keys of all the albums whose titles start with that character. Your function should ignore case, so that the inputs \"a\" and \"A\" yield the same results. \n",
    "\n",
    "Include error checking that raises an error in the event that the input is not a single character."
   ]
  },
  {
   "cell_type": "code",
   "execution_count": 545,
   "metadata": {
    "deletable": false,
    "nbgrader": {
     "cell_type": "code",
     "checksum": "243ea8d20c6e41936e3b01a71448b6d0",
     "grade": false,
     "grade_id": "cell-978a04358ba1be71",
     "locked": false,
     "schema_version": 3,
     "solution": true,
     "task": false
    }
   },
   "outputs": [],
   "source": [
    "def list_album_ids_by_letter(s):\n",
    "    # YOUR CODE HERE\n",
    "    if not isinstance(s, str):\n",
    "        raise TypeError(\"The input should be a string.\")\n",
    "    if len(s) != 1:\n",
    "        raise ValueError(\"The input should be a single string.\")\n",
    "    else:\n",
    "        conn = sqlite3.connect(\"Chinook_Sqlite.sqlite\")\n",
    "        c = conn.cursor()\n",
    "        c.execute(\"SELECT AlbumId from Album WHERE Title LIKE '%s' COLLATE NOCASE\" % (s + '%'))\n",
    "        keys = c.fetchall()\n",
    "        res = []\n",
    "        for k in keys:\n",
    "            res.append(k[0])\n",
    "        return res"
   ]
  },
  {
   "cell_type": "code",
   "execution_count": 546,
   "metadata": {
    "deletable": false,
    "editable": false,
    "nbgrader": {
     "cell_type": "code",
     "checksum": "3a1f1748e5b34f968940f553c67e75be",
     "grade": true,
     "grade_id": "cell-d403320337a4b928",
     "locked": true,
     "points": 1,
     "schema_version": 3,
     "solution": false,
     "task": false
    }
   },
   "outputs": [],
   "source": [
    "try:\n",
    "    list_album_ids_by_letter('ndf')\n",
    "    assert False\n",
    "except ValueError:\n",
    "    assert True"
   ]
  },
  {
   "cell_type": "code",
   "execution_count": 547,
   "metadata": {
    "deletable": false,
    "editable": false,
    "nbgrader": {
     "cell_type": "code",
     "checksum": "05a41f6049aea7fe634f9c2cca212d20",
     "grade": true,
     "grade_id": "cell-0d4f64e117432d87",
     "locked": true,
     "points": 1,
     "schema_version": 3,
     "solution": false,
     "task": false
    }
   },
   "outputs": [],
   "source": [
    "assert list_album_ids_by_letter('n') == [28, 105, 164, 173, 186, 189, 217, 338]"
   ]
  },
  {
   "cell_type": "markdown",
   "metadata": {
    "deletable": false,
    "editable": false,
    "nbgrader": {
     "cell_type": "markdown",
     "checksum": "b84077cf48dad96098e5f92dedab1d4a",
     "grade": false,
     "grade_id": "cell-3d203c8a56231a2d",
     "locked": true,
     "schema_version": 3,
     "solution": false,
     "task": false
    }
   },
   "source": [
    "### Part 4 (2 points)\n",
    "Write a function `list_song_ids_by_album_letter` that takes as an argument a single character and returns a list of the primary keys of all the songs whose album names begin with that letter. \n",
    "\n",
    "Again, your function should ignore case and perform error checking as in `list_album_ids_by_letter`. \n",
    "\n",
    "__Hint:__ you'll need a `JOIN` statement here. Don't forget that you can use the `cursor.description` attribute to find out about tables and the names of their columns."
   ]
  },
  {
   "cell_type": "code",
   "execution_count": 548,
   "metadata": {
    "deletable": false,
    "nbgrader": {
     "cell_type": "code",
     "checksum": "6e78c016aae8b050bf67c334fbaac7a0",
     "grade": false,
     "grade_id": "cell-923e58005cc15786",
     "locked": false,
     "schema_version": 3,
     "solution": true,
     "task": false
    }
   },
   "outputs": [],
   "source": [
    "def list_song_ids_by_album_letter(s):\n",
    "    # YOUR CODE HERE\n",
    "    if not isinstance(s, str):\n",
    "        raise TypeError(\"The input should be a string.\")\n",
    "    if len(s) != 1:\n",
    "        raise ValueError(\"The input should be a single string.\")\n",
    "    else:\n",
    "        conn = sqlite3.connect(\"Chinook_Sqlite.sqlite\")\n",
    "        c = conn.cursor()\n",
    "        c.execute(\n",
    "            '''SELECT TrackId From Track LEFT\n",
    "            JOIN Album ON Track.AlbumId=Album.AlbumId\n",
    "            WHERE Album.Title LIKE '%s' COLLATE NOCASE''' % (s + '%'))\n",
    "        keys = c.fetchall()\n",
    "        res = []\n",
    "        for k in keys:\n",
    "            res.append(k[0])\n",
    "        return res"
   ]
  },
  {
   "cell_type": "code",
   "execution_count": 549,
   "metadata": {
    "deletable": false,
    "editable": false,
    "nbgrader": {
     "cell_type": "code",
     "checksum": "861842e205471937802b11a3e320adc3",
     "grade": true,
     "grade_id": "prob4-4-test1",
     "locked": true,
     "points": 1,
     "schema_version": 3,
     "solution": false,
     "task": false
    }
   },
   "outputs": [],
   "source": [
    "try:\n",
    "    list_song_ids_by_album_letter('ndf')\n",
    "    assert False\n",
    "except ValueError:\n",
    "    assert True"
   ]
  },
  {
   "cell_type": "code",
   "execution_count": 550,
   "metadata": {
    "deletable": false,
    "editable": false,
    "nbgrader": {
     "cell_type": "code",
     "checksum": "fae65620a2dc7ebf47882529f044c127",
     "grade": true,
     "grade_id": "prob4-4-test2",
     "locked": true,
     "points": 1,
     "schema_version": 3,
     "solution": false,
     "task": false
    }
   },
   "outputs": [],
   "source": [
    "assert list_song_ids_by_album_letter('z') == [3028, 3029, 3030, 3031,\n",
    "                                              3032, 3033, 3034, 3035,\n",
    "                                              3036, 3037]"
   ]
  },
  {
   "cell_type": "markdown",
   "metadata": {
    "deletable": false,
    "editable": false,
    "nbgrader": {
     "cell_type": "markdown",
     "checksum": "533f6fc60cec695457cab1e142bc08e9",
     "grade": false,
     "grade_id": "cell-d2888e63a0623e2a",
     "locked": true,
     "schema_version": 3,
     "solution": false,
     "task": false
    }
   },
   "source": [
    "### Part 5 (2 points)\n",
    "\n",
    "Write a function `total_cost_by_album_letter` that takes as an argument a single character and returns the cost of buying every song whose album begins with that letter. This cost should be based on the tracks' unit prices, so that the cost of buying a set of tracks is simply the sum of the unit prices of all the tracks in the set. Assume input is always a single lower case chracter."
   ]
  },
  {
   "cell_type": "code",
   "execution_count": 551,
   "metadata": {
    "deletable": false,
    "nbgrader": {
     "cell_type": "code",
     "checksum": "9969a3fe2392ae3cffb83920a9e10b82",
     "grade": false,
     "grade_id": "cell-0c65ee406ac0ffe4",
     "locked": false,
     "schema_version": 3,
     "solution": true,
     "task": false
    }
   },
   "outputs": [],
   "source": [
    "def total_cost_by_album_letter(s):\n",
    "    # YOUR CODE HERE\n",
    "    conn = sqlite3.connect(\"Chinook_Sqlite.sqlite\")\n",
    "    c = conn.cursor()\n",
    "    c.execute(\n",
    "        '''SELECT SUM(Track.UnitPrice)\n",
    "        From Track LEFT JOIN Album ON Track.AlbumId=Album.AlbumId\n",
    "        WHERE Album.Title LIKE '%s' COLLATE NOCASE''' % (s + '%'))\n",
    "    cost = c.fetchone()\n",
    "    return cost[0]"
   ]
  },
  {
   "cell_type": "code",
   "execution_count": 552,
   "metadata": {
    "deletable": false,
    "editable": false,
    "nbgrader": {
     "cell_type": "code",
     "checksum": "7bd7821fda608ef4516861101c87ec6a",
     "grade": true,
     "grade_id": "cell-c7a96ed82a24e685",
     "locked": true,
     "points": 1,
     "schema_version": 3,
     "solution": false,
     "task": false
    }
   },
   "outputs": [],
   "source": [
    "assert total_cost_by_album_letter('z') == 9.9"
   ]
  },
  {
   "cell_type": "code",
   "execution_count": 553,
   "metadata": {
    "deletable": false,
    "editable": false,
    "nbgrader": {
     "cell_type": "code",
     "checksum": "1b556a4f10da1add2a057b17ec6e14cb",
     "grade": true,
     "grade_id": "cell-8ee5f3e15e1fc42b",
     "locked": true,
     "points": 1,
     "schema_version": 3,
     "solution": false,
     "task": false
    }
   },
   "outputs": [],
   "source": [
    "assert round(total_cost_by_album_letter('a'), 0) == 366"
   ]
  },
  {
   "cell_type": "code",
   "execution_count": null,
   "metadata": {},
   "outputs": [],
   "source": []
  }
 ],
 "metadata": {
  "kernelspec": {
   "display_name": "Python 3",
   "language": "python",
   "name": "python3"
  },
  "language_info": {
   "codemirror_mode": {
    "name": "ipython",
    "version": 3
   },
   "file_extension": ".py",
   "mimetype": "text/x-python",
   "name": "python",
   "nbconvert_exporter": "python",
   "pygments_lexer": "ipython3",
   "version": "3.8.3"
  },
  "latex_envs": {
   "LaTeX_envs_menu_present": true,
   "autoclose": false,
   "autocomplete": true,
   "bibliofile": "biblio.bib",
   "cite_by": "apalike",
   "current_citInitial": 1,
   "eqLabelWithNumbers": true,
   "eqNumInitial": 1,
   "hotkeys": {
    "equation": "meta-shift-y"
   },
   "labels_anchors": false,
   "latex_user_defs": false,
   "report_style_numbering": false,
   "user_envs_cfg": false
  },
  "toc": {
   "base_numbering": 1,
   "nav_menu": {},
   "number_sections": false,
   "sideBar": true,
   "skip_h1_title": false,
   "title_cell": "Table of Contents",
   "title_sidebar": "Contents",
   "toc_cell": false,
   "toc_position": {
    "height": "calc(100% - 180px)",
    "left": "10px",
    "top": "150px",
    "width": "353.483px"
   },
   "toc_section_display": true,
   "toc_window_display": true
  }
 },
 "nbformat": 4,
 "nbformat_minor": 2
}
