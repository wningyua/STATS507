{
 "cells": [
  {
   "cell_type": "markdown",
   "metadata": {
    "deletable": false,
    "editable": false,
    "nbgrader": {
     "cell_type": "markdown",
     "checksum": "acf004f0ff034094ed9d99f587009638",
     "grade": false,
     "grade_id": "cell-c26ceffb7ba8403d",
     "locked": true,
     "schema_version": 3,
     "solution": false,
     "task": false
    }
   },
   "source": [
    "# Homework 8 (20 points)"
   ]
  },
  {
   "cell_type": "markdown",
   "metadata": {},
   "source": [
    "name: Ningyuan Wang \n",
    "\n",
    "email: wningyua@umich.edu\n",
    "\n",
    "This homework assignment took me XX hours in total to complete. (Please help us to gauge the difficulty of the assignment.)"
   ]
  },
  {
   "cell_type": "markdown",
   "metadata": {
    "deletable": false,
    "editable": false,
    "nbgrader": {
     "cell_type": "markdown",
     "checksum": "26bc23022a9b6661beb31f28d255c61a",
     "grade": false,
     "grade_id": "cell-9fc8abaaecff0e9a",
     "locked": true,
     "schema_version": 3,
     "solution": false,
     "task": false
    }
   },
   "source": [
    "## Collaboration Disclosure\n",
    "\n",
    "In the cell below, please list *everyone* with whom you discussed any of the homework problems, excluding only the GSIs and the course instructor. \n",
    "\n",
    "If you did not discuss the homework with anyone else, write __\"I did not discuss this homework with anyone.\"__\n",
    "\n",
    "Even if you discuss questions with other, the code you submit must be only yours. All work is checked with the [MOSS plagiarism detector](https://theory.stanford.edu/~aiken/moss/).)"
   ]
  },
  {
   "cell_type": "markdown",
   "metadata": {},
   "source": [
    "I discussed XX with XX. "
   ]
  },
  {
   "cell_type": "markdown",
   "metadata": {
    "deletable": false,
    "editable": false,
    "nbgrader": {
     "cell_type": "markdown",
     "checksum": "cfe29b27b179ed9810f9c2f1f984b024",
     "grade": false,
     "grade_id": "submission",
     "locked": true,
     "schema_version": 3,
     "solution": false,
     "task": false
    }
   },
   "source": [
    "## Submission Instructions\n",
    "Your homework solutions should be written entirely in this Jupyter notebook file. Once it contains your solutions, you should submit this notebook through Canvas. Before submitting, please make sure make sure __Cells->Run__ executes without errors; errors in your code cause problems for our auto-grader. Thus, even though we may ask you to check for errors in your functions, you should not include in your submission any examples of your functions actually raising those errors.\n",
    "\n",
    "## Nbgrader\n",
    "\n",
    "We will be using `nbgrader` to grade your jupyter notebook. Additional tests will be used at grading time, you are encouraged to read the problem carefully and verify your code covers all appropriate cases.\n",
    "\n",
    "**Be careful:** If a jupyter notebook cell takes longer than `120s` to run, the autograder will not grade it and you will receive zero credit for that question.\n",
    "\n",
    "## Error checking\n",
    "\n",
    "You do not need to do error checking (raising errors, etc.) in your code unless we explicitly ask you to so in a problem."
   ]
  },
  {
   "cell_type": "markdown",
   "metadata": {
    "deletable": false,
    "editable": false,
    "nbgrader": {
     "cell_type": "markdown",
     "checksum": "99a4b1f52b2a51fd259655608d2d5669",
     "grade": false,
     "grade_id": "coding-style",
     "locked": true,
     "schema_version": 3,
     "solution": false,
     "task": false
    }
   },
   "source": [
    "## Coding style\n",
    "Please follow the [PEP8 guidelines](https://www.python.org/dev/peps/pep-0008/). The `pycodestyle_magic` package will remind you if you are not. To install it, run\n",
    "```\n",
    "pip install flake8 pycodestyle_magic\n",
    "```\n",
    "Once it is installed the following two Jupyter directives will enable syntax checking:"
   ]
  },
  {
   "cell_type": "code",
   "execution_count": 13,
   "metadata": {
    "deletable": false,
    "editable": false,
    "nbgrader": {
     "cell_type": "code",
     "checksum": "11f994a1204f00eb8ea040c864033a8d",
     "grade": false,
     "grade_id": "cell-7311e8da28736726",
     "locked": true,
     "schema_version": 3,
     "solution": false,
     "task": false
    }
   },
   "outputs": [],
   "source": [
    "%load_ext pycodestyle_magic\n",
    "%flake8_on --ignore E266 --max_line_length 99"
   ]
  },
  {
   "cell_type": "code",
   "execution_count": 14,
   "metadata": {},
   "outputs": [],
   "source": [
    "import matplotlib.pyplot as plt\n",
    "import numpy as np\n",
    "import random\n",
    "import time"
   ]
  },
  {
   "cell_type": "markdown",
   "metadata": {
    "deletable": false,
    "editable": false,
    "nbgrader": {
     "cell_type": "markdown",
     "checksum": "89de8d6b3feb90b84752b94b30da4fd6",
     "grade": false,
     "grade_id": "cell-311009ab403a53be",
     "locked": true,
     "schema_version": 3,
     "solution": false,
     "task": false
    }
   },
   "source": [
    "### Problem 1: Implementing a Basic Data Structure (12 points)\n",
    "1. A trie (rhymes with tree, confusingly) is a tree-like data structure for storing collections of array-like data. We will confine our attention to strings for the sake of this problem, but bear in mind that tries can of course be used to represent much more general data than that. \n",
    "\n",
    "   In a trie, each path from the root node to a leaf corresponds to a string in the collection, and every string in the collection has a corresponding path from the root to a node (not necessarily a leaf). Each edge from a node to one of its children is annotated with a letter, as in this example, which represents the collection of strings {cat, car, cog, dart, do, dog}. Notice that only certain nodes in the trie are shaded. These correspond precisely to the nodes that represent strings in the collection. In passing, note that tries have certain advantages and disadvantages when compared against other look-up structures like hash tables. Refer to any textbook on data structures (or Wikipedia) for a discussion. \n",
    "   \n",
    "   It should be more or less clear how one might represent this data structure as a Python dictionary, but let’s walk through it. We will represent a trie by a series of nested dictionaries, with each node in the trie having a dictionary that maps a single character to another dictionary. Thus, for example, the trie in the figure above is, at its outer-most layer, a dictionary, say, `my_trie`, with two keys, ’c’,’d’. `my_trie[’c’]` is itself a dictionary with two keys, ’a’,’o’ and `my_trie[’d’]` is a separate dictionary with the same two keys. (that is, `my_trie[’c’]` and `my_trie[’d’]` are equivalent, but they are not identical). Note that one tricky thing here is to make sure we have a system for representing which leaves (i.e., dictionaries) correspond to the ends of strings (i.e., shaded nodes in the figure above). To solve this, we will use the empty string (’’) as a sort of special “end-of-word” character. Thus, for example, `my_trie[’d’][’o’]` would itself be a dictionary with the keys ’’,’g’. The first key corresponds to the fact that ’do’ is a string in the collection, while the second corresponds to the string ’dog’ (which also happens to be in the collection, so that the dictionary `my_trie[’d’][’o’][’g’]` will have the empty string as its only key. We will, by convention, give the end-character symbol ’’ the value None (note that this is again an arbitrary choice, but one which I am enforcing for the sake of uniformity and ease of grading). \n",
    "   \n",
    "   Now, this is all well and good, but the natural (and more principled) thing to do is to wrap this structure in a class. Define a class called a `Trie`, which supports the following methods:\n",
    "\n",
    " - __ __init____(self) : takes no arguments. Initializes an empty dictionary called root as the only instance attribute of the Trie object. This dictionary will serve as the data structure described in the previous paragraph.\n",
    " - __add__(self,s) : takes a string s as its only argument. Adds s to the trie represented by self.root according to the procedure described in the paragraph above.\n",
    " - __contains__(self,s) : takes a string s as its only argument and returns a boolean, which is True if and only if the string s is represented in the trie.\n",
    " - __ __repr____(self) : takes no arguments. Returns a string representing the object. When you try to print an object, Python calls this method (if it exists). See https://docs.python.org/3.6/reference/datamodel.html#object.__repr__ for more information. In our case, let’s just say that calling the Trie.__repr__ method just returns the string representation of the dictionary, which you’ll recall is stored as self.root.\n",
    " \n",
    "   You are of course free to implement methods additional to these if you wish. Hint: you may find it helpful to write a “helper” method for use in the contains method, that takes a string and a dictionary as its two arguments, say, `contains_helper(s,d)`. If the first character of the string is not in the dictionary, you can safely return False. If the first character is in the dictionary, we can recurse, contains_helper(s[1:],d[s[0]]). Be careful of the base case, where s is the empty string! A similar trick will also help with the add method."
   ]
  },
  {
   "cell_type": "code",
   "execution_count": null,
   "metadata": {
    "deletable": false,
    "nbgrader": {
     "cell_type": "code",
     "checksum": "975da0c8277cd502f69e136d4a4e21e6",
     "grade": false,
     "grade_id": "cell-24784cc45f6cf529",
     "locked": false,
     "schema_version": 3,
     "solution": true,
     "task": false
    }
   },
   "outputs": [],
   "source": [
    "# YOUR CODE HERE\n",
    "class Trie:\n",
    "    def __init__(self, root=dict()):\n",
    "        self.root = root\n",
    "    def add(self, s):\n",
    "        \n",
    "    def comtains(self, s):\n",
    "    \n",
    "    def __repr__(self):\n",
    "        \n",
    "        "
   ]
  },
  {
   "cell_type": "markdown",
   "metadata": {
    "deletable": false,
    "editable": false,
    "nbgrader": {
     "cell_type": "markdown",
     "checksum": "9f711792821c270b8e5ea0abe6d325c2",
     "grade": false,
     "grade_id": "cell-7d59e6d2d20083b4",
     "locked": true,
     "schema_version": 3,
     "solution": false,
     "task": false
    }
   },
   "source": [
    "2. Write a function called `wordlist2trie` that takes a list of strings as input and returns a Trie object representing the collection of strings in the input list. Your function should perform error checking to verify that the input is indeed a list and that all its elements are strings. Note that we could just as well have implemented a method in the Trie class to do this, if we wanted."
   ]
  },
  {
   "cell_type": "code",
   "execution_count": null,
   "metadata": {
    "deletable": false,
    "nbgrader": {
     "cell_type": "code",
     "checksum": "6bb4b8ae8af28c37f5097c803a8b97e6",
     "grade": false,
     "grade_id": "wordlist2trie",
     "locked": false,
     "schema_version": 3,
     "solution": true,
     "task": false
    }
   },
   "outputs": [],
   "source": [
    "# YOUR CODE HERE\n",
    "raise NotImplementedError()"
   ]
  },
  {
   "cell_type": "code",
   "execution_count": null,
   "metadata": {
    "deletable": false,
    "editable": false,
    "nbgrader": {
     "cell_type": "code",
     "checksum": "a1c1ab6ae8292eb4d67225141c472841",
     "grade": true,
     "grade_id": "init",
     "locked": true,
     "points": 1,
     "schema_version": 3,
     "solution": false,
     "task": false
    }
   },
   "outputs": [],
   "source": [
    "test = Trie()\n",
    "assert test.root == {}"
   ]
  },
  {
   "cell_type": "code",
   "execution_count": null,
   "metadata": {
    "deletable": false,
    "editable": false,
    "nbgrader": {
     "cell_type": "code",
     "checksum": "d16544304676bfe542feae4883555adf",
     "grade": true,
     "grade_id": "contains",
     "locked": true,
     "points": 1,
     "schema_version": 3,
     "solution": false,
     "task": false
    }
   },
   "outputs": [],
   "source": [
    "T = wordlist2trie(['dog', 'do'])\n",
    "assert not T.contains('cat')\n",
    "assert T.contains('dog')"
   ]
  },
  {
   "cell_type": "code",
   "execution_count": null,
   "metadata": {
    "deletable": false,
    "editable": false,
    "nbgrader": {
     "cell_type": "code",
     "checksum": "a1601e8b85d7eff9f5751dcc9218990b",
     "grade": true,
     "grade_id": "repr",
     "locked": true,
     "points": 1,
     "schema_version": 3,
     "solution": false,
     "task": false
    }
   },
   "outputs": [],
   "source": [
    "assert type(T.__repr__()) == str"
   ]
  },
  {
   "cell_type": "code",
   "execution_count": null,
   "metadata": {
    "deletable": false,
    "editable": false,
    "nbgrader": {
     "cell_type": "code",
     "checksum": "467f2782bb6d14e828246c5fef65aa54",
     "grade": true,
     "grade_id": "add",
     "locked": true,
     "points": 1,
     "schema_version": 3,
     "solution": false,
     "task": false
    }
   },
   "outputs": [],
   "source": [
    "T = wordlist2trie(['dog', 'do'])\n",
    "T.add('cat')\n",
    "assert T.contains('cat')\n",
    "assert T.contains('dog')"
   ]
  },
  {
   "cell_type": "code",
   "execution_count": null,
   "metadata": {
    "deletable": false,
    "editable": false,
    "nbgrader": {
     "cell_type": "code",
     "checksum": "db163736594dcb59473ee166e78d8929",
     "grade": true,
     "grade_id": "complex-contains",
     "locked": true,
     "points": 1,
     "schema_version": 3,
     "solution": false,
     "task": false
    }
   },
   "outputs": [],
   "source": [
    "complex_trie = wordlist2trie([\"stats\", \"statistics\", \"stat\", \"statistic\", \"mean\", \"median\", \"mode\", \"\"])\n",
    "assert complex_trie.contains(\"\")\n",
    "assert complex_trie.contains(\"stat\")"
   ]
  },
  {
   "cell_type": "code",
   "execution_count": null,
   "metadata": {
    "deletable": false,
    "editable": false,
    "nbgrader": {
     "cell_type": "code",
     "checksum": "bb06077b708d0d47cd246a7bee52f0d8",
     "grade": true,
     "grade_id": "type-trie",
     "locked": true,
     "points": 1,
     "schema_version": 3,
     "solution": false,
     "task": false
    }
   },
   "outputs": [],
   "source": [
    "empty_trie = wordlist2trie([])\n",
    "assert type(empty_trie) == Trie"
   ]
  },
  {
   "cell_type": "code",
   "execution_count": null,
   "metadata": {
    "deletable": false,
    "editable": false,
    "nbgrader": {
     "cell_type": "code",
     "checksum": "4e34552128222c1b6c84152e9577d91a",
     "grade": true,
     "grade_id": "complex-repr",
     "locked": true,
     "points": 1,
     "schema_version": 3,
     "solution": false,
     "task": false
    }
   },
   "outputs": [],
   "source": [
    "T = wordlist2trie(['dog', 'do'])\n",
    "assert T.__repr__() == \"{'d': {'o': {'g': {'': None}, '': None}}}\""
   ]
  },
  {
   "cell_type": "code",
   "execution_count": null,
   "metadata": {
    "deletable": false,
    "editable": false,
    "nbgrader": {
     "cell_type": "code",
     "checksum": "699682cce5b343b4de537cc30d510e53",
     "grade": true,
     "grade_id": "complex-add",
     "locked": true,
     "points": 1,
     "schema_version": 3,
     "solution": false,
     "task": false
    }
   },
   "outputs": [],
   "source": [
    "complex_trie = wordlist2trie([\"stats\", \"statistics\", \"stat\", \"statistic\", \"mean\", \"median\", \"mode\", \"\"])\n",
    "complex_trie.add(\"mean\")\n",
    "assert complex_trie.contains(\"mean\")"
   ]
  },
  {
   "cell_type": "markdown",
   "metadata": {
    "deletable": false,
    "editable": false,
    "nbgrader": {
     "cell_type": "markdown",
     "checksum": "35267896c12f9ef22205d9ed360001e9",
     "grade": false,
     "grade_id": "cell-c278d8347b6e9c73",
     "locked": true,
     "schema_version": 3,
     "solution": false,
     "task": false
    }
   },
   "source": [
    "3. Download the word list from http://www.greenteapress.com/thinkpython/code/words.txt (or read it directly using urlib or requests), and use `wordlist2trie` to build a trie representing the words in the word list. Save the result in a variable called `big_trie`."
   ]
  },
  {
   "cell_type": "code",
   "execution_count": null,
   "metadata": {
    "deletable": false,
    "nbgrader": {
     "cell_type": "code",
     "checksum": "fd38446acc9a9e00a185320d159cbc54",
     "grade": false,
     "grade_id": "cell-1a9afd45a3878bf2",
     "locked": false,
     "schema_version": 3,
     "solution": true,
     "task": false
    }
   },
   "outputs": [],
   "source": [
    "# YOUR CODE HERE\n",
    "raise NotImplementedError()"
   ]
  },
  {
   "cell_type": "code",
   "execution_count": null,
   "metadata": {
    "deletable": false,
    "editable": false,
    "nbgrader": {
     "cell_type": "code",
     "checksum": "23ad7870ebdf6b81ef827ed27b569322",
     "grade": true,
     "grade_id": "type-trie-2",
     "locked": true,
     "points": 1,
     "schema_version": 3,
     "solution": false,
     "task": false
    }
   },
   "outputs": [],
   "source": [
    "assert type(big_trie) == Trie"
   ]
  },
  {
   "cell_type": "code",
   "execution_count": null,
   "metadata": {
    "deletable": false,
    "editable": false,
    "nbgrader": {
     "cell_type": "code",
     "checksum": "bdee48af523354829d8e241992b9463e",
     "grade": true,
     "grade_id": "suspicious",
     "locked": true,
     "points": 1,
     "schema_version": 3,
     "solution": false,
     "task": false
    }
   },
   "outputs": [],
   "source": [
    "assert big_trie.contains('suspicious')"
   ]
  },
  {
   "cell_type": "code",
   "execution_count": null,
   "metadata": {
    "deletable": false,
    "editable": false,
    "nbgrader": {
     "cell_type": "code",
     "checksum": "e5527dcfcd0e2fda674318fb4306d70e",
     "grade": true,
     "grade_id": "spaces",
     "locked": true,
     "points": 1,
     "schema_version": 3,
     "solution": false,
     "task": false
    }
   },
   "outputs": [],
   "source": [
    "assert not big_trie.contains(\" \")"
   ]
  },
  {
   "cell_type": "code",
   "execution_count": null,
   "metadata": {
    "deletable": false,
    "editable": false,
    "nbgrader": {
     "cell_type": "code",
     "checksum": "44de96f742b90a74aec4da261e8c4940",
     "grade": true,
     "grade_id": "random-words",
     "locked": true,
     "points": 1,
     "schema_version": 3,
     "solution": false,
     "task": false
    }
   },
   "outputs": [],
   "source": [
    "assert big_trie.contains(\"big\")"
   ]
  },
  {
   "cell_type": "markdown",
   "metadata": {
    "deletable": false,
    "editable": false,
    "nbgrader": {
     "cell_type": "markdown",
     "checksum": "885fea58542ba64c7d12be39f4b8a0e7",
     "grade": false,
     "grade_id": "cell-a0ec5635c412a8c8",
     "locked": true,
     "schema_version": 3,
     "solution": false,
     "task": false
    }
   },
   "source": [
    "### Problem 2: Comparing Sorting Algorithms (8 points)"
   ]
  },
  {
   "cell_type": "markdown",
   "metadata": {
    "deletable": false,
    "editable": false,
    "nbgrader": {
     "cell_type": "markdown",
     "checksum": "877c8a8c0aa5d726ced3a391c6bec7b1",
     "grade": false,
     "grade_id": "cell-2c457f2abe8a71a4",
     "locked": true,
     "schema_version": 3,
     "solution": false,
     "task": false
    }
   },
   "source": [
    "A point that we touched upon in lecture is the distinction between worst-case and averagecase run time. That is, an algorithm may require, say, $O(n)$ time to run on most inputs, but certain inputs require, say, $O(n^2)$ time. In this problem, you’ll see an illustration of this phenomenon in the context of sorting algorithms.\n",
    "1. <b>(3 points)</b> We are going to compare the performance of three popular sorting algorithms: merge sort, quicksort and bubble sort. Their respective Wikipedia pages, each of which includes pseudocode, which you are free to consult. Some of these pages display pseudocode for multiple variants of the algorithms (e.g., implementing certain small optimizations). You are not required to implement any of these speedups, but you are welcome to do so if you wish. You are free, if you wish, to simply copy the implementation of quicksort from the lecture slides. Note: looking up solutions to this problem from any resource other than these Wikipedia pages and the course materials will be considered academic misconduct and will be referred to Rackham’s academic integrity office accordingly.\n",
    " - https://en.wikipedia.org/wiki/Merge_sort\n",
    " - https://en.wikipedia.org/wiki/Quicksort\n",
    " - https://en.wikipedia.org/wiki/Bubble_sort\n",
    "   \n",
    "   Implement functions called `mergesort`, `quicksort` and `bubblesort`, each of which takes as input a list of numbers (ints and/or floats) and returns the list with elements sorts in non-decreasing order. Your sorting functions should perform error checking to ensure that the input is a list and that the elements of the list are all numeric (i.e., ints and/or floats). Your quicksort should use the last element of the input list as the pivot."
   ]
  },
  {
   "cell_type": "code",
   "execution_count": 45,
   "metadata": {
    "deletable": false,
    "nbgrader": {
     "cell_type": "code",
     "checksum": "bb587db1939fe3141ceda7922e3dbf96",
     "grade": false,
     "grade_id": "cell-d85daf702c36fc43",
     "locked": false,
     "schema_version": 3,
     "solution": true,
     "task": false
    }
   },
   "outputs": [],
   "source": [
    "# YOUR CODE HERE\n",
    "def mergesort(t):\n",
    "    if len(t) <= 1:\n",
    "        return t\n",
    "    mid = len(t)//2\n",
    "    left = t[:mid]\n",
    "    right = t[mid:]\n",
    "    left = mergesort(left)\n",
    "    right = mergesort(right)\n",
    "    t = []\n",
    "    while len(left) > 0 and len(right) > 0:\n",
    "        if left[0] <= right[0]:\n",
    "            t.append(left[0])\n",
    "            left.pop(0)\n",
    "        else:\n",
    "            t.append(right[0])\n",
    "            right.pop(0)\n",
    "    # either left or right may have elements left\n",
    "    while len(left) > 0:\n",
    "        t.append(left[0])\n",
    "        left.pop(0)\n",
    "    while len(right) > 0:\n",
    "        t.append(right[0])\n",
    "        right.pop(0)\n",
    "    return t\n"
   ]
  },
  {
   "cell_type": "code",
   "execution_count": 46,
   "metadata": {
    "deletable": false,
    "nbgrader": {
     "cell_type": "code",
     "checksum": "bf0a3a63eb1986251f5995c74d98bf8a",
     "grade": false,
     "grade_id": "cell-98348d234566b21e",
     "locked": false,
     "schema_version": 3,
     "solution": true,
     "task": false
    }
   },
   "outputs": [],
   "source": [
    "# YOUR CODE HERE\n",
    "def quicksort(t):\n",
    "    if len(t) <= 1:\n",
    "        return t\n",
    "    (less, mid, more) = (list(), list(), list())\n",
    "    pivot = t[0]\n",
    "    mid.append(t[0])\n",
    "    for i in range(1, len(t)):\n",
    "        if t[i] == pivot:\n",
    "            mid.append(t[i])\n",
    "        elif t[i] < pivot:\n",
    "            less.append(t[i])\n",
    "        else:\n",
    "            more.append(t[i])\n",
    "    return quicksort(less) + mid + quicksort(more)"
   ]
  },
  {
   "cell_type": "code",
   "execution_count": 24,
   "metadata": {
    "deletable": false,
    "nbgrader": {
     "cell_type": "code",
     "checksum": "4346aeec02ad00b3f4e4f0cd6bc3cd8d",
     "grade": false,
     "grade_id": "cell-21da124d4ae7d120",
     "locked": false,
     "schema_version": 3,
     "solution": true,
     "task": false
    }
   },
   "outputs": [],
   "source": [
    "# YOUR CODE HERE\n",
    "def bubblesort(t):\n",
    "    if len(t) <= 1:\n",
    "        return t\n",
    "    n = len(t)\n",
    "    for i in range(1, n):\n",
    "        if t[i-1] > t[i]:\n",
    "            t[i-1], t[i] = t[i], t[i-1]\n",
    "    return t"
   ]
  },
  {
   "cell_type": "code",
   "execution_count": 40,
   "metadata": {},
   "outputs": [
    {
     "name": "stderr",
     "output_type": "stream",
     "text": [
      "3:21: W291 trailing whitespace\n",
      "4:17: W291 trailing whitespace\n",
      "5:1: W293 blank line contains whitespace\n",
      "6:42: W291 trailing whitespace\n",
      "7:25: W291 trailing whitespace\n",
      "8:5: E115 expected an indented block (comment)\n",
      "8:79: W291 trailing whitespace\n",
      "9:1: W293 blank line contains whitespace\n",
      "10:47: W291 trailing whitespace\n",
      "11:34: W291 trailing whitespace\n",
      "12:1: W293 blank line contains whitespace\n",
      "13:49: W291 trailing whitespace\n",
      "14:51: W291 trailing whitespace\n",
      "15:36: W291 trailing whitespace\n",
      "33: E203 whitespace before ':'\n",
      "16:35: W291 trailing whitespace\n"
     ]
    }
   ],
   "source": [
    "### EXAMPLE\n",
    "\n",
    "# def bubbleSort(arr): \n",
    "#     n = len(arr) \n",
    "  \n",
    "#     # Traverse through all array elements \n",
    "#     for i in range(n-1): \n",
    "#     # range(n) also work but outer loop will repeat one time more than needed. \n",
    "  \n",
    "#         # Last i elements are already in place \n",
    "#         for j in range(0, n-i-1): \n",
    "  \n",
    "#             # traverse the array from 0 to n-i-1 \n",
    "#             # Swap if the element found is greater \n",
    "#             # than the next element \n",
    "#             if arr[j] > arr[j+1] : \n",
    "#                 arr[j], arr[j+1] = arr[j+1], arr[j] "
   ]
  },
  {
   "cell_type": "code",
   "execution_count": 47,
   "metadata": {
    "deletable": false,
    "editable": false,
    "nbgrader": {
     "cell_type": "code",
     "checksum": "69617d19979f0fe824039bf4dd58bcc7",
     "grade": true,
     "grade_id": "quick-acc",
     "locked": true,
     "points": 0.5,
     "schema_version": 3,
     "solution": false,
     "task": false
    }
   },
   "outputs": [],
   "source": [
    "assert quicksort([1, 2, 3, 4]) == [1, 2, 3, 4]\n",
    "assert quicksort([6]) == [6]"
   ]
  },
  {
   "cell_type": "code",
   "execution_count": 48,
   "metadata": {
    "deletable": false,
    "editable": false,
    "nbgrader": {
     "cell_type": "code",
     "checksum": "78abdedcfa15fa1b853753168b053685",
     "grade": true,
     "grade_id": "quick-acc-2",
     "locked": true,
     "points": 0.5,
     "schema_version": 3,
     "solution": false,
     "task": false
    }
   },
   "outputs": [],
   "source": [
    "assert quicksort([]) == []"
   ]
  },
  {
   "cell_type": "code",
   "execution_count": 49,
   "metadata": {
    "deletable": false,
    "editable": false,
    "nbgrader": {
     "cell_type": "code",
     "checksum": "96b1f55000102540648b6da0a3a4a161",
     "grade": true,
     "grade_id": "bubble-acc",
     "locked": true,
     "points": 0.5,
     "schema_version": 3,
     "solution": false,
     "task": false
    }
   },
   "outputs": [],
   "source": [
    "assert bubblesort([1, 2, 3, 4]) == [1, 2, 3, 4]"
   ]
  },
  {
   "cell_type": "code",
   "execution_count": 50,
   "metadata": {
    "deletable": false,
    "editable": false,
    "nbgrader": {
     "cell_type": "code",
     "checksum": "453102e7c69f02223d0879a436277ffb",
     "grade": true,
     "grade_id": "bubble-acc-2",
     "locked": true,
     "points": 0.5,
     "schema_version": 3,
     "solution": false,
     "task": false
    }
   },
   "outputs": [],
   "source": [
    "assert bubblesort([6]) == [6]"
   ]
  },
  {
   "cell_type": "code",
   "execution_count": 51,
   "metadata": {
    "deletable": false,
    "editable": false,
    "nbgrader": {
     "cell_type": "code",
     "checksum": "22020bc89b012b9b3e10c3f25f58e559",
     "grade": true,
     "grade_id": "merge-acc",
     "locked": true,
     "points": 0.5,
     "schema_version": 3,
     "solution": false,
     "task": false
    }
   },
   "outputs": [],
   "source": [
    "assert mergesort([1, 2, 3, 4]) == [1, 2, 3, 4]"
   ]
  },
  {
   "cell_type": "code",
   "execution_count": 52,
   "metadata": {
    "deletable": false,
    "editable": false,
    "nbgrader": {
     "cell_type": "code",
     "checksum": "8937f4370fc19dea7b4ed00d2ac85dc0",
     "grade": true,
     "grade_id": "merge-acc-2",
     "locked": true,
     "points": 0.5,
     "schema_version": 3,
     "solution": false,
     "task": false
    }
   },
   "outputs": [],
   "source": [
    "assert mergesort([6]) == [6]"
   ]
  },
  {
   "cell_type": "markdown",
   "metadata": {
    "deletable": false,
    "editable": false,
    "nbgrader": {
     "cell_type": "markdown",
     "checksum": "e4d3c4ee8eac8919ebdcf52532245d9b",
     "grade": false,
     "grade_id": "cell-452659ed283cee58",
     "locked": true,
     "schema_version": 3,
     "solution": false,
     "task": false
    }
   },
   "source": [
    "2. <b>(2 points)</b> The Wikipedia page on sorting algorithms includes information about best-, average- and worst-case runtimes for a number of sorting algorithms: https://en.wikipedia.org/wiki/Sorting_algorithm#Comparison_of_algorithms. Note that our three algorithms differ in some of these. For example, merge sort and quicksort both have $O(n log n)$ average-case runtime, while bubble sort is $O(n^2)$ runtime in both the average and worst case. Write a function called `run_timing_expt`, which takes a list of numbers (ints and/or floats) as its only input. Calling this function should run each of the three sorting algorithms implemented in the previous subproblem on the given list, timing each call. The function should return a tuple of floats `(t_merge, t_quick, t_bubble)` corresponding to the times that it took to sort the input list with merge sort, quicksort and bubble sort, respectively."
   ]
  },
  {
   "cell_type": "code",
   "execution_count": 53,
   "metadata": {
    "deletable": false,
    "nbgrader": {
     "cell_type": "code",
     "checksum": "c5a13f9a7c3e37a77d4106b3e670df47",
     "grade": false,
     "grade_id": "cell-a88f18eacfa5f64d",
     "locked": false,
     "schema_version": 3,
     "solution": true,
     "task": false
    }
   },
   "outputs": [
    {
     "name": "stderr",
     "output_type": "stream",
     "text": [
      "6:1: W293 blank line contains whitespace\n",
      "10:1: W293 blank line contains whitespace\n",
      "14:1: W293 blank line contains whitespace\n"
     ]
    }
   ],
   "source": [
    "# YOUR CODE HERE\n",
    "def run_timing_expt(num_lst):\n",
    "    start_time = time.time()\n",
    "    mergesort(num_lst)\n",
    "    t_merge = time.time() - start_time\n",
    "    \n",
    "    start_time = time.time()\n",
    "    quicksort(num_lst)\n",
    "    t_quick = time.time() - start_time\n",
    "    \n",
    "    start_time = time.time()\n",
    "    bubblesort(num_lst)\n",
    "    t_bubble = time.time() - start_time\n",
    "    \n",
    "    return (t_merge, t_quick, t_bubble)"
   ]
  },
  {
   "cell_type": "code",
   "execution_count": 54,
   "metadata": {},
   "outputs": [
    {
     "data": {
      "text/plain": [
       "(6.008148193359375e-05, 4.291534423828125e-05, 5.9604644775390625e-06)"
      ]
     },
     "execution_count": 54,
     "metadata": {},
     "output_type": "execute_result"
    }
   ],
   "source": [
    "run_timing_expt([1, 2, 3, 4, 7, 9, 12, 8, 5, 6, 7, 8, 3, 4556, 3])"
   ]
  },
  {
   "cell_type": "code",
   "execution_count": 38,
   "metadata": {},
   "outputs": [
    {
     "name": "stderr",
     "output_type": "stream",
     "text": [
      "4:77: E261 at least two spaces before inline comment\n",
      "5:77: E261 at least two spaces before inline comment\n"
     ]
    },
    {
     "name": "stdout",
     "output_type": "stream",
     "text": [
      "         337 function calls (309 primitive calls) in 0.000 seconds\n",
      "\n",
      "   Ordered by: standard name\n",
      "\n",
      "   ncalls  tottime  percall  cumtime  percall filename:lineno(function)\n",
      "     29/1    0.000    0.000    0.000    0.000 <ipython-input-22-85005725ab81>:2(mergesort)\n",
      "        1    0.000    0.000    0.000    0.000 <string>:1(<module>)\n",
      "        1    0.000    0.000    0.000    0.000 {built-in method builtins.exec}\n",
      "      187    0.000    0.000    0.000    0.000 {built-in method builtins.len}\n",
      "       59    0.000    0.000    0.000    0.000 {method 'append' of 'list' objects}\n",
      "        1    0.000    0.000    0.000    0.000 {method 'disable' of '_lsprof.Profiler' objects}\n",
      "       59    0.000    0.000    0.000    0.000 {method 'pop' of 'list' objects}\n",
      "\n",
      "\n",
      "         122 function calls (104 primitive calls) in 0.000 seconds\n",
      "\n",
      "   Ordered by: standard name\n",
      "\n",
      "   ncalls  tottime  percall  cumtime  percall filename:lineno(function)\n",
      "     19/1    0.000    0.000    0.000    0.000 <ipython-input-23-36df8ec6a3db>:2(quicksort)\n",
      "        1    0.000    0.000    0.000    0.000 <string>:1(<module>)\n",
      "        1    0.000    0.000    0.000    0.000 {built-in method builtins.exec}\n",
      "       28    0.000    0.000    0.000    0.000 {built-in method builtins.len}\n",
      "       72    0.000    0.000    0.000    0.000 {method 'append' of 'list' objects}\n",
      "        1    0.000    0.000    0.000    0.000 {method 'disable' of '_lsprof.Profiler' objects}\n",
      "\n",
      "\n",
      "         6 function calls in 0.000 seconds\n",
      "\n",
      "   Ordered by: standard name\n",
      "\n",
      "   ncalls  tottime  percall  cumtime  percall filename:lineno(function)\n",
      "        1    0.000    0.000    0.000    0.000 <ipython-input-24-ae7638340812>:2(bubblesort)\n",
      "        1    0.000    0.000    0.000    0.000 <string>:1(<module>)\n",
      "        1    0.000    0.000    0.000    0.000 {built-in method builtins.exec}\n",
      "        2    0.000    0.000    0.000    0.000 {built-in method builtins.len}\n",
      "        1    0.000    0.000    0.000    0.000 {method 'disable' of '_lsprof.Profiler' objects}\n",
      "\n",
      "\n"
     ]
    }
   ],
   "source": [
    "# run_timing_expt([1, 2, 3, 4])\n",
    "import cProfile\n",
    "\n",
    "cProfile.run('mergesort([1, 2, 3, 4, 7, 9, 12, 8, 5, 6, 7, 8, 3, 4556, 3])')# 0.000 seconds\n",
    "cProfile.run('quicksort([1, 2, 3, 4, 7, 9, 12, 8, 5, 6, 7, 8, 3, 4556, 3])') # 0.000 seconds\n",
    "cProfile.run('bubblesort([1, 2, 3, 4, 7, 9, 12, 8, 5, 6, 7, 8, 3, 4556, 3])')"
   ]
  },
  {
   "cell_type": "markdown",
   "metadata": {
    "deletable": false,
    "editable": false,
    "nbgrader": {
     "cell_type": "markdown",
     "checksum": "f61d28b06024ac9394f7351eb8bfdd5b",
     "grade": false,
     "grade_id": "cell-e05e5c6d90295995",
     "locked": true,
     "schema_version": 3,
     "solution": false,
     "task": false
    }
   },
   "source": [
    "3. <b>(1 point)</b> Now, we will use the functions defined in the previous two subproblems to explore the behavior of these three sorting algorithms on different kinds of input lists. First, let’s see what happens when we pass an already-sorted list. For $n = 500, 1000, 1500, 2000, 2500$, call `run_timing_expt(list(range(n)))` 20 times. Make a plot that shows the average runtime of the three sorting algorithms as a function of the input size n. Please include error bars in your plot indicating 2 standard errors of the mean. Please store the means in the variables `mean500`, `mean1000`, `mean1500`, `mean2000`, `mean2500`, and your standard deviations (1 sd) in the variables `sd500`, `sd1000`, `sd1500`, `sd2000`, `sd2500`. Using the square root of `np.var` is acceptable for this question. Note that if you call quicksort on an already-sorted list of size much larger than 2500 you will encounter a recursion depth error (assuming that you are running with the default maximum recursion depth of 5000). Why is this the case? Under more realistic conditions, this would cause quicksort to be slow. In this case, it simply causes quicksort to be unusable for even moderately large inputs.\n",
    "\n",
    "   Please store your mean values "
   ]
  },
  {
   "cell_type": "code",
   "execution_count": null,
   "metadata": {
    "deletable": false,
    "nbgrader": {
     "cell_type": "code",
     "checksum": "b205391079d0b097c0d8abb1000ac2f6",
     "grade": false,
     "grade_id": "cell-48a4f2f624865a7d",
     "locked": false,
     "schema_version": 3,
     "solution": true,
     "task": false
    }
   },
   "outputs": [],
   "source": [
    "# YOUR CODE HERE\n",
    "# n_lst = [500, 1000, 1500, 2000, 2500]\n",
    "# for n in n_lst:\n",
    "# run_timing_expt(list(range(n)))\n",
    "    \n"
   ]
  },
  {
   "cell_type": "code",
   "execution_count": null,
   "metadata": {
    "deletable": false,
    "editable": false,
    "nbgrader": {
     "cell_type": "code",
     "checksum": "11f981b8776d42feadcc1a69e47346d0",
     "grade": true,
     "grade_id": "cell-comparison",
     "locked": true,
     "points": 1,
     "schema_version": 3,
     "solution": false,
     "task": false
    }
   },
   "outputs": [],
   "source": [
    "assert mean500[2] < mean500[0]"
   ]
  },
  {
   "cell_type": "markdown",
   "metadata": {
    "deletable": false,
    "editable": false,
    "nbgrader": {
     "cell_type": "markdown",
     "checksum": "ce718abe9fd4e95719dd2cce336c6dbe",
     "grade": false,
     "grade_id": "cell-b9ae99b915793d63",
     "locked": true,
     "schema_version": 3,
     "solution": false,
     "task": false
    }
   },
   "source": [
    "4. <b>(1 point)</b> Run the same experiment, but this time with the input being a list sorted in descending order. That is, you should run 20 trials of `run_timing_expt(sorted(list(range(n)), reverse=True))` for $n = 500, 1000, 1500, 2000, 2500$. Again make a plot summarizing the results and including an appropriate title and axis labels. Please include error bars in your plot indicating 2 standard errors of the mean. Please store the means in the variables `mean500rev`, `mean1000rev`, `mean1500rev`, `mean2000rev`, `mean2500rev`, and your standard deviations (1 sd) in the variables `sd500rev`, `sd1000rev`, `sd1500rev`, `sd2000rev`, `sd2500rev`."
   ]
  },
  {
   "cell_type": "code",
   "execution_count": null,
   "metadata": {
    "deletable": false,
    "nbgrader": {
     "cell_type": "code",
     "checksum": "c74208b5e73e03ead2e0b491232f8edd",
     "grade": false,
     "grade_id": "cell-4",
     "locked": false,
     "schema_version": 3,
     "solution": true,
     "task": false
    }
   },
   "outputs": [],
   "source": [
    "# YOUR CODE HERE\n",
    "raise NotImplementedError()"
   ]
  },
  {
   "cell_type": "code",
   "execution_count": null,
   "metadata": {
    "deletable": false,
    "editable": false,
    "nbgrader": {
     "cell_type": "code",
     "checksum": "f3f3fee62c12adb463b8cf8caa26dfe8",
     "grade": true,
     "grade_id": "cell-bd1178de2022c59a",
     "locked": true,
     "points": 2,
     "schema_version": 3,
     "solution": false,
     "task": false
    }
   },
   "outputs": [],
   "source": [
    "assert mean500rev[1] < mean500rev[2]"
   ]
  },
  {
   "cell_type": "markdown",
   "metadata": {
    "deletable": false,
    "editable": false,
    "nbgrader": {
     "cell_type": "markdown",
     "checksum": "349b0f9a2fa4293024ab43ebc513bbdd",
     "grade": false,
     "grade_id": "cell-4d1878456adef99f",
     "locked": true,
     "schema_version": 3,
     "solution": false,
     "task": false
    }
   },
   "source": [
    "5. <b>(1 point)</b> Run the same experiment, but this time on random inputs. That is, for each value of n in the previous subproblem, run 20 independent trials of `run_timing_expt([random.random() for _ in range(n)])`. Again make a plot summarizing the results and including an appropriate title and axis labels. Please include error bars in your plot indicating 2 standard errors of the mean. Please store the means in the variables `mean500rand`, `mean1000rand`, `mean1500rand`, `mean2000rand`, `mean2500rand`, and your standard deviations (1 sd) in the variables `sd500rand`, `sd1000rand`, `sd1500rand`, `sd2000rand`, `sd2500rand`."
   ]
  },
  {
   "cell_type": "code",
   "execution_count": null,
   "metadata": {
    "deletable": false,
    "nbgrader": {
     "cell_type": "code",
     "checksum": "196b9fedd1d74cd100e3fb7c7e69c903",
     "grade": false,
     "grade_id": "cell-5",
     "locked": false,
     "schema_version": 3,
     "solution": true,
     "task": false
    }
   },
   "outputs": [],
   "source": [
    "# YOUR CODE HERE\n",
    "raise NotImplementedError()"
   ]
  },
  {
   "cell_type": "code",
   "execution_count": null,
   "metadata": {
    "deletable": false,
    "editable": false,
    "nbgrader": {
     "cell_type": "code",
     "checksum": "a2629a4dcf45c33906264a9506ce18f2",
     "grade": true,
     "grade_id": "cell-515da43b772afb60",
     "locked": true,
     "points": 2,
     "schema_version": 3,
     "solution": false,
     "task": false
    }
   },
   "outputs": [],
   "source": [
    "assert mean500rand[2] > mean500rand[1]"
   ]
  }
 ],
 "metadata": {
  "kernelspec": {
   "display_name": "Python 3",
   "language": "python",
   "name": "python3"
  },
  "language_info": {
   "codemirror_mode": {
    "name": "ipython",
    "version": 3
   },
   "file_extension": ".py",
   "mimetype": "text/x-python",
   "name": "python",
   "nbconvert_exporter": "python",
   "pygments_lexer": "ipython3",
   "version": "3.8.3"
  }
 },
 "nbformat": 4,
 "nbformat_minor": 2
}
